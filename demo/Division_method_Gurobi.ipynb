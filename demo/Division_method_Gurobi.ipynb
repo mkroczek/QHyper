{
 "cells": [
  {
   "cell_type": "code",
   "execution_count": null,
   "id": "initial_id",
   "metadata": {
    "collapsed": true
   },
   "outputs": [],
   "source": [
    "import wfcommons.wfchef.utils as utils\n",
    "\n",
    "from QHyper.problems.algorithms.utils import wfworkflow_to_qhyper_workflow, merge_subworkflows\n",
    "from QHyper.problems.algorithms.workflow_decomposition import HeftBasedAlgorithm\n",
    "from QHyper.problems.workflow_scheduling import Workflow, WorkflowSchedulingProblem\n",
    "from QHyper.solvers.gurobi import Gurobi"
   ]
  },
  {
   "cell_type": "markdown",
   "source": [
    "## Load and divide workflow"
   ],
   "metadata": {
    "collapsed": false
   },
   "id": "199c58d6038b0538"
  },
  {
   "cell_type": "code",
   "execution_count": null,
   "outputs": [],
   "source": [
    "tasks_file = \"workflows_data/workflows/complex_workflow.json\"\n",
    "machines_file = \"workflows_data/machines/machines_for_3_tasks_3_machines_1_path.json\"\n",
    "deadline = 50"
   ],
   "metadata": {
    "collapsed": false
   },
   "id": "1db5ef6c0face7e"
  },
  {
   "cell_type": "code",
   "execution_count": null,
   "outputs": [],
   "source": [
    "workflow = Workflow(tasks_file, machines_file, deadline)\n",
    "utils.draw(workflow.wf_instance.workflow, with_labels=True)"
   ],
   "metadata": {
    "collapsed": false
   },
   "id": "5529695e03db4a46"
  },
  {
   "cell_type": "code",
   "execution_count": null,
   "outputs": [],
   "source": [
    "wf_workflow1, wf_workflow2 = HeftBasedAlgorithm().decompose(workflow, 2)\n",
    "merged = merge_subworkflows([wf_workflow1, wf_workflow2])\n",
    "utils.draw(merged, with_labels=True)"
   ],
   "metadata": {
    "collapsed": false
   },
   "id": "5738f56c01dd742b"
  },
  {
   "cell_type": "code",
   "execution_count": null,
   "outputs": [],
   "source": [
    "workflow1 = wfworkflow_to_qhyper_workflow(wf_workflow1, machines_file, deadline / 2)\n",
    "workflow2 = wfworkflow_to_qhyper_workflow(wf_workflow2, machines_file, deadline / 2)\n",
    "wsp1 = WorkflowSchedulingProblem(workflow1)\n",
    "wsp2 = WorkflowSchedulingProblem(workflow2)"
   ],
   "metadata": {
    "collapsed": false
   },
   "id": "5825144a39a755f7"
  },
  {
   "cell_type": "markdown",
   "source": [
    "## Solve the Workflow Schedluling Problem with the Gurobi solver."
   ],
   "metadata": {
    "collapsed": false
   },
   "id": "97c8a35a2edcfdd8"
  },
  {
   "cell_type": "code",
   "execution_count": null,
   "outputs": [],
   "source": [
    "gurobi1 = Gurobi(problem=wsp1)\n",
    "gurobi2 = Gurobi(problem=wsp2)\n",
    "\n",
    "solution_gurobi1 = gurobi1.solve(params_inits={\"name\": \"wsp1\"})\n",
    "solution_gurobi2 = gurobi2.solve(params_inits={\"name\": \"wsp2\"})"
   ],
   "metadata": {
    "collapsed": false
   },
   "id": "7c8999085a2042c7"
  },
  {
   "cell_type": "code",
   "execution_count": null,
   "outputs": [],
   "source": [
    "solution1 = wsp1.decode_solution(solution_gurobi1)\n",
    "solution2 = wsp2.decode_solution(solution_gurobi2)\n",
    "\n",
    "print(f\"Task assignment for first subgraph: {solution1}\")\n",
    "print(f\"Task assignment for second subgraph: {solution2}\")"
   ],
   "metadata": {
    "collapsed": false
   },
   "id": "9318e4d5bb3ddb2d"
  },
  {
   "cell_type": "code",
   "execution_count": null,
   "outputs": [],
   "source": [
    "cost1 = wsp1.calculate_solution_cost(solution1)\n",
    "time1 = wsp2.calculate_solution_timespan(solution1)\n",
    "print(f\"Cost of running first subworkflow: {cost1}\")\n",
    "print(f\"Time of running first subworkflow: {time1}\")\n",
    "\n",
    "cost2 = wsp2.calculate_solution_cost(solution2)\n",
    "time2 = wsp2.calculate_solution_timespan(solution2)\n",
    "print(f\"Cost of running second subworkflow: {cost2}\")\n",
    "print(f\"Time of running second subworkflow: {time2}\")\n",
    "\n",
    "print(f\"Cost of running full workflow: {cost1 + cost2}\")\n",
    "print(f\"Time of running full workflow: {time1 + time2}\")"
   ],
   "metadata": {
    "collapsed": false
   },
   "id": "c8d6040638c67425"
  },
  {
   "cell_type": "markdown",
   "source": [
    "## Version without split on Gurobi"
   ],
   "metadata": {
    "collapsed": false
   },
   "id": "5601a763c8be0373"
  },
  {
   "cell_type": "code",
   "execution_count": null,
   "outputs": [],
   "source": [
    "wsp = WorkflowSchedulingProblem(workflow)\n",
    "gurobi = Gurobi(problem=wsp)\n",
    "solution_gurobi = gurobi.solve(params_inits = {\"name\": \"wsp\"})"
   ],
   "metadata": {
    "collapsed": false
   },
   "id": "edc941ea74c2e7ab"
  },
  {
   "cell_type": "code",
   "execution_count": null,
   "outputs": [],
   "source": [
    "solution = wsp.decode_solution(solution_gurobi)\n",
    "print(f\"Task assignment for full graph: {solution}\")"
   ],
   "metadata": {
    "collapsed": false
   },
   "id": "d4b0263e45157cd5"
  },
  {
   "cell_type": "code",
   "execution_count": null,
   "outputs": [],
   "source": [
    "print(f\"Cost of running full workflow: {wsp.calculate_solution_cost(solution)}\")\n",
    "print(f\"Time of running full workflow: {wsp.calculate_solution_timespan(solution)}\")"
   ],
   "metadata": {
    "collapsed": false
   },
   "id": "80fc7b51c719a618"
  }
 ],
 "metadata": {
  "kernelspec": {
   "display_name": "Python 3",
   "language": "python",
   "name": "python3"
  },
  "language_info": {
   "codemirror_mode": {
    "name": "ipython",
    "version": 2
   },
   "file_extension": ".py",
   "mimetype": "text/x-python",
   "name": "python",
   "nbconvert_exporter": "python",
   "pygments_lexer": "ipython2",
   "version": "2.7.6"
  }
 },
 "nbformat": 4,
 "nbformat_minor": 5
}
