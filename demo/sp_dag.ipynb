{
 "cells": [
  {
   "cell_type": "code",
   "execution_count": 1,
   "id": "initial_id",
   "metadata": {
    "collapsed": true,
    "ExecuteTime": {
     "end_time": "2024-03-30T00:22:07.649123954Z",
     "start_time": "2024-03-30T00:22:06.318806244Z"
    }
   },
   "outputs": [],
   "source": [
    "import networkx as nx\n",
    "\n",
    "from QHyper.problems.algorithms.graph_utils import GraphDecorator, process_vertex, is_sp_dag\n",
    "from QHyper.problems.workflow_scheduling import Workflow"
   ]
  },
  {
   "cell_type": "code",
   "execution_count": 2,
   "outputs": [],
   "source": [
    "tasks_file =  \"workflows_data/workflows/4_tasks_2_paths.json\"\n",
    "machines_file = \"workflows_data/machines/3_machines.json\"\n",
    "deadline = 20"
   ],
   "metadata": {
    "collapsed": false,
    "ExecuteTime": {
     "end_time": "2024-03-30T00:22:08.257676518Z",
     "start_time": "2024-03-30T00:22:08.239654835Z"
    }
   },
   "id": "168bb3e1d424dc20"
  },
  {
   "cell_type": "code",
   "execution_count": 3,
   "outputs": [],
   "source": [
    "workflow = Workflow(tasks_file, machines_file, deadline)"
   ],
   "metadata": {
    "collapsed": false,
    "ExecuteTime": {
     "end_time": "2024-03-30T00:22:10.366636849Z",
     "start_time": "2024-03-30T00:22:10.339342818Z"
    }
   },
   "id": "b251eaa9f6455658"
  },
  {
   "cell_type": "code",
   "execution_count": 4,
   "outputs": [],
   "source": [
    "digraph = workflow.wf_instance.workflow"
   ],
   "metadata": {
    "collapsed": false,
    "ExecuteTime": {
     "end_time": "2024-03-30T00:22:11.238064097Z",
     "start_time": "2024-03-30T00:22:11.203527737Z"
    }
   },
   "id": "7b8cbae74793b845"
  },
  {
   "cell_type": "code",
   "execution_count": 8,
   "outputs": [],
   "source": [
    "digraph.add_dependency('Task2', 'Task3')"
   ],
   "metadata": {
    "collapsed": false,
    "ExecuteTime": {
     "end_time": "2024-03-30T00:23:56.488416860Z",
     "start_time": "2024-03-30T00:23:56.404281775Z"
    }
   },
   "id": "fa07a2d5ecc54f5b"
  },
  {
   "cell_type": "code",
   "execution_count": 9,
   "outputs": [
    {
     "data": {
      "text/plain": "False"
     },
     "execution_count": 9,
     "metadata": {},
     "output_type": "execute_result"
    }
   ],
   "source": [
    "is_sp_dag(digraph)"
   ],
   "metadata": {
    "collapsed": false,
    "ExecuteTime": {
     "end_time": "2024-03-30T00:23:58.483251753Z",
     "start_time": "2024-03-30T00:23:58.468107887Z"
    }
   },
   "id": "8be644c8f75313e0"
  }
 ],
 "metadata": {
  "kernelspec": {
   "display_name": "Python 3",
   "language": "python",
   "name": "python3"
  },
  "language_info": {
   "codemirror_mode": {
    "name": "ipython",
    "version": 2
   },
   "file_extension": ".py",
   "mimetype": "text/x-python",
   "name": "python",
   "nbconvert_exporter": "python",
   "pygments_lexer": "ipython2",
   "version": "2.7.6"
  }
 },
 "nbformat": 4,
 "nbformat_minor": 5
}
