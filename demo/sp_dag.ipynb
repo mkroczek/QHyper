{
 "cells": [
  {
   "cell_type": "code",
   "execution_count": 9,
   "id": "initial_id",
   "metadata": {
    "collapsed": true,
    "ExecuteTime": {
     "end_time": "2024-04-02T18:17:28.013806716Z",
     "start_time": "2024-04-02T18:17:26.373940663Z"
    }
   },
   "outputs": [],
   "source": [
    "import networkx as nx\n",
    "from anytree import Node\n",
    "\n",
    "from QHyper.problems.algorithms.graph_utils import GraphDecorator, process_vertex, is_sp_dag, label_edges, get_sp_decomposition_tree, apply_weights_on_tree\n",
    "from QHyper.problems.workflow_scheduling import Workflow"
   ]
  },
  {
   "cell_type": "code",
   "execution_count": 3,
   "outputs": [],
   "source": [
    "tasks_file =  \"workflows_data/workflows/4_tasks_2_paths.json\"\n",
    "machines_file = \"workflows_data/machines/3_machines.json\"\n",
    "deadline = 20"
   ],
   "metadata": {
    "collapsed": false,
    "ExecuteTime": {
     "end_time": "2024-04-02T18:15:21.271621018Z",
     "start_time": "2024-04-02T18:15:21.262739408Z"
    }
   },
   "id": "168bb3e1d424dc20"
  },
  {
   "cell_type": "code",
   "execution_count": 4,
   "outputs": [],
   "source": [
    "workflow = Workflow(tasks_file, machines_file, deadline)"
   ],
   "metadata": {
    "collapsed": false,
    "ExecuteTime": {
     "end_time": "2024-04-02T18:15:23.387174737Z",
     "start_time": "2024-04-02T18:15:23.158338594Z"
    }
   },
   "id": "b251eaa9f6455658"
  },
  {
   "cell_type": "code",
   "execution_count": 5,
   "outputs": [],
   "source": [
    "digraph = workflow.wf_instance.workflow"
   ],
   "metadata": {
    "collapsed": false,
    "ExecuteTime": {
     "end_time": "2024-04-02T18:15:26.055609510Z",
     "start_time": "2024-04-02T18:15:26.013002671Z"
    }
   },
   "id": "7b8cbae74793b845"
  },
  {
   "cell_type": "code",
   "execution_count": 5,
   "outputs": [],
   "source": [
    "digraph.add_dependency('Task2', 'Task3')"
   ],
   "metadata": {
    "collapsed": false,
    "ExecuteTime": {
     "end_time": "2024-03-30T19:25:59.026171929Z",
     "start_time": "2024-03-30T19:25:59.014565720Z"
    }
   },
   "id": "fa07a2d5ecc54f5b"
  },
  {
   "cell_type": "code",
   "execution_count": 6,
   "outputs": [
    {
     "data": {
      "text/plain": "True"
     },
     "execution_count": 6,
     "metadata": {},
     "output_type": "execute_result"
    }
   ],
   "source": [
    "is_sp_dag(digraph)"
   ],
   "metadata": {
    "collapsed": false,
    "ExecuteTime": {
     "end_time": "2024-04-02T18:15:32.455867417Z",
     "start_time": "2024-04-02T18:15:32.441858723Z"
    }
   },
   "id": "8be644c8f75313e0"
  },
  {
   "cell_type": "code",
   "execution_count": 7,
   "outputs": [],
   "source": [
    "weights = {\n",
    "    'Task1': 3,\n",
    "    'Task2': 1,\n",
    "    'Task3': 2,\n",
    "    'Task4': 2,\n",
    "}"
   ],
   "metadata": {
    "collapsed": false,
    "ExecuteTime": {
     "end_time": "2024-04-02T18:16:30.526636728Z",
     "start_time": "2024-04-02T18:16:29.933632166Z"
    }
   },
   "id": "4a5316ff1c3cf827"
  },
  {
   "cell_type": "code",
   "execution_count": 8,
   "outputs": [],
   "source": [
    "tree = get_sp_decomposition_tree(digraph)"
   ],
   "metadata": {
    "collapsed": false,
    "ExecuteTime": {
     "end_time": "2024-04-02T18:17:09.036309399Z",
     "start_time": "2024-04-02T18:17:08.468906066Z"
    }
   },
   "id": "f27b2dd55d0af81a"
  },
  {
   "cell_type": "code",
   "execution_count": 10,
   "outputs": [],
   "source": [
    "apply_weights_on_tree(tree, weights)"
   ],
   "metadata": {
    "collapsed": false,
    "ExecuteTime": {
     "end_time": "2024-04-02T18:17:34.726601923Z",
     "start_time": "2024-04-02T18:17:34.718678683Z"
    }
   },
   "id": "cc0524de44314e1e"
  },
  {
   "cell_type": "code",
   "execution_count": 19,
   "outputs": [
    {
     "name": "stdout",
     "output_type": "stream",
     "text": [
      "5\n"
     ]
    }
   ],
   "source": [
    "print(tree.children[0].children[0].weight)"
   ],
   "metadata": {
    "collapsed": false,
    "ExecuteTime": {
     "end_time": "2024-04-02T18:19:30.306291288Z",
     "start_time": "2024-04-02T18:19:30.228235551Z"
    }
   },
   "id": "3413849849af62eb"
  },
  {
   "cell_type": "code",
   "execution_count": 11,
   "outputs": [
    {
     "data": {
      "text/plain": "CompositionNode('/5e103a48-eecb-11ee-9a7d-9cda3eb5b16b', operation=<Composition.PARALLEL: 0>)"
     },
     "execution_count": 11,
     "metadata": {},
     "output_type": "execute_result"
    }
   ],
   "source": [
    "get_sp_decomposition_tree(digraph)"
   ],
   "metadata": {
    "collapsed": false,
    "ExecuteTime": {
     "end_time": "2024-03-30T19:26:11.913666838Z",
     "start_time": "2024-03-30T19:26:11.898013487Z"
    }
   },
   "id": "934e4a7e8ec82ba3"
  },
  {
   "cell_type": "code",
   "execution_count": 13,
   "outputs": [],
   "source": [
    "node = Node(\"test\")"
   ],
   "metadata": {
    "collapsed": false,
    "ExecuteTime": {
     "end_time": "2024-03-30T21:14:05.669969853Z",
     "start_time": "2024-03-30T21:14:05.582177689Z"
    }
   },
   "id": "f1cad28f896c4ba8"
  },
  {
   "cell_type": "code",
   "execution_count": 14,
   "outputs": [],
   "source": [
    "from anytree import Node, RenderTree\n",
    "root = Node(\"root\")\n",
    "s0 = Node(\"sub0\", parent=root)\n",
    "s0b = Node(\"sub0B\", parent=s0, foo=4, bar=109)\n",
    "s0a = Node(\"sub0A\", parent=s0)\n",
    "s1 = Node(\"sub1\", parent=root)\n",
    "s1a = Node(\"sub1A\", parent=s1)\n",
    "s1b = Node(\"sub1B\", parent=s1, bar=8)\n",
    "s1c = Node(\"sub1C\", parent=s1)\n",
    "s1ca = Node(\"sub1Ca\", parent=s1c)"
   ],
   "metadata": {
    "collapsed": false,
    "ExecuteTime": {
     "end_time": "2024-03-30T21:20:35.943901373Z",
     "start_time": "2024-03-30T21:20:35.822400543Z"
    }
   },
   "id": "e99a1453b1df5b9d"
  },
  {
   "cell_type": "code",
   "execution_count": 16,
   "outputs": [],
   "source": [
    "s0b.weight = 10"
   ],
   "metadata": {
    "collapsed": false,
    "ExecuteTime": {
     "end_time": "2024-03-30T21:23:09.436161474Z",
     "start_time": "2024-03-30T21:23:09.049870582Z"
    }
   },
   "id": "caf1ad56f556e880"
  },
  {
   "cell_type": "code",
   "execution_count": 19,
   "outputs": [],
   "source": [
    "s0b.siema = 10"
   ],
   "metadata": {
    "collapsed": false,
    "ExecuteTime": {
     "end_time": "2024-03-30T21:23:24.981648293Z",
     "start_time": "2024-03-30T21:23:24.913392248Z"
    }
   },
   "id": "fa86bb755e4be9ca"
  },
  {
   "cell_type": "code",
   "execution_count": 27,
   "outputs": [],
   "source": [
    "n = Node(('Task1', 'Task2'))"
   ],
   "metadata": {
    "collapsed": false,
    "ExecuteTime": {
     "end_time": "2024-03-30T21:52:32.000124310Z",
     "start_time": "2024-03-30T21:52:31.492618516Z"
    }
   },
   "id": "99aa5b1ea744face"
  },
  {
   "cell_type": "code",
   "execution_count": 28,
   "outputs": [],
   "source": [
    "u,v = n.name"
   ],
   "metadata": {
    "collapsed": false,
    "ExecuteTime": {
     "end_time": "2024-03-30T21:52:44.206040567Z",
     "start_time": "2024-03-30T21:52:44.130975823Z"
    }
   },
   "id": "da090809afb19205"
  },
  {
   "cell_type": "code",
   "execution_count": 29,
   "outputs": [
    {
     "name": "stdout",
     "output_type": "stream",
     "text": [
      "Task1\n",
      "Task2\n"
     ]
    }
   ],
   "source": [
    "print(u)\n",
    "print(v)"
   ],
   "metadata": {
    "collapsed": false,
    "ExecuteTime": {
     "end_time": "2024-03-30T21:52:54.649138169Z",
     "start_time": "2024-03-30T21:52:54.553431636Z"
    }
   },
   "id": "9048a1882d48543f"
  },
  {
   "cell_type": "code",
   "execution_count": 26,
   "outputs": [
    {
     "ename": "TypeError",
     "evalue": "argument of type 'Node' is not iterable",
     "output_type": "error",
     "traceback": [
      "\u001B[0;31m---------------------------------------------------------------------------\u001B[0m",
      "\u001B[0;31mTypeError\u001B[0m                                 Traceback (most recent call last)",
      "Cell \u001B[0;32mIn[26], line 1\u001B[0m\n\u001B[0;32m----> 1\u001B[0m \u001B[38;5;124;43m'\u001B[39;49m\u001B[38;5;124;43msiema\u001B[39;49m\u001B[38;5;124;43m'\u001B[39;49m\u001B[43m \u001B[49m\u001B[38;5;129;43;01min\u001B[39;49;00m\u001B[43m \u001B[49m\u001B[43ms0b\u001B[49m\n",
      "\u001B[0;31mTypeError\u001B[0m: argument of type 'Node' is not iterable"
     ]
    }
   ],
   "source": [
    "'siema' in s0b"
   ],
   "metadata": {
    "collapsed": false,
    "ExecuteTime": {
     "end_time": "2024-03-30T21:28:57.600921252Z",
     "start_time": "2024-03-30T21:28:57.232917632Z"
    }
   },
   "id": "d3d6a99ae94d27e4"
  }
 ],
 "metadata": {
  "kernelspec": {
   "display_name": "Python 3",
   "language": "python",
   "name": "python3"
  },
  "language_info": {
   "codemirror_mode": {
    "name": "ipython",
    "version": 2
   },
   "file_extension": ".py",
   "mimetype": "text/x-python",
   "name": "python",
   "nbconvert_exporter": "python",
   "pygments_lexer": "ipython2",
   "version": "2.7.6"
  }
 },
 "nbformat": 4,
 "nbformat_minor": 5
}
