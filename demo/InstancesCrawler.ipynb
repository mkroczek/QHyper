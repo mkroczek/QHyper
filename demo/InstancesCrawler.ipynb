{
 "cells": [
  {
   "cell_type": "code",
   "execution_count": 2,
   "id": "initial_id",
   "metadata": {
    "collapsed": true,
    "ExecuteTime": {
     "end_time": "2024-05-15T16:41:06.794534757Z",
     "start_time": "2024-05-15T16:41:06.708991718Z"
    }
   },
   "outputs": [],
   "source": [
    "from wfcommons import Instance\n",
    "import os"
   ]
  },
  {
   "cell_type": "code",
   "execution_count": 6,
   "outputs": [],
   "source": [
    "folder = \"/home/marcin/Programming/pegasus-instances/montage/chameleon-cloud\""
   ],
   "metadata": {
    "collapsed": false,
    "ExecuteTime": {
     "end_time": "2024-05-15T17:10:27.553863939Z",
     "start_time": "2024-05-15T17:10:27.155157938Z"
    }
   },
   "id": "b28cb1eed5a77218"
  },
  {
   "cell_type": "code",
   "execution_count": 7,
   "outputs": [],
   "source": [
    "def list_json_files(folder_path):\n",
    "    json_files = []\n",
    "    if not os.path.isdir(folder_path):\n",
    "        raise ValueError(f\"{folder_path} is not a folder\")\n",
    "\n",
    "    for file_name in os.listdir(folder_path):\n",
    "        full_path = os.path.join(folder_path, file_name)\n",
    "        if os.path.isfile(full_path) and full_path.endswith('.json'):\n",
    "            json_files.append(full_path)\n",
    "    return json_files\n",
    "\n",
    "def analyze(folder: str) -> dict[str, int]:\n",
    "    return {workflow: len(Instance(workflow).workflow.tasks) for workflow in list_json_files(folder)}"
   ],
   "metadata": {
    "collapsed": false,
    "ExecuteTime": {
     "end_time": "2024-05-15T17:10:29.321141962Z",
     "start_time": "2024-05-15T17:10:29.308661459Z"
    }
   },
   "id": "555b7e39af94cb3d"
  },
  {
   "cell_type": "code",
   "execution_count": 8,
   "outputs": [
    {
     "name": "stdout",
     "output_type": "stream",
     "text": [
      "{'/home/marcin/Programming/pegasus-instances/montage/chameleon-cloud/montage-chameleon-dss-15d-001.json': 2122, '/home/marcin/Programming/pegasus-instances/montage/chameleon-cloud/montage-chameleon-2mass-025d-001.json': 619, '/home/marcin/Programming/pegasus-instances/montage/chameleon-cloud/montage-chameleon-2mass-05d-001.json': 1738, '/home/marcin/Programming/pegasus-instances/montage/chameleon-cloud/montage-chameleon-2mass-04d-001.json': 1312, '/home/marcin/Programming/pegasus-instances/montage/chameleon-cloud/montage-chameleon-2mass-03d-001.json': 748, '/home/marcin/Programming/pegasus-instances/montage/chameleon-cloud/montage-chameleon-dss-075d-001.json': 178, '/home/marcin/Programming/pegasus-instances/montage/chameleon-cloud/montage-chameleon-2mass-01d-001.json': 103, '/home/marcin/Programming/pegasus-instances/montage/chameleon-cloud/montage-chameleon-2mass-005d-001.json': 58, '/home/marcin/Programming/pegasus-instances/montage/chameleon-cloud/montage-chameleon-dss-125d-001.json': 1066, '/home/marcin/Programming/pegasus-instances/montage/chameleon-cloud/montage-chameleon-dss-20d-001.json': 6448, '/home/marcin/Programming/pegasus-instances/montage/chameleon-cloud/montage-chameleon-dss-05d-001.json': 58, '/home/marcin/Programming/pegasus-instances/montage/chameleon-cloud/montage-chameleon-2mass-20d-001.json': 9805, '/home/marcin/Programming/pegasus-instances/montage/chameleon-cloud/montage-chameleon-2mass-02d-001.json': 619, '/home/marcin/Programming/pegasus-instances/montage/chameleon-cloud/montage-chameleon-2mass-015d-001.json': 310, '/home/marcin/Programming/pegasus-instances/montage/chameleon-cloud/montage-chameleon-dss-10d-001.json': 472, '/home/marcin/Programming/pegasus-instances/montage/chameleon-cloud/montage-chameleon-2mass-10d-001.json': 4846, '/home/marcin/Programming/pegasus-instances/montage/chameleon-cloud/montage-chameleon-2mass-15d-001.json': 7117}\n"
     ]
    }
   ],
   "source": [
    "print(analyze(folder))"
   ],
   "metadata": {
    "collapsed": false,
    "ExecuteTime": {
     "end_time": "2024-05-15T17:10:46.861941457Z",
     "start_time": "2024-05-15T17:10:32.269545466Z"
    }
   },
   "id": "112ffa36395bb80d"
  },
  {
   "cell_type": "code",
   "execution_count": 9,
   "outputs": [
    {
     "name": "stdout",
     "output_type": "stream",
     "text": [
      "{'/home/marcin/Programming/pegasus-instances/1000genome/chameleon-cloud/1000genome-chameleon-22ch-100k-001.json': 572, '/home/marcin/Programming/pegasus-instances/1000genome/chameleon-cloud/1000genome-chameleon-16ch-100k-001.json': 416, '/home/marcin/Programming/pegasus-instances/1000genome/chameleon-cloud/1000genome-chameleon-2ch-250k-001.json': 82, '/home/marcin/Programming/pegasus-instances/1000genome/chameleon-cloud/1000genome-chameleon-10ch-100k-001.json': 260, '/home/marcin/Programming/pegasus-instances/1000genome/chameleon-cloud/1000genome-chameleon-14ch-100k-001.json': 364, '/home/marcin/Programming/pegasus-instances/1000genome/chameleon-cloud/1000genome-chameleon-4ch-100k-001.json': 104, '/home/marcin/Programming/pegasus-instances/1000genome/chameleon-cloud/1000genome-chameleon-12ch-250k-001.json': 492, '/home/marcin/Programming/pegasus-instances/1000genome/chameleon-cloud/1000genome-chameleon-20ch-250k-001.json': 820, '/home/marcin/Programming/pegasus-instances/1000genome/chameleon-cloud/1000genome-chameleon-18ch-250k-001.json': 738, '/home/marcin/Programming/pegasus-instances/1000genome/chameleon-cloud/1000genome-chameleon-10ch-250k-001.json': 410, '/home/marcin/Programming/pegasus-instances/1000genome/chameleon-cloud/1000genome-chameleon-2ch-100k-001.json': 52, '/home/marcin/Programming/pegasus-instances/1000genome/chameleon-cloud/1000genome-chameleon-6ch-100k-001.json': 156, '/home/marcin/Programming/pegasus-instances/1000genome/chameleon-cloud/1000genome-chameleon-14ch-250k-001.json': 574, '/home/marcin/Programming/pegasus-instances/1000genome/chameleon-cloud/1000genome-chameleon-4ch-250k-001.json': 164, '/home/marcin/Programming/pegasus-instances/1000genome/chameleon-cloud/1000genome-chameleon-6ch-250k-001.json': 246, '/home/marcin/Programming/pegasus-instances/1000genome/chameleon-cloud/1000genome-chameleon-8ch-250k-001.json': 328, '/home/marcin/Programming/pegasus-instances/1000genome/chameleon-cloud/1000genome-chameleon-20ch-100k-001.json': 520, '/home/marcin/Programming/pegasus-instances/1000genome/chameleon-cloud/1000genome-chameleon-12ch-100k-001.json': 312, '/home/marcin/Programming/pegasus-instances/1000genome/chameleon-cloud/1000genome-chameleon-8ch-100k-001.json': 208, '/home/marcin/Programming/pegasus-instances/1000genome/chameleon-cloud/1000genome-chameleon-22ch-250k-001.json': 902, '/home/marcin/Programming/pegasus-instances/1000genome/chameleon-cloud/1000genome-chameleon-16ch-250k-001.json': 656, '/home/marcin/Programming/pegasus-instances/1000genome/chameleon-cloud/1000genome-chameleon-18ch-100k-001.json': 468}\n"
     ]
    }
   ],
   "source": [
    "print(analyze(\"/home/marcin/Programming/pegasus-instances/1000genome/chameleon-cloud\"))"
   ],
   "metadata": {
    "collapsed": false,
    "ExecuteTime": {
     "end_time": "2024-05-15T17:13:17.376273491Z",
     "start_time": "2024-05-15T17:13:15.323107865Z"
    }
   },
   "id": "71fd3c6b898d6a20"
  },
  {
   "cell_type": "code",
   "execution_count": 10,
   "outputs": [
    {
     "name": "stdout",
     "output_type": "stream",
     "text": [
      "{'/home/marcin/Programming/pegasus-instances/cycles/chameleon-cloud/cycles-chameleon-1l-1c-9p-001.json': 67, '/home/marcin/Programming/pegasus-instances/cycles/chameleon-cloud/cycles-chameleon-10l-1c-12p-001.json': 2181, '/home/marcin/Programming/pegasus-instances/cycles/chameleon-cloud/cycles-chameleon-5l-2c-9p-001.json': 662, '/home/marcin/Programming/pegasus-instances/cycles/chameleon-cloud/cycles-chameleon-2l-2c-12p-001.json': 874, '/home/marcin/Programming/pegasus-instances/cycles/chameleon-cloud/cycles-chameleon-10l-1c-9p-001.json': 661, '/home/marcin/Programming/pegasus-instances/cycles/chameleon-cloud/cycles-chameleon-5l-3c-9p-001.json': 993, '/home/marcin/Programming/pegasus-instances/cycles/chameleon-cloud/cycles-chameleon-1l-2c-12p-001.json': 438, '/home/marcin/Programming/pegasus-instances/cycles/chameleon-cloud/cycles-chameleon-1l-2c-9p-001.json': 134, '/home/marcin/Programming/pegasus-instances/cycles/chameleon-cloud/cycles-chameleon-5l-1c-12p-001.json': 1091, '/home/marcin/Programming/pegasus-instances/cycles/chameleon-cloud/cycles-chameleon-2l-3c-9p-001.json': 399, '/home/marcin/Programming/pegasus-instances/cycles/chameleon-cloud/cycles-chameleon-1l-1c-12p-001.json': 219, '/home/marcin/Programming/pegasus-instances/cycles/chameleon-cloud/cycles-chameleon-2l-3c-12p-001.json': 1311, '/home/marcin/Programming/pegasus-instances/cycles/chameleon-cloud/cycles-chameleon-2l-2c-9p-001.json': 266, '/home/marcin/Programming/pegasus-instances/cycles/chameleon-cloud/cycles-chameleon-10l-2c-12p-001.json': 4362, '/home/marcin/Programming/pegasus-instances/cycles/chameleon-cloud/cycles-chameleon-5l-2c-12p-001.json': 2182, '/home/marcin/Programming/pegasus-instances/cycles/chameleon-cloud/cycles-chameleon-2l-1c-12p-001.json': 437, '/home/marcin/Programming/pegasus-instances/cycles/chameleon-cloud/cycles-chameleon-5l-3c-12p-001.json': 3273, '/home/marcin/Programming/pegasus-instances/cycles/chameleon-cloud/cycles-chameleon-10l-3c-12p-001.json': 6543, '/home/marcin/Programming/pegasus-instances/cycles/chameleon-cloud/cycles-chameleon-10l-3c-9p-001.json': 1983, '/home/marcin/Programming/pegasus-instances/cycles/chameleon-cloud/cycles-chameleon-2l-1c-9p-001.json': 133, '/home/marcin/Programming/pegasus-instances/cycles/chameleon-cloud/cycles-chameleon-10l-2c-9p-001.json': 1322, '/home/marcin/Programming/pegasus-instances/cycles/chameleon-cloud/cycles-chameleon-1l-3c-12p-001.json': 657, '/home/marcin/Programming/pegasus-instances/cycles/chameleon-cloud/cycles-chameleon-5l-1c-9p-001.json': 331, '/home/marcin/Programming/pegasus-instances/cycles/chameleon-cloud/cycles-chameleon-1l-3c-9p-001.json': 201}\n"
     ]
    }
   ],
   "source": [
    "print(analyze(\"/home/marcin/Programming/pegasus-instances/cycles/chameleon-cloud\"))"
   ],
   "metadata": {
    "collapsed": false,
    "ExecuteTime": {
     "end_time": "2024-05-15T17:16:22.242206083Z",
     "start_time": "2024-05-15T17:15:59.173681121Z"
    }
   },
   "id": "d7434477872b29e4"
  },
  {
   "cell_type": "code",
   "execution_count": 11,
   "outputs": [
    {
     "name": "stdout",
     "output_type": "stream",
     "text": [
      "{'/home/marcin/Programming/pegasus-instances/epigenomics/chameleon-cloud/epigenomics-chameleon-hep-4seq-50k-001.json': 671, '/home/marcin/Programming/pegasus-instances/epigenomics/chameleon-cloud/epigenomics-chameleon-hep-3seq-50k-001.json': 445, '/home/marcin/Programming/pegasus-instances/epigenomics/chameleon-cloud/epigenomics-chameleon-hep-5seq-50k-001.json': 817, '/home/marcin/Programming/pegasus-instances/epigenomics/chameleon-cloud/epigenomics-chameleon-hep-6seq-100k-001.json': 507, '/home/marcin/Programming/pegasus-instances/epigenomics/chameleon-cloud/epigenomics-chameleon-ilmn-3seq-100k-001.json': 405, '/home/marcin/Programming/pegasus-instances/epigenomics/chameleon-cloud/epigenomics-chameleon-ilmn-6seq-50k-001.json': 1695, '/home/marcin/Programming/pegasus-instances/epigenomics/chameleon-cloud/epigenomics-chameleon-ilmn-5seq-100k-001.json': 713, '/home/marcin/Programming/pegasus-instances/epigenomics/chameleon-cloud/epigenomics-chameleon-hep-1seq-100k-001.json': 41, '/home/marcin/Programming/pegasus-instances/epigenomics/chameleon-cloud/epigenomics-chameleon-hep-7seq-50k-001.json': 1121, '/home/marcin/Programming/pegasus-instances/epigenomics/chameleon-cloud/epigenomics-chameleon-ilmn-2seq-50k-001.json': 515, '/home/marcin/Programming/pegasus-instances/epigenomics/chameleon-cloud/epigenomics-chameleon-hep-2seq-50k-001.json': 223, '/home/marcin/Programming/pegasus-instances/epigenomics/chameleon-cloud/epigenomics-chameleon-hep-4seq-100k-001.json': 347, '/home/marcin/Programming/pegasus-instances/epigenomics/chameleon-cloud/epigenomics-chameleon-hep-6seq-50k-001.json': 983, '/home/marcin/Programming/pegasus-instances/epigenomics/chameleon-cloud/epigenomics-chameleon-hep-1seq-50k-001.json': 73, '/home/marcin/Programming/pegasus-instances/epigenomics/chameleon-cloud/epigenomics-chameleon-ilmn-2seq-100k-001.json': 263, '/home/marcin/Programming/pegasus-instances/epigenomics/chameleon-cloud/epigenomics-chameleon-hep-7seq-100k-001.json': 577, '/home/marcin/Programming/pegasus-instances/epigenomics/chameleon-cloud/epigenomics-chameleon-ilmn-1seq-100k-001.json': 125, '/home/marcin/Programming/pegasus-instances/epigenomics/chameleon-cloud/epigenomics-chameleon-ilmn-4seq-50k-001.json': 1095, '/home/marcin/Programming/pegasus-instances/epigenomics/chameleon-cloud/epigenomics-chameleon-ilmn-4seq-100k-001.json': 559, '/home/marcin/Programming/pegasus-instances/epigenomics/chameleon-cloud/epigenomics-chameleon-hep-2seq-100k-001.json': 119, '/home/marcin/Programming/pegasus-instances/epigenomics/chameleon-cloud/epigenomics-chameleon-ilmn-3seq-50k-001.json': 793, '/home/marcin/Programming/pegasus-instances/epigenomics/chameleon-cloud/epigenomics-chameleon-hep-5seq-100k-001.json': 421, '/home/marcin/Programming/pegasus-instances/epigenomics/chameleon-cloud/epigenomics-chameleon-ilmn-1seq-50k-001.json': 241, '/home/marcin/Programming/pegasus-instances/epigenomics/chameleon-cloud/epigenomics-chameleon-ilmn-6seq-100k-001.json': 863, '/home/marcin/Programming/pegasus-instances/epigenomics/chameleon-cloud/epigenomics-chameleon-ilmn-5seq-50k-001.json': 1397, '/home/marcin/Programming/pegasus-instances/epigenomics/chameleon-cloud/epigenomics-chameleon-hep-3seq-100k-001.json': 233}\n"
     ]
    }
   ],
   "source": [
    "print(analyze(\"/home/marcin/Programming/pegasus-instances/epigenomics/chameleon-cloud\"))"
   ],
   "metadata": {
    "collapsed": false,
    "ExecuteTime": {
     "end_time": "2024-05-15T17:17:55.649887624Z",
     "start_time": "2024-05-15T17:17:51.561528601Z"
    }
   },
   "id": "9bfb68dc7dbb7c8f"
  },
  {
   "cell_type": "code",
   "execution_count": 12,
   "outputs": [
    {
     "name": "stdout",
     "output_type": "stream",
     "text": [
      "{'/home/marcin/Programming/pegasus-instances/seismology/chameleon-cloud/seismology-chameleon-800p-001.json': 801, '/home/marcin/Programming/pegasus-instances/seismology/chameleon-cloud/seismology-chameleon-700p-001.json': 701, '/home/marcin/Programming/pegasus-instances/seismology/chameleon-cloud/seismology-chameleon-1000p-001.json': 1001, '/home/marcin/Programming/pegasus-instances/seismology/chameleon-cloud/seismology-chameleon-500p-001.json': 501, '/home/marcin/Programming/pegasus-instances/seismology/chameleon-cloud/seismology-chameleon-1100p-001.json': 1101, '/home/marcin/Programming/pegasus-instances/seismology/chameleon-cloud/seismology-chameleon-200p-001.json': 201, '/home/marcin/Programming/pegasus-instances/seismology/chameleon-cloud/seismology-chameleon-100p-001.json': 101, '/home/marcin/Programming/pegasus-instances/seismology/chameleon-cloud/seismology-chameleon-900p-001.json': 901, '/home/marcin/Programming/pegasus-instances/seismology/chameleon-cloud/seismology-chameleon-300p-001.json': 301, '/home/marcin/Programming/pegasus-instances/seismology/chameleon-cloud/seismology-chameleon-400p-001.json': 401, '/home/marcin/Programming/pegasus-instances/seismology/chameleon-cloud/seismology-chameleon-600p-001.json': 601}\n"
     ]
    }
   ],
   "source": [
    "print(analyze(\"/home/marcin/Programming/pegasus-instances/seismology/chameleon-cloud\"))"
   ],
   "metadata": {
    "collapsed": false,
    "ExecuteTime": {
     "end_time": "2024-05-15T17:22:01.025308965Z",
     "start_time": "2024-05-15T17:21:59.414397515Z"
    }
   },
   "id": "e0e399aca1406b41"
  },
  {
   "cell_type": "code",
   "execution_count": 13,
   "outputs": [
    {
     "name": "stdout",
     "output_type": "stream",
     "text": [
      "{'/home/marcin/Programming/pegasus-instances/soykb/chameleon-cloud/soykb-chameleon-10fastq-10ch-001.json': 96, '/home/marcin/Programming/pegasus-instances/soykb/chameleon-cloud/soykb-chameleon-40fastq-20ch-001.json': 546, '/home/marcin/Programming/pegasus-instances/soykb/chameleon-cloud/soykb-chameleon-20fastq-20ch-001.json': 286, '/home/marcin/Programming/pegasus-instances/soykb/chameleon-cloud/soykb-chameleon-50fastq-20ch-001.json': 676, '/home/marcin/Programming/pegasus-instances/soykb/chameleon-cloud/soykb-chameleon-50fastq-10ch-001.json': 416, '/home/marcin/Programming/pegasus-instances/soykb/chameleon-cloud/soykb-chameleon-10fastq-20ch-001.json': 156, '/home/marcin/Programming/pegasus-instances/soykb/chameleon-cloud/soykb-chameleon-20fastq-10ch-001.json': 176, '/home/marcin/Programming/pegasus-instances/soykb/chameleon-cloud/soykb-chameleon-40fastq-10ch-001.json': 336, '/home/marcin/Programming/pegasus-instances/soykb/chameleon-cloud/soykb-chameleon-30fastq-10ch-001.json': 256, '/home/marcin/Programming/pegasus-instances/soykb/chameleon-cloud/soykb-chameleon-30fastq-20ch-001.json': 416}\n"
     ]
    }
   ],
   "source": [
    "print(analyze(\"/home/marcin/Programming/pegasus-instances/soykb/chameleon-cloud\"))"
   ],
   "metadata": {
    "collapsed": false,
    "ExecuteTime": {
     "end_time": "2024-05-15T17:23:12.199963752Z",
     "start_time": "2024-05-15T17:23:09.910539280Z"
    }
   },
   "id": "ed04ba5c0ddb40e1"
  },
  {
   "cell_type": "code",
   "execution_count": 14,
   "outputs": [
    {
     "name": "stdout",
     "output_type": "stream",
     "text": [
      "{'/home/marcin/Programming/pegasus-instances/srasearch/chameleon-cloud/srasearch-chameleon-20a-004.json': 42, '/home/marcin/Programming/pegasus-instances/srasearch/chameleon-cloud/srasearch-chameleon-10a-003.json': 22, '/home/marcin/Programming/pegasus-instances/srasearch/chameleon-cloud/srasearch-chameleon-50a-001.json': 104, '/home/marcin/Programming/pegasus-instances/srasearch/chameleon-cloud/srasearch-chameleon-20a-003.json': 42, '/home/marcin/Programming/pegasus-instances/srasearch/chameleon-cloud/srasearch-chameleon-30a-005.json': 64, '/home/marcin/Programming/pegasus-instances/srasearch/chameleon-cloud/srasearch-chameleon-20a-002.json': 42, '/home/marcin/Programming/pegasus-instances/srasearch/chameleon-cloud/srasearch-chameleon-30a-001.json': 64, '/home/marcin/Programming/pegasus-instances/srasearch/chameleon-cloud/srasearch-chameleon-10a-004.json': 22, '/home/marcin/Programming/pegasus-instances/srasearch/chameleon-cloud/srasearch-chameleon-50a-003.json': 104, '/home/marcin/Programming/pegasus-instances/srasearch/chameleon-cloud/srasearch-chameleon-40a-003.json': 84, '/home/marcin/Programming/pegasus-instances/srasearch/chameleon-cloud/srasearch-chameleon-30a-002.json': 64, '/home/marcin/Programming/pegasus-instances/srasearch/chameleon-cloud/srasearch-chameleon-20a-001.json': 42, '/home/marcin/Programming/pegasus-instances/srasearch/chameleon-cloud/srasearch-chameleon-40a-005.json': 84, '/home/marcin/Programming/pegasus-instances/srasearch/chameleon-cloud/srasearch-chameleon-30a-004.json': 64, '/home/marcin/Programming/pegasus-instances/srasearch/chameleon-cloud/srasearch-chameleon-20a-005.json': 42, '/home/marcin/Programming/pegasus-instances/srasearch/chameleon-cloud/srasearch-chameleon-50a-004.json': 104, '/home/marcin/Programming/pegasus-instances/srasearch/chameleon-cloud/srasearch-chameleon-30a-003.json': 64, '/home/marcin/Programming/pegasus-instances/srasearch/chameleon-cloud/srasearch-chameleon-40a-001.json': 84, '/home/marcin/Programming/pegasus-instances/srasearch/chameleon-cloud/srasearch-chameleon-40a-002.json': 84, '/home/marcin/Programming/pegasus-instances/srasearch/chameleon-cloud/srasearch-chameleon-50a-005.json': 104, '/home/marcin/Programming/pegasus-instances/srasearch/chameleon-cloud/srasearch-chameleon-40a-004.json': 84, '/home/marcin/Programming/pegasus-instances/srasearch/chameleon-cloud/srasearch-chameleon-10a-002.json': 22, '/home/marcin/Programming/pegasus-instances/srasearch/chameleon-cloud/srasearch-chameleon-10a-001.json': 22, '/home/marcin/Programming/pegasus-instances/srasearch/chameleon-cloud/srasearch-chameleon-10a-005.json': 22, '/home/marcin/Programming/pegasus-instances/srasearch/chameleon-cloud/srasearch-chameleon-50a-002.json': 104}\n"
     ]
    }
   ],
   "source": [
    "print(analyze(\"/home/marcin/Programming/pegasus-instances/srasearch/chameleon-cloud\"))"
   ],
   "metadata": {
    "collapsed": false,
    "ExecuteTime": {
     "end_time": "2024-05-15T17:26:35.082502421Z",
     "start_time": "2024-05-15T17:26:34.597750847Z"
    }
   },
   "id": "f038aa7a61b87d08"
  }
 ],
 "metadata": {
  "kernelspec": {
   "display_name": "Python 3",
   "language": "python",
   "name": "python3"
  },
  "language_info": {
   "codemirror_mode": {
    "name": "ipython",
    "version": 2
   },
   "file_extension": ".py",
   "mimetype": "text/x-python",
   "name": "python",
   "nbconvert_exporter": "python",
   "pygments_lexer": "ipython2",
   "version": "2.7.6"
  }
 },
 "nbformat": 4,
 "nbformat_minor": 5
}
