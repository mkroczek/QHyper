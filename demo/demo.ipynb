{
 "cells": [
  {
   "attachments": {},
   "cell_type": "markdown",
   "metadata": {},
   "source": [
    "## QHyper usecase"
   ]
  },
  {
   "attachments": {},
   "cell_type": "markdown",
   "metadata": {},
   "source": [
    "### Create instance of problem"
   ]
  },
  {
   "cell_type": "code",
   "execution_count": 10,
   "metadata": {},
   "outputs": [
    {
     "name": "stdout",
     "output_type": "stream",
     "text": [
      "[Item(weight=1, value=2), Item(weight=1, value=2), Item(weight=1, value=1)]\n"
     ]
    }
   ],
   "source": [
    "import sys\n",
    "sys.path.append('..')\n",
    "from QHyper.problems.knapsack import KnapsackProblem\n",
    "from QHyper.problems.tsp import TSPProblem\n",
    "\n",
    "PROBLEM_TYPE = 'knapsack' # 'tsp'\n",
    "\n",
    "\n",
    "# Each problem needs different parameters, because it depends on the number\n",
    "# of variables and constraints\n",
    "# Number of hyper_optimizer_bounds depends on the number of constraints,\n",
    "# because each constraint requires one weights, and objective function also\n",
    "# requires one\n",
    " \n",
    "if PROBLEM_TYPE == 'knapsack':\n",
    "    # Create knapsack with 3 items: 2 with weights 1 and value 2 - (1, 2),\n",
    "    # and one with weight 1 and value 1 - (1, 1)\n",
    "    problem = KnapsackProblem(max_weight=2, items=[(1, 2), (1, 2),(1, 1)])\n",
    "    print(problem.knapsack.items)\n",
    "    \n",
    "    params_cofing = {\n",
    "        'angles': [[0.5]*5, [1]*5],\n",
    "        'hyper_args': [1, 2.5, 2.5],\n",
    "    }\n",
    "    hyper_optimizer_bounds = 3*[(1, 10)]\n",
    "\n",
    "elif PROBLEM_TYPE == 'tsp':\n",
    "    # Create Traveling Salesmam Problem with 3 cities\n",
    "    problem = TSPProblem(\n",
    "        number_of_cities=3,\n",
    "    )\n",
    "    params_cofing = {\n",
    "        'angles': [[0.5]*5, [1]*5],\n",
    "        'hyper_args': [1, 2, 2, 2, 2],\n",
    "    }\n",
    "    hyper_optimizer_bounds = 5*[(1, 10)]"
   ]
  },
  {
   "cell_type": "code",
   "execution_count": 11,
   "metadata": {},
   "outputs": [
    {
     "name": "stdout",
     "output_type": "stream",
     "text": [
      "Variables used to describe objective functionand constraints: (x0, x1, x2, x3, x4)\n",
      "Objective function: {('x0',): -2, ('x1',): -2, ('x2',): -1}\n",
      "Constraints:\n",
      "    {('x3',): -1, ('x4',): -1, (): 1}\n",
      "    {('x0',): -1, ('x1',): -1, ('x2',): -1, ('x3',): 1, ('x4',): 2}\n"
     ]
    }
   ],
   "source": [
    "print(f\"Variables used to describe objective function\"\n",
    "      f\"and constraints: {problem.variables}\")\n",
    "print(f\"Objective function: {problem.objective_function}\")\n",
    "print(\"Constraints:\")\n",
    "for constraint in problem.constraints:\n",
    "    print(f\"    {constraint}\")"
   ]
  },
  {
   "attachments": {},
   "cell_type": "markdown",
   "metadata": {},
   "source": [
    "### Use VQA to solve knapsack problem"
   ]
  },
  {
   "cell_type": "code",
   "execution_count": 12,
   "metadata": {},
   "outputs": [],
   "source": [
    "from QHyper.solvers.vqa.base import VQA\n",
    "from QHyper.solvers import Solver"
   ]
  },
  {
   "cell_type": "code",
   "execution_count": 13,
   "metadata": {},
   "outputs": [],
   "source": [
    "# Simple quantum circuit without optimzers will be used to test the results\n",
    "# WF-QAOA is choosen becasue this PQC has most suitable evaluation function\n",
    "\n",
    "tester_config = {\n",
    "    'pqc': {\n",
    "        'type': 'wfqaoa',\n",
    "        'layers': 5,\n",
    "    }\n",
    "}\n",
    "\n",
    "tester = VQA(problem, config=tester_config)"
   ]
  },
  {
   "cell_type": "code",
   "execution_count": 14,
   "metadata": {},
   "outputs": [],
   "source": [
    "# Create a VQA instance with HQAOA as PQC and scipy optimizer\n",
    "# This can be done in two various way\n",
    "# 1. Providing dict with config (usefull to save experiment confing in e.g JSON)\n",
    "\n",
    "solver_config = {\n",
    "    \"solver\": {\n",
    "        \"type\": \"vqa\",\n",
    "        \"args\": {\n",
    "            \"config\": {\n",
    "                \"optimizer\": {\n",
    "                    \"type\": \"scipy\",\n",
    "                    \"maxfun\": 200,\n",
    "                },\n",
    "                \"pqc\": {\n",
    "                    \"type\": \"wfqaoa\",\n",
    "                    \"layers\": 5,\n",
    "                }\n",
    "            }\n",
    "        }\n",
    "    }\n",
    "}\n",
    "\n",
    "vqa = Solver.from_config(problem, solver_config)\n",
    "\n",
    "# 2. Providing actual isntance of each class like VQA and Optimizer\n",
    "from QHyper.solvers.vqa.pqc.h_qaoa import HQAOA\n",
    "from QHyper.optimizers import ScipyOptimizer\n",
    "\n",
    "vqa = VQA(problem, HQAOA(layers=5), ScipyOptimizer(maxfun=200))"
   ]
  },
  {
   "cell_type": "code",
   "execution_count": 15,
   "metadata": {},
   "outputs": [
    {
     "name": "stdout",
     "output_type": "stream",
     "text": [
      "Best params: {'angles': array([2.96486576e+00, 1.77950795e-01, 9.92993733e-01, 1.60313264e+00,\n",
      "       4.03203090e+00, 1.38062854e+00, 4.93543621e-01, 8.15771852e-01,\n",
      "       7.76871154e-04, 2.22518760e+00]), 'hyper_args': array([1.28432144, 2.92590948, 3.8769591 ])}\n"
     ]
    }
   ],
   "source": [
    "# Run VQA with provided initial parameters\n",
    "best_params = vqa.solve(params_cofing)\n",
    "print(f\"Best params: {best_params}\")"
   ]
  },
  {
   "cell_type": "code",
   "execution_count": 16,
   "metadata": {},
   "outputs": [
    {
     "name": "stdout",
     "output_type": "stream",
     "text": [
      "11001, 0.210, -4\n",
      "00110, 0.193, -1\n",
      "00001, 0.093, 0\n",
      "00010, 0.068, 0\n",
      "00101, 0.034, 0\n",
      "10011, 0.033, 0\n",
      "01011, 0.033, 0\n",
      "01110, 0.033, 0\n",
      "Best results: -1.1818289331882763\n",
      "Params used for optimizer:\n",
      "[2.96486576e+00 1.77950795e-01 9.92993733e-01 1.60313264e+00\n",
      " 4.03203090e+00 1.38062854e+00 4.93543621e-01 8.15771852e-01\n",
      " 7.76871154e-04 2.22518760e+00],\n",
      "and params used for hyper optimizer: [1.28432144 2.92590948 3.8769591 ]\n"
     ]
    }
   ],
   "source": [
    "# Here created ealier tester will be used to evaluate results\n",
    "\n",
    "best_results = tester.evaluate(best_params,print_results=True)\n",
    "print(f\"Best results: {best_results}\")\n",
    "print(f\"Params used for optimizer:\\n{best_params['angles']},\\n\"\n",
    "      f\"and params used for hyper optimizer: {best_params['hyper_args']}\")"
   ]
  },
  {
   "attachments": {},
   "cell_type": "markdown",
   "metadata": {},
   "source": [
    "#### Using hyper optimizers"
   ]
  },
  {
   "cell_type": "code",
   "execution_count": 21,
   "metadata": {},
   "outputs": [
    {
     "name": "stderr",
     "output_type": "stream",
     "text": [
      "  0%|          | 0/1 [00:00<?, ?it/s]"
     ]
    },
    {
     "name": "stderr",
     "output_type": "stream",
     "text": [
      "100%|██████████| 1/1 [00:22<00:00, 22.02s/it]\n"
     ]
    }
   ],
   "source": [
    "# Additionally other optimizer can be used to tune some parameters, in below\n",
    "# example, Random optimzier will change weights (hyper_args) and choose ones\n",
    "# that gives the best results after runnign 200 iteration of scipy minimizer\n",
    "\n",
    "solver_config = {\n",
    "    \"solver\": {\n",
    "        \"type\": \"vqa\",\n",
    "        \"args\": {\n",
    "            \"config\": {\n",
    "                \"optimizer\": {\n",
    "                    \"type\": \"scipy\",\n",
    "                    \"maxfun\": 200,\n",
    "                },\n",
    "                \"pqc\": {\n",
    "                    \"type\": \"wfqaoa\",\n",
    "                    \"layers\": 5,\n",
    "                }\n",
    "            }\n",
    "        }\n",
    "    },\n",
    "    \"hyper_optimizer\": {\n",
    "        \"type\": \"random\",    \n",
    "        \"processes\": 1,\n",
    "        \"number_of_samples\": 1,\n",
    "        \"bounds\": hyper_optimizer_bounds\n",
    "    }\n",
    "}\n",
    "vqa = Solver.from_config(problem, solver_config)\n",
    "\n",
    "best_params_h = vqa.solve(params_cofing)"
   ]
  },
  {
   "cell_type": "code",
   "execution_count": 23,
   "metadata": {},
   "outputs": [
    {
     "name": "stdout",
     "output_type": "stream",
     "text": [
      "00011, 0.145, 0\n",
      "00001, 0.118, 0\n",
      "00010, 0.087, 0\n",
      "00111, 0.065, 0\n",
      "11101, 0.056, 0\n",
      "00110, 0.043, -1\n",
      "01110, 0.040, 0\n",
      "10110, 0.040, 0\n",
      "Best results: -0.29767841104156945\n",
      "Params used for optimizer:\n",
      "[[1.64232476 0.08750321 0.         0.12856144 2.49365479]\n",
      " [0.93904305 0.6230146  1.10215501 0.41513281 1.45092844]],\n",
      "and params used for hyper optimizer: [3.12174438 5.46520519 5.63104031]\n"
     ]
    }
   ],
   "source": [
    "# Again, final results will be evaluated with tester\n",
    "\n",
    "best_results = tester.evaluate(best_params_h, print_results=True)\n",
    "print(f\"Best results: {best_results}\")\n",
    "print(f\"Params used for optimizer:\\n{best_params_h['angles']},\\n\"\n",
    "      f\"and params used for hyper optimizer: {best_params_h['hyper_args']}\")"
   ]
  },
  {
   "cell_type": "code",
   "execution_count": null,
   "metadata": {},
   "outputs": [],
   "source": []
  }
 ],
 "metadata": {
  "kernelspec": {
   "display_name": "Python 3.10.6 ('venv': venv)",
   "language": "python",
   "name": "python3"
  },
  "language_info": {
   "codemirror_mode": {
    "name": "ipython",
    "version": 3
   },
   "file_extension": ".py",
   "mimetype": "text/x-python",
   "name": "python",
   "nbconvert_exporter": "python",
   "pygments_lexer": "ipython3",
   "version": "3.10.11"
  },
  "orig_nbformat": 4,
  "vscode": {
   "interpreter": {
    "hash": "59ddf9d140262b8237ab82f293175fe16bdb83dcbb2d03089c8be0234363df8c"
   }
  }
 },
 "nbformat": 4,
 "nbformat_minor": 2
}
