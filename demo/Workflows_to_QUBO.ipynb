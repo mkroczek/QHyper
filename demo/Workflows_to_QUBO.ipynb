{
 "cells": [
  {
   "cell_type": "markdown",
   "id": "fa6f718f",
   "metadata": {},
   "source": [
    "<h1> This notebook shows how to convert a workflow instance into a QUBO </h1>"
   ]
  },
  {
   "cell_type": "markdown",
   "id": "a9d662fb",
   "metadata": {},
   "source": [
    "<div class=\"alert alert-block alert-info\">\n",
    "    <b> Create a workflow instance. </b>\n",
    "</div>"
   ]
  },
  {
   "cell_type": "code",
   "execution_count": 1,
   "id": "95074d7a",
   "metadata": {},
   "outputs": [],
   "source": [
    "from QHyper.problems.workflow_scheduling import Workflow, WorkflowSchedulingProblem"
   ]
  },
  {
   "cell_type": "code",
   "execution_count": 2,
   "id": "c4afd588",
   "metadata": {},
   "outputs": [],
   "source": [
    "tasks_file = # todo add as a string the path to the tasks file e.g., workflows_data/workflows/3_tasks_3_machines_1_path.json\n",
    "machines_file = # todo add as a string the path to the machines file e.g., workflows_data/machines/machines_for_3_tasks_3_machines_1_path.json\n",
    "deadline = 20"
   ]
  },
  {
   "cell_type": "code",
   "execution_count": 3,
   "id": "8d804eb3",
   "metadata": {},
   "outputs": [],
   "source": [
    "workflow = Workflow(tasks_file, machines_file, deadline)\n",
    "wsp = WorkflowSchedulingProblem(workflow)"
   ]
  },
  {
   "cell_type": "code",
   "execution_count": 4,
   "id": "ef5a4e50",
   "metadata": {},
   "outputs": [
    {
     "data": {
      "text/html": [
       "<div>\n",
       "<style scoped>\n",
       "    .dataframe tbody tr th:only-of-type {\n",
       "        vertical-align: middle;\n",
       "    }\n",
       "\n",
       "    .dataframe tbody tr th {\n",
       "        vertical-align: top;\n",
       "    }\n",
       "\n",
       "    .dataframe thead th {\n",
       "        text-align: right;\n",
       "    }\n",
       "</style>\n",
       "<table border=\"1\" class=\"dataframe\">\n",
       "  <thead>\n",
       "    <tr style=\"text-align: right;\">\n",
       "      <th></th>\n",
       "      <th>MachineA</th>\n",
       "      <th>MachineB</th>\n",
       "      <th>MachineC</th>\n",
       "    </tr>\n",
       "  </thead>\n",
       "  <tbody>\n",
       "    <tr>\n",
       "      <th>task1</th>\n",
       "      <td>6.0</td>\n",
       "      <td>2.0</td>\n",
       "      <td>4.0</td>\n",
       "    </tr>\n",
       "    <tr>\n",
       "      <th>task2</th>\n",
       "      <td>3.0</td>\n",
       "      <td>1.0</td>\n",
       "      <td>2.0</td>\n",
       "    </tr>\n",
       "    <tr>\n",
       "      <th>task3</th>\n",
       "      <td>12.0</td>\n",
       "      <td>4.0</td>\n",
       "      <td>8.0</td>\n",
       "    </tr>\n",
       "  </tbody>\n",
       "</table>\n",
       "</div>"
      ],
      "text/plain": [
       "       MachineA  MachineB  MachineC\n",
       "task1       6.0       2.0       4.0\n",
       "task2       3.0       1.0       2.0\n",
       "task3      12.0       4.0       8.0"
      ]
     },
     "execution_count": 4,
     "metadata": {},
     "output_type": "execute_result"
    }
   ],
   "source": [
    "wsp.workflow.time_matrix"
   ]
  },
  {
   "cell_type": "code",
   "execution_count": 5,
   "id": "e6641cad",
   "metadata": {},
   "outputs": [
    {
     "data": {
      "text/html": [
       "<div>\n",
       "<style scoped>\n",
       "    .dataframe tbody tr th:only-of-type {\n",
       "        vertical-align: middle;\n",
       "    }\n",
       "\n",
       "    .dataframe tbody tr th {\n",
       "        vertical-align: top;\n",
       "    }\n",
       "\n",
       "    .dataframe thead th {\n",
       "        text-align: right;\n",
       "    }\n",
       "</style>\n",
       "<table border=\"1\" class=\"dataframe\">\n",
       "  <thead>\n",
       "    <tr style=\"text-align: right;\">\n",
       "      <th></th>\n",
       "      <th>MachineA</th>\n",
       "      <th>MachineB</th>\n",
       "      <th>MachineC</th>\n",
       "    </tr>\n",
       "  </thead>\n",
       "  <tbody>\n",
       "    <tr>\n",
       "      <th>task1</th>\n",
       "      <td>6.0</td>\n",
       "      <td>8.0</td>\n",
       "      <td>8.0</td>\n",
       "    </tr>\n",
       "    <tr>\n",
       "      <th>task2</th>\n",
       "      <td>3.0</td>\n",
       "      <td>4.0</td>\n",
       "      <td>4.0</td>\n",
       "    </tr>\n",
       "    <tr>\n",
       "      <th>task3</th>\n",
       "      <td>12.0</td>\n",
       "      <td>16.0</td>\n",
       "      <td>16.0</td>\n",
       "    </tr>\n",
       "  </tbody>\n",
       "</table>\n",
       "</div>"
      ],
      "text/plain": [
       "       MachineA  MachineB  MachineC\n",
       "task1       6.0       8.0       8.0\n",
       "task2       3.0       4.0       4.0\n",
       "task3      12.0      16.0      16.0"
      ]
     },
     "execution_count": 5,
     "metadata": {},
     "output_type": "execute_result"
    }
   ],
   "source": [
    "wsp.workflow.cost_matrix"
   ]
  },
  {
   "cell_type": "code",
   "execution_count": 6,
   "id": "27768c3a",
   "metadata": {},
   "outputs": [
    {
     "name": "stdout",
     "output_type": "stream",
     "text": [
      "The objective function as a string is:\n",
      " 6.0*x0 + 8.0*x1 + 8.0*x2 + 3.0*x3 + 4.0*x4 + 4.0*x5 + 12.0*x6 + 16.0*x7 + 16.0*x8\n"
     ]
    }
   ],
   "source": [
    "print(f\"The objective function as a string is:\\n {wsp.objective_function.polynomial}\")"
   ]
  },
  {
   "cell_type": "code",
   "execution_count": 7,
   "id": "0a11e388",
   "metadata": {},
   "outputs": [
    {
     "name": "stdout",
     "output_type": "stream",
     "text": [
      "The objective function as a dict is:\n",
      " {('x0',): 6.0, ('x1',): 8.0, ('x2',): 8.0, ('x3',): 3.0, ('x4',): 4.0, ('x5',): 4.0, ('x6',): 12.0, ('x7',): 16.0, ('x8',): 16.0}\n"
     ]
    }
   ],
   "source": [
    "print(f\"The objective function as a dict is:\\n {wsp.objective_function.as_dict()}\")"
   ]
  },
  {
   "cell_type": "code",
   "execution_count": 8,
   "id": "89257146",
   "metadata": {},
   "outputs": [
    {
     "name": "stdout",
     "output_type": "stream",
     "text": [
      "Constraints as dicts:\n",
      "{('x0',): 1, ('x1',): 1, ('x2',): 1, (): -1}\n",
      "{('x3',): 1, ('x4',): 1, ('x5',): 1, (): -1}\n",
      "{('x6',): 1, ('x7',): 1, ('x8',): 1, (): -1}\n",
      "{('s0',): 1, ('s1',): 2, ('s2',): 4, ('s3',): 6, ('x0',): 6.0, ('x1',): 2.0, ('x2',): 4.0, ('x3',): 3.0, ('x4',): 1.0, ('x5',): 2.0, ('x6',): 12.0, ('x7',): 4.0, ('x8',): 8.0, (): -20}\n"
     ]
    }
   ],
   "source": [
    "print(\"Constraints as dicts:\")\n",
    "for constraint in wsp.constraints:\n",
    "    print(constraint.as_dict())"
   ]
  },
  {
   "cell_type": "code",
   "execution_count": 9,
   "id": "bf157c45",
   "metadata": {},
   "outputs": [
    {
     "data": {
      "text/plain": [
       "(7.0, 21.0)"
      ]
     },
     "execution_count": 9,
     "metadata": {},
     "output_type": "execute_result"
    }
   ],
   "source": [
    "wsp.get_deadlines() # those are the fastest and the slowest execution times"
   ]
  },
  {
   "cell_type": "markdown",
   "id": "0ccc77bc",
   "metadata": {},
   "source": [
    "<div class=\"alert alert-block alert-info\">\n",
    "    <b> Convert the workflow to QUBO form. </b>\n",
    "</div>"
   ]
  },
  {
   "cell_type": "code",
   "execution_count": 10,
   "id": "8cfebb93",
   "metadata": {},
   "outputs": [],
   "source": [
    "from QHyper.solvers.converter import Converter"
   ]
  },
  {
   "cell_type": "code",
   "execution_count": 11,
   "id": "bdfd9456",
   "metadata": {},
   "outputs": [],
   "source": [
    "converter = Converter()"
   ]
  },
  {
   "cell_type": "markdown",
   "id": "c896804f",
   "metadata": {},
   "source": [
    "The converter returns the QUBO as a dict, and numerical offset. We partially use [this](https://test-projecttemplate-dimod.readthedocs.io/en/latest/reference/bqm/generated/dimod.BinaryQuadraticModel.to_qubo.html) method."
   ]
  },
  {
   "cell_type": "code",
   "execution_count": 12,
   "id": "7a105eca",
   "metadata": {},
   "outputs": [],
   "source": [
    "wsp_qubo, offset = converter.to_qubo(wsp)"
   ]
  },
  {
   "cell_type": "code",
   "execution_count": 13,
   "id": "2a4bf500",
   "metadata": {
    "scrolled": true
   },
   "outputs": [
    {
     "data": {
      "text/plain": [
       "{('x1', 'x0'): 260.0,\n",
       " ('x2', 'x0'): 500.0,\n",
       " ('x2', 'x1'): 180.0,\n",
       " ('x3', 'x0'): 360.0,\n",
       " ('x3', 'x1'): 120.0,\n",
       " ('x3', 'x2'): 240.0,\n",
       " ('x4', 'x0'): 120.0,\n",
       " ('x4', 'x1'): 40.0,\n",
       " ('x4', 'x2'): 80.0,\n",
       " ('x4', 'x3'): 80.0,\n",
       " ('x5', 'x0'): 240.0,\n",
       " ('x5', 'x1'): 80.0,\n",
       " ('x5', 'x2'): 160.0,\n",
       " ('x5', 'x3'): 140.0,\n",
       " ('x5', 'x4'): 60.0,\n",
       " ('x6', 'x0'): 1440.0,\n",
       " ('x6', 'x1'): 480.0,\n",
       " ('x6', 'x2'): 960.0,\n",
       " ('x6', 'x3'): 720.0,\n",
       " ('x6', 'x4'): 240.0,\n",
       " ('x6', 'x5'): 480.0,\n",
       " ('x7', 'x0'): 480.0,\n",
       " ('x7', 'x1'): 160.0,\n",
       " ('x7', 'x2'): 320.0,\n",
       " ('x7', 'x3'): 240.0,\n",
       " ('x7', 'x4'): 80.0,\n",
       " ('x7', 'x5'): 160.0,\n",
       " ('x7', 'x6'): 980.0,\n",
       " ('x8', 'x0'): 960.0,\n",
       " ('x8', 'x1'): 320.0,\n",
       " ('x8', 'x2'): 640.0,\n",
       " ('x8', 'x3'): 480.0,\n",
       " ('x8', 'x4'): 160.0,\n",
       " ('x8', 'x5'): 320.0,\n",
       " ('x8', 'x6'): 1940.0,\n",
       " ('x8', 'x7'): 660.0,\n",
       " ('s0', 'x0'): 120.0,\n",
       " ('s0', 'x1'): 40.0,\n",
       " ('s0', 'x2'): 80.0,\n",
       " ('s0', 'x3'): 60.0,\n",
       " ('s0', 'x4'): 20.0,\n",
       " ('s0', 'x5'): 40.0,\n",
       " ('s0', 'x6'): 240.0,\n",
       " ('s0', 'x7'): 80.0,\n",
       " ('s0', 'x8'): 160.0,\n",
       " ('s1', 'x0'): 240.0,\n",
       " ('s1', 'x1'): 80.0,\n",
       " ('s1', 'x2'): 160.0,\n",
       " ('s1', 'x3'): 120.0,\n",
       " ('s1', 'x4'): 40.0,\n",
       " ('s1', 'x5'): 80.0,\n",
       " ('s1', 'x6'): 480.0,\n",
       " ('s1', 'x7'): 160.0,\n",
       " ('s1', 'x8'): 320.0,\n",
       " ('s1', 's0'): 40.0,\n",
       " ('s2', 'x0'): 480.0,\n",
       " ('s2', 'x1'): 160.0,\n",
       " ('s2', 'x2'): 320.0,\n",
       " ('s2', 'x3'): 240.0,\n",
       " ('s2', 'x4'): 80.0,\n",
       " ('s2', 'x5'): 160.0,\n",
       " ('s2', 'x6'): 960.0,\n",
       " ('s2', 'x7'): 320.0,\n",
       " ('s2', 'x8'): 640.0,\n",
       " ('s2', 's0'): 80.0,\n",
       " ('s2', 's1'): 160.0,\n",
       " ('s3', 'x0'): 720.0,\n",
       " ('s3', 'x1'): 240.0,\n",
       " ('s3', 'x2'): 480.0,\n",
       " ('s3', 'x3'): 360.0,\n",
       " ('s3', 'x4'): 120.0,\n",
       " ('s3', 'x5'): 240.0,\n",
       " ('s3', 'x6'): 1440.0,\n",
       " ('s3', 'x7'): 480.0,\n",
       " ('s3', 'x8'): 960.0,\n",
       " ('s3', 's0'): 120.0,\n",
       " ('s3', 's1'): 240.0,\n",
       " ('s3', 's2'): 480.0,\n",
       " ('x0', 'x0'): -2044.0,\n",
       " ('x1', 'x1'): -762.0,\n",
       " ('x2', 'x2'): -1442.0,\n",
       " ('x3', 'x3'): -1117.0,\n",
       " ('x4', 'x4'): -396.0,\n",
       " ('x5', 'x5'): -766.0,\n",
       " ('x6', 'x6'): -3358.0,\n",
       " ('x7', 'x7'): -1434.0,\n",
       " ('x8', 'x8'): -2554.0,\n",
       " ('s0', 's0'): -390.0,\n",
       " ('s1', 's1'): -760.0,\n",
       " ('s2', 's2'): -1440.0,\n",
       " ('s3', 's3'): -2040.0}"
      ]
     },
     "execution_count": 13,
     "metadata": {},
     "output_type": "execute_result"
    }
   ],
   "source": [
    "wsp_qubo"
   ]
  },
  {
   "cell_type": "code",
   "execution_count": 14,
   "id": "c7e7ed25",
   "metadata": {},
   "outputs": [
    {
     "data": {
      "text/plain": [
       "4030.0"
      ]
     },
     "execution_count": 14,
     "metadata": {},
     "output_type": "execute_result"
    }
   ],
   "source": [
    "offset"
   ]
  },
  {
   "cell_type": "markdown",
   "id": "5b0056b0",
   "metadata": {},
   "source": [
    "-----------------\n"
   ]
  },
  {
   "cell_type": "markdown",
   "id": "68e05848",
   "metadata": {},
   "source": [
    "<h3> This part shows how to use solvers from QHyper </h3>"
   ]
  },
  {
   "cell_type": "markdown",
   "id": "4ee5a401",
   "metadata": {},
   "source": [
    "<div class=\"alert alert-block alert-info\">\n",
    "    <b> Solve the Workflow Schedluling Problem with the CQM solver. </b>\n",
    "</div>"
   ]
  },
  {
   "cell_type": "code",
   "execution_count": 15,
   "id": "451581cc",
   "metadata": {},
   "outputs": [],
   "source": [
    "from QHyper.solvers.CQM.cqm import CQM"
   ]
  },
  {
   "cell_type": "code",
   "execution_count": 16,
   "id": "f23a7065",
   "metadata": {},
   "outputs": [],
   "source": [
    "cqm_problem = CQM(problem=wsp, time=5)"
   ]
  },
  {
   "cell_type": "code",
   "execution_count": 17,
   "id": "78ad8dc8",
   "metadata": {},
   "outputs": [
    {
     "name": "stdout",
     "output_type": "stream",
     "text": [
      "{'s0': 0.0, 's1': 0.0, 's2': 0.0, 's3': 0.0, 'x0': 1.0, 'x1': 0.0, 'x2': 0.0, 'x3': 0.0, 'x4': 0.0, 'x5': 1.0, 'x6': 1.0, 'x7': 0.0, 'x8': 0.0}\n"
     ]
    }
   ],
   "source": [
    "solution = cqm_problem.solve()\n",
    "print(solution)"
   ]
  },
  {
   "cell_type": "code",
   "execution_count": 18,
   "id": "7632ef6e",
   "metadata": {},
   "outputs": [
    {
     "data": {
      "text/plain": [
       "{'task1': 'MachineA', 'task2': 'MachineC', 'task3': 'MachineA'}"
      ]
     },
     "execution_count": 18,
     "metadata": {},
     "output_type": "execute_result"
    }
   ],
   "source": [
    "wsp.decode_solution(solution)"
   ]
  },
  {
   "cell_type": "markdown",
   "id": "2dafa9de",
   "metadata": {},
   "source": [
    "<div class=\"alert alert-block alert-info\">\n",
    "    <b> Solve the Workflow Schedluling Problem with the Gurobi solver. </b>\n",
    "</div>"
   ]
  },
  {
   "cell_type": "code",
   "execution_count": 19,
   "id": "333e4729",
   "metadata": {},
   "outputs": [],
   "source": [
    "from QHyper.solvers.gurobi.gurobi import Gurobi"
   ]
  },
  {
   "cell_type": "code",
   "execution_count": 20,
   "id": "ee115372",
   "metadata": {},
   "outputs": [],
   "source": [
    "gurobi = Gurobi(problem=wsp)"
   ]
  },
  {
   "cell_type": "code",
   "execution_count": 21,
   "id": "f8deff43",
   "metadata": {
    "scrolled": true
   },
   "outputs": [
    {
     "name": "stdout",
     "output_type": "stream",
     "text": [
      "Set parameter Username\n",
      "Academic license - for non-commercial use only - expires 2023-12-04\n",
      "-1.0 + x0 + x1 + x2\n",
      "-1.0 + x3 + x4 + x5\n",
      "-1.0 + x6 + x7 + x8\n",
      "-20.0 + s0 + 2.0 s1 + 4.0 s2 + 6.0 s3 + 6.0 x0 + 2.0 x1 + 4.0 x2 + 3.0 x3 + x4 + 2.0 x5 + 12.0 x6 + 4.0 x7 + 8.0 x8\n",
      "Gurobi Optimizer version 10.0.0 build v10.0.0rc2 (mac64[rosetta2])\n",
      "\n",
      "CPU model: Apple M1 Pro\n",
      "Thread count: 8 physical cores, 8 logical processors, using up to 8 threads\n",
      "\n",
      "Optimize a model with 4 rows, 13 columns and 22 nonzeros\n",
      "Model fingerprint: 0xe016e177\n",
      "Variable types: 0 continuous, 13 integer (13 binary)\n",
      "Coefficient statistics:\n",
      "  Matrix range     [1e+00, 1e+01]\n",
      "  Objective range  [3e+00, 2e+01]\n",
      "  Bounds range     [1e+00, 1e+00]\n",
      "  RHS range        [1e+00, 2e+01]\n",
      "Found heuristic solution: objective 28.0000000\n",
      "Presolve removed 4 rows and 13 columns\n",
      "Presolve time: 0.00s\n",
      "Presolve: All rows and columns removed\n",
      "\n",
      "Explored 0 nodes (0 simplex iterations) in 0.01 seconds (0.00 work units)\n",
      "Thread count was 1 (of 8 available processors)\n",
      "\n",
      "Solution count 2: 22 28 \n",
      "\n",
      "Optimal solution found (tolerance 1.00e-04)\n",
      "Best objective 2.200000000000e+01, best bound 2.200000000000e+01, gap 0.0000%\n"
     ]
    }
   ],
   "source": [
    "solution_gurobi = gurobi.solve()"
   ]
  },
  {
   "cell_type": "code",
   "execution_count": 22,
   "id": "a97f7f47",
   "metadata": {
    "scrolled": true
   },
   "outputs": [
    {
     "data": {
      "text/plain": [
       "{'x0': 1.0,\n",
       " 'x1': 0.0,\n",
       " 'x2': 0.0,\n",
       " 'x3': 0.0,\n",
       " 'x4': 1.0,\n",
       " 'x5': 0.0,\n",
       " 'x6': 1.0,\n",
       " 'x7': 0.0,\n",
       " 'x8': 0.0,\n",
       " 's0': 1.0,\n",
       " 's1': 0.0,\n",
       " 's2': 0.0,\n",
       " 's3': 0.0}"
      ]
     },
     "execution_count": 22,
     "metadata": {},
     "output_type": "execute_result"
    }
   ],
   "source": [
    "solution_gurobi"
   ]
  },
  {
   "cell_type": "code",
   "execution_count": 23,
   "id": "1842cc4b",
   "metadata": {},
   "outputs": [
    {
     "data": {
      "text/plain": [
       "{'task1': 'MachineA', 'task2': 'MachineB', 'task3': 'MachineA'}"
      ]
     },
     "execution_count": 23,
     "metadata": {},
     "output_type": "execute_result"
    }
   ],
   "source": [
    "wsp.decode_solution(solution_gurobi)"
   ]
  },
  {
   "cell_type": "code",
   "execution_count": null,
   "id": "c8bd9992",
   "metadata": {},
   "outputs": [],
   "source": []
  }
 ],
 "metadata": {
  "kernelspec": {
   "display_name": "Python 3 (ipykernel)",
   "language": "python",
   "name": "python3"
  },
  "language_info": {
   "codemirror_mode": {
    "name": "ipython",
    "version": 3
   },
   "file_extension": ".py",
   "mimetype": "text/x-python",
   "name": "python",
   "nbconvert_exporter": "python",
   "pygments_lexer": "ipython3",
   "version": "3.10.8"
  }
 },
 "nbformat": 4,
 "nbformat_minor": 5
}
