{
 "cells": [
  {
   "cell_type": "code",
   "execution_count": null,
   "id": "initial_id",
   "metadata": {
    "collapsed": true
   },
   "outputs": [],
   "source": [
    "import wfcommons.wfchef.utils as utils\n",
    "\n",
    "from QHyper.problems.algorithms.utils import wfworkflow_to_qhyper_workflow, merge_subworkflows\n",
    "from QHyper.problems.algorithms.workflow_decomposition import HeftBasedAlgorithm\n",
    "from QHyper.problems.workflow_scheduling import Workflow, WorkflowSchedulingProblem\n",
    "from QHyper.solvers.cqm import CQM"
   ]
  },
  {
   "cell_type": "markdown",
   "source": [
    "## Load and divide workflow"
   ],
   "metadata": {
    "collapsed": false
   },
   "id": "efbfddba07497ec8"
  },
  {
   "cell_type": "code",
   "execution_count": null,
   "outputs": [],
   "source": [
    "tasks_file = \"workflows_data/workflows/complex_workflow.json\"\n",
    "machines_file = \"workflows_data/machines/machines_for_3_tasks_3_machines_1_path.json\"\n",
    "deadline = 50"
   ],
   "metadata": {
    "collapsed": false
   },
   "id": "908adf788901574c"
  },
  {
   "cell_type": "code",
   "execution_count": null,
   "outputs": [],
   "source": [
    "workflow = Workflow(tasks_file, machines_file, deadline)\n",
    "utils.draw(workflow.wf_instance.workflow, with_labels=True)"
   ],
   "metadata": {
    "collapsed": false
   },
   "id": "acd5a25fcf4faf13"
  },
  {
   "cell_type": "code",
   "execution_count": null,
   "outputs": [],
   "source": [
    "wf_workflow1, wf_workflow2 = HeftBasedAlgorithm().decompose(workflow, 2)\n",
    "merged = merge_subworkflows([wf_workflow1, wf_workflow2])\n",
    "utils.draw(merged, with_labels=True)"
   ],
   "metadata": {
    "collapsed": false
   },
   "id": "228e0c159d05aee1"
  },
  {
   "cell_type": "code",
   "execution_count": null,
   "outputs": [],
   "source": [
    "workflow1 = wfworkflow_to_qhyper_workflow(wf_workflow1, machines_file, deadline / 2)\n",
    "workflow2 = wfworkflow_to_qhyper_workflow(wf_workflow2, machines_file, deadline / 2)\n",
    "wsp1 = WorkflowSchedulingProblem(workflow1)\n",
    "wsp2 = WorkflowSchedulingProblem(workflow2)"
   ],
   "metadata": {
    "collapsed": false
   },
   "id": "5a8220aeb023e0c6"
  },
  {
   "cell_type": "markdown",
   "source": [
    "## Solve the Workflow Schedluling Problem with the CQM solver."
   ],
   "metadata": {
    "collapsed": false
   },
   "id": "642a7b6df841a38d"
  },
  {
   "cell_type": "code",
   "execution_count": null,
   "outputs": [],
   "source": [
    "cqm1 = CQM(problem=wsp1, time=5)\n",
    "cqm2 = CQM(problem=wsp2, time=5)\n",
    "\n",
    "solution_cqm1 = cqm1.solve()\n",
    "solution_cqm2 = cqm2.solve()"
   ],
   "metadata": {
    "collapsed": false
   },
   "id": "84b247dc8c4072b6"
  }
 ],
 "metadata": {
  "kernelspec": {
   "display_name": "Python 3",
   "language": "python",
   "name": "python3"
  },
  "language_info": {
   "codemirror_mode": {
    "name": "ipython",
    "version": 2
   },
   "file_extension": ".py",
   "mimetype": "text/x-python",
   "name": "python",
   "nbconvert_exporter": "python",
   "pygments_lexer": "ipython2",
   "version": "2.7.6"
  }
 },
 "nbformat": 4,
 "nbformat_minor": 5
}
