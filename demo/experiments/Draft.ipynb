{
 "cells": [
  {
   "cell_type": "code",
   "execution_count": 29,
   "id": "initial_id",
   "metadata": {
    "collapsed": true,
    "ExecuteTime": {
     "end_time": "2024-05-26T00:25:24.646364331Z",
     "start_time": "2024-05-26T00:25:24.594642402Z"
    }
   },
   "outputs": [],
   "source": [
    "from QHyper.problems.algorithms.solver_utils import WorkflowSchedulingSolverDecorator, \\\n",
    "    DecomposedWorkflowSchedulingSolver\n",
    "from QHyper.problems.algorithms.workflow_decomposition import SeriesParallelSplitEnhanced, SeriesParallelSplitFinal\n",
    "from QHyper.problems.workflow_scheduling import Workflow, WorkflowSchedulingOneHot\n",
    "from QHyper.solvers import Gurobi, solver_from_config"
   ]
  },
  {
   "cell_type": "code",
   "execution_count": 2,
   "outputs": [
    {
     "name": "stdout",
     "output_type": "stream",
     "text": [
      "24081.97130605714\n"
     ]
    }
   ],
   "source": [
    "tasks_file = \"/home/marcin/Programming/pegasus-instances/srasearch/chameleon-cloud/srasearch-chameleon-40a-001.json\"\n",
    "machines_file = \"../workflows_data/machines/linear_smaller_diff.json\"\n",
    "workflow = Workflow(tasks_file, machines_file, 100000)\n",
    "print(workflow.critical_path_value)"
   ],
   "metadata": {
    "collapsed": false,
    "ExecuteTime": {
     "end_time": "2024-05-26T00:10:35.656984588Z",
     "start_time": "2024-05-26T00:10:35.599204606Z"
    }
   },
   "id": "118cdd92f5116458"
  },
  {
   "cell_type": "code",
   "execution_count": 9,
   "outputs": [
    {
     "name": "stdout",
     "output_type": "stream",
     "text": [
      "[63, 42, 21, 12, 8, 4, 1, 0]\n"
     ]
    }
   ],
   "source": [
    "divisions = [0.75, 0.5, 0.25, 0.15, 0.1, 0.05, 0.02, 0.01]\n",
    "mss = [int(d * 84) for d in divisions]\n",
    "print(mss)"
   ],
   "metadata": {
    "collapsed": false,
    "ExecuteTime": {
     "end_time": "2024-05-26T00:13:21.904193380Z",
     "start_time": "2024-05-26T00:13:21.697002573Z"
    }
   },
   "id": "f4c591ac37a83162"
  },
  {
   "cell_type": "code",
   "execution_count": 23,
   "outputs": [],
   "source": [
    "def get_decomposed_solver(tasks_file: str, machines_file: str, deadline: int, max_graph_size: int):\n",
    "    workflow = Workflow(tasks_file, machines_file, deadline)\n",
    "    division = SeriesParallelSplitFinal().decompose(workflow, max_graph_size)\n",
    "    problems = map(lambda w: WorkflowSchedulingOneHot(w), division.workflows)\n",
    "    solvers = map(lambda p: WorkflowSchedulingSolverDecorator(Gurobi(p)), problems)\n",
    "    return DecomposedWorkflowSchedulingSolver(list(solvers), division)"
   ],
   "metadata": {
    "collapsed": false,
    "ExecuteTime": {
     "end_time": "2024-05-26T00:21:17.476208373Z",
     "start_time": "2024-05-26T00:21:17.426018289Z"
    }
   },
   "id": "97111821d9763168"
  },
  {
   "cell_type": "code",
   "execution_count": 24,
   "outputs": [],
   "source": [
    "solver = get_decomposed_solver(tasks_file, machines_file, 24081, 21)"
   ],
   "metadata": {
    "collapsed": false,
    "ExecuteTime": {
     "end_time": "2024-05-26T00:21:19.809755050Z",
     "start_time": "2024-05-26T00:21:19.276060142Z"
    }
   },
   "id": "4817979052065efd"
  },
  {
   "cell_type": "code",
   "execution_count": 27,
   "outputs": [],
   "source": [
    "def get_solver(tasks_file: str, machines_file: str, deadline):\n",
    "    solver_config = {\n",
    "        \"problem\": {\n",
    "            \"type\": \"workflow_scheduling\",\n",
    "            \"encoding\": \"one-hot\",\n",
    "            \"tasks_file\": tasks_file,\n",
    "            \"machines_file\": machines_file,\n",
    "            \"deadline\": deadline,\n",
    "        },\n",
    "        \"solver\": {\n",
    "            \"type\": \"gurobi\",\n",
    "        }\n",
    "    }\n",
    "\n",
    "    return WorkflowSchedulingSolverDecorator(solver_from_config(solver_config))"
   ],
   "metadata": {
    "collapsed": false,
    "ExecuteTime": {
     "end_time": "2024-05-26T00:25:15.484471713Z",
     "start_time": "2024-05-26T00:25:15.369323895Z"
    }
   },
   "id": "73432ee20e26046d"
  },
  {
   "cell_type": "code",
   "execution_count": 31,
   "outputs": [
    {
     "name": "stdout",
     "output_type": "stream",
     "text": [
      "Gurobi Optimizer version 10.0.3 build v10.0.3rc0 (linux64)\n",
      "\n",
      "CPU model: Intel(R) Core(TM) i7-7700HQ CPU @ 2.80GHz, instruction set [SSE2|AVX|AVX2]\n",
      "Thread count: 4 physical cores, 8 logical processors, using up to 8 threads\n",
      "Optimize a model with 164 rows, 420 columns and 2020 nonzeros\n",
      "Model fingerprint: 0xdabdad09\n",
      "Variable types: 0 continuous, 420 integer (420 binary)\n",
      "Coefficient statistics:\n",
      "  Matrix range     [2e-01, 3e+04]\n",
      "  Objective range  [4e-01, 7e+04]\n",
      "  Bounds range     [1e+00, 1e+00]\n",
      "  RHS range        [1e+00, 2e+04]\n",
      "Found heuristic solution: objective 1072912.2678\n",
      "Presolve removed 164 rows and 420 columns\n",
      "Presolve time: 0.00s\n",
      "Presolve: All rows and columns removed\n",
      "\n",
      "Explored 0 nodes (0 simplex iterations) in 0.01 seconds (0.00 work units)\n",
      "Thread count was 1 (of 8 available processors)\n",
      "\n",
      "Solution count 2: 837251 1.07291e+06 \n",
      "\n",
      "Optimal solution found (tolerance 1.00e-04)\n",
      "Best objective 8.372512380024e+05, best bound 8.372512380024e+05, gap 0.0000%\n"
     ]
    },
    {
     "data": {
      "text/plain": "WorkflowSchedule(cost=837251.2380024, time=24077.39805257143, deadline=24081.23, machine_assignment={'bowtie2-build_ID0000001': 'Machine1', 'fasterq-dump_ID0000002': 'Machine1', 'bowtie2_ID0000003': 'Machine1', 'fasterq-dump_ID0000004': 'Machine1', 'bowtie2_ID0000005': 'Machine1', 'fasterq-dump_ID0000006': 'Machine1', 'bowtie2_ID0000007': 'Machine1', 'fasterq-dump_ID0000008': 'Machine1', 'bowtie2_ID0000009': 'Machine1', 'fasterq-dump_ID0000010': 'Machine1', 'bowtie2_ID0000011': 'Machine1', 'fasterq-dump_ID0000012': 'Machine1', 'bowtie2_ID0000013': 'Machine1', 'fasterq-dump_ID0000014': 'Machine1', 'bowtie2_ID0000015': 'Machine1', 'fasterq-dump_ID0000016': 'Machine1', 'bowtie2_ID0000017': 'Machine1', 'fasterq-dump_ID0000018': 'Machine1', 'bowtie2_ID0000019': 'Machine1', 'fasterq-dump_ID0000020': 'Machine2', 'bowtie2_ID0000021': 'Machine1', 'fasterq-dump_ID0000022': 'Machine1', 'bowtie2_ID0000023': 'Machine1', 'fasterq-dump_ID0000024': 'Machine1', 'bowtie2_ID0000025': 'Machine1', 'fasterq-dump_ID0000026': 'Machine1', 'bowtie2_ID0000027': 'Machine1', 'fasterq-dump_ID0000028': 'Machine1', 'bowtie2_ID0000029': 'Machine1', 'fasterq-dump_ID0000030': 'Machine2', 'bowtie2_ID0000031': 'Machine1', 'fasterq-dump_ID0000032': 'Machine2', 'bowtie2_ID0000033': 'Machine1', 'fasterq-dump_ID0000034': 'Machine1', 'bowtie2_ID0000035': 'Machine1', 'fasterq-dump_ID0000036': 'Machine3', 'bowtie2_ID0000037': 'Machine1', 'fasterq-dump_ID0000038': 'Machine2', 'bowtie2_ID0000039': 'Machine5', 'fasterq-dump_ID0000040': 'Machine1', 'bowtie2_ID0000041': 'Machine1', 'fasterq-dump_ID0000042': 'Machine1', 'bowtie2_ID0000043': 'Machine1', 'fasterq-dump_ID0000044': 'Machine1', 'bowtie2_ID0000045': 'Machine1', 'fasterq-dump_ID0000046': 'Machine1', 'bowtie2_ID0000047': 'Machine1', 'fasterq-dump_ID0000048': 'Machine1', 'bowtie2_ID0000049': 'Machine1', 'fasterq-dump_ID0000050': 'Machine1', 'bowtie2_ID0000051': 'Machine1', 'fasterq-dump_ID0000052': 'Machine1', 'bowtie2_ID0000053': 'Machine1', 'fasterq-dump_ID0000054': 'Machine1', 'bowtie2_ID0000055': 'Machine1', 'fasterq-dump_ID0000056': 'Machine1', 'bowtie2_ID0000057': 'Machine1', 'fasterq-dump_ID0000058': 'Machine1', 'bowtie2_ID0000059': 'Machine1', 'fasterq-dump_ID0000060': 'Machine1', 'bowtie2_ID0000061': 'Machine1', 'fasterq-dump_ID0000062': 'Machine1', 'bowtie2_ID0000063': 'Machine1', 'fasterq-dump_ID0000064': 'Machine1', 'bowtie2_ID0000065': 'Machine1', 'fasterq-dump_ID0000066': 'Machine1', 'bowtie2_ID0000067': 'Machine1', 'fasterq-dump_ID0000068': 'Machine2', 'bowtie2_ID0000069': 'Machine1', 'fasterq-dump_ID0000070': 'Machine2', 'bowtie2_ID0000071': 'Machine4', 'fasterq-dump_ID0000072': 'Machine3', 'bowtie2_ID0000073': 'Machine1', 'fasterq-dump_ID0000074': 'Machine2', 'bowtie2_ID0000075': 'Machine1', 'fasterq-dump_ID0000076': 'Machine3', 'bowtie2_ID0000077': 'Machine1', 'fasterq-dump_ID0000078': 'Machine1', 'bowtie2_ID0000079': 'Machine1', 'fasterq-dump_ID0000080': 'Machine1', 'bowtie2_ID0000081': 'Machine1', 'merge_ID0000082': 'Machine1', 'merge_ID0000083': 'Machine1', 'merge_ID0000084': 'Machine1'}, workflow=<QHyper.problems.workflow_scheduling.Workflow object at 0x7f8cb98b2750>, parts=[])"
     },
     "execution_count": 31,
     "metadata": {},
     "output_type": "execute_result"
    }
   ],
   "source": [
    "get_solver(tasks_file, machines_file, 24081.23).solve()"
   ],
   "metadata": {
    "collapsed": false,
    "ExecuteTime": {
     "end_time": "2024-05-26T00:25:42.581387094Z",
     "start_time": "2024-05-26T00:25:42.339661134Z"
    }
   },
   "id": "823175edc3f3a9fc"
  },
  {
   "cell_type": "code",
   "execution_count": null,
   "outputs": [],
   "source": [],
   "metadata": {
    "collapsed": false
   },
   "id": "e422da4fd49d8fa5"
  }
 ],
 "metadata": {
  "kernelspec": {
   "display_name": "Python 3",
   "language": "python",
   "name": "python3"
  },
  "language_info": {
   "codemirror_mode": {
    "name": "ipython",
    "version": 2
   },
   "file_extension": ".py",
   "mimetype": "text/x-python",
   "name": "python",
   "nbconvert_exporter": "python",
   "pygments_lexer": "ipython2",
   "version": "2.7.6"
  }
 },
 "nbformat": 4,
 "nbformat_minor": 5
}
