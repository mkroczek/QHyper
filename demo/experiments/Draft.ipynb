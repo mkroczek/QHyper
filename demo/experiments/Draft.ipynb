{
 "cells": [
  {
   "cell_type": "code",
   "execution_count": 1,
   "id": "initial_id",
   "metadata": {
    "collapsed": true,
    "ExecuteTime": {
     "end_time": "2024-06-16T21:17:12.240210038Z",
     "start_time": "2024-06-16T21:16:51.596007752Z"
    }
   },
   "outputs": [],
   "source": [
    "import os\n",
    "\n",
    "import matplotlib\n",
    "from matplotlib import pyplot as plt\n",
    "from matplotlib.ticker import FuncFormatter\n",
    "\n",
    "from QHyper.problems.algorithms.solver_utils import WorkflowSchedulingSolverDecorator, \\\n",
    "    DecomposedWorkflowSchedulingSolver\n",
    "from QHyper.problems.algorithms.workflow_decomposition import SeriesParallelSplitEnhanced, SeriesParallelSplitFinal\n",
    "from QHyper.problems.workflow_scheduling import Workflow, WorkflowSchedulingOneHot\n",
    "from QHyper.solvers import Gurobi, solver_from_config\n",
    "import pandas as pd"
   ]
  },
  {
   "cell_type": "code",
   "execution_count": 10,
   "outputs": [
    {
     "name": "stdout",
     "output_type": "stream",
     "text": [
      "3770.2907483428567\n"
     ]
    }
   ],
   "source": [
    "tasks_file = \"/home/marcin/Programming/pegasus-instances/epigenomics/chameleon-cloud/epigenomics-chameleon-hep-3seq-100k-001.json\"\n",
    "machines_file = \"../workflows_data/machines/linear_smaller_diff.json\"\n",
    "workflow = Workflow(tasks_file, machines_file, 100000)\n",
    "print(workflow.critical_path_value)"
   ],
   "metadata": {
    "collapsed": false,
    "ExecuteTime": {
     "end_time": "2024-05-26T22:11:15.323034518Z",
     "start_time": "2024-05-26T22:11:15.211185768Z"
    }
   },
   "id": "118cdd92f5116458"
  },
  {
   "cell_type": "code",
   "execution_count": 11,
   "outputs": [],
   "source": [
    "def deadline_as_cpv(tasks_file, machines_file):\n",
    "    workflow = Workflow(tasks_file, machines_file, 100000)\n",
    "    return int(workflow.critical_path_value)"
   ],
   "metadata": {
    "collapsed": false,
    "ExecuteTime": {
     "end_time": "2024-05-26T22:11:17.086639684Z",
     "start_time": "2024-05-26T22:11:17.038188115Z"
    }
   },
   "id": "28fde83c4515267e"
  },
  {
   "cell_type": "code",
   "execution_count": 12,
   "outputs": [
    {
     "name": "stdout",
     "output_type": "stream",
     "text": [
      "3770\n"
     ]
    }
   ],
   "source": [
    "print(deadline_as_cpv(tasks_file, machines_file))"
   ],
   "metadata": {
    "collapsed": false,
    "ExecuteTime": {
     "end_time": "2024-05-26T22:11:28.854858925Z",
     "start_time": "2024-05-26T22:11:28.178201974Z"
    }
   },
   "id": "f065244fafbbb78d"
  },
  {
   "cell_type": "code",
   "execution_count": 3,
   "outputs": [
    {
     "name": "stdout",
     "output_type": "stream",
     "text": [
      "[174, 116, 58, 34, 23, 11, 4, 2]\n"
     ]
    }
   ],
   "source": [
    "divisions = [0.75, 0.5, 0.25, 0.15, 0.1, 0.05, 0.02, 0.01]\n",
    "mss = [int(d * 233) for d in divisions]\n",
    "print(mss)"
   ],
   "metadata": {
    "collapsed": false,
    "ExecuteTime": {
     "end_time": "2024-05-26T21:57:35.922041281Z",
     "start_time": "2024-05-26T21:57:35.205995606Z"
    }
   },
   "id": "f4c591ac37a83162"
  },
  {
   "cell_type": "code",
   "execution_count": 13,
   "outputs": [],
   "source": [
    "def get_decomposed_solver(tasks_file: str, machines_file: str, deadline: int, max_graph_size: int):\n",
    "    workflow = Workflow(tasks_file, machines_file, deadline)\n",
    "    division = SeriesParallelSplitFinal().decompose(workflow, max_graph_size)\n",
    "    problems = map(lambda w: WorkflowSchedulingOneHot(w), division.workflows)\n",
    "    solvers = map(lambda p: WorkflowSchedulingSolverDecorator(Gurobi(p)), problems)\n",
    "    return DecomposedWorkflowSchedulingSolver(list(solvers), division)"
   ],
   "metadata": {
    "collapsed": false,
    "ExecuteTime": {
     "end_time": "2024-05-26T22:12:07.210723167Z",
     "start_time": "2024-05-26T22:12:07.162613710Z"
    }
   },
   "id": "97111821d9763168"
  },
  {
   "cell_type": "code",
   "execution_count": 14,
   "outputs": [],
   "source": [
    "solver = get_decomposed_solver(tasks_file, machines_file, 3770, 58)"
   ],
   "metadata": {
    "collapsed": false,
    "ExecuteTime": {
     "end_time": "2024-05-26T22:12:22.660971750Z",
     "start_time": "2024-05-26T22:12:21.808125695Z"
    }
   },
   "id": "4817979052065efd"
  },
  {
   "cell_type": "code",
   "execution_count": 15,
   "outputs": [
    {
     "name": "stdout",
     "output_type": "stream",
     "text": [
      "Gurobi Optimizer version 10.0.3 build v10.0.3rc0 (linux64)\n",
      "\n",
      "CPU model: Intel(R) Core(TM) i7-7700HQ CPU @ 2.80GHz, instruction set [SSE2|AVX|AVX2]\n",
      "Thread count: 4 physical cores, 8 logical processors, using up to 8 threads\n",
      "\n",
      "Optimize a model with 49 rows, 200 columns and 515 nonzeros\n",
      "Model fingerprint: 0x868d4916\n",
      "Variable types: 0 continuous, 200 integer (200 binary)\n",
      "Coefficient statistics:\n",
      "  Matrix range     [1e+00, 2e+03]\n",
      "  Objective range  [3e+00, 4e+03]\n",
      "  Bounds range     [1e+00, 1e+00]\n",
      "  RHS range        [1e+00, 3e+03]\n",
      "Found heuristic solution: objective 22658.309760\n",
      "Presolve removed 43 rows and 183 columns\n",
      "Presolve time: 0.00s\n",
      "Presolved: 6 rows, 17 columns, 32 nonzeros\n",
      "Found heuristic solution: objective 16991.045760\n",
      "Variable types: 0 continuous, 17 integer (17 binary)\n",
      "\n",
      "Root relaxation: objective 1.696493e+04, 1 iterations, 0.00 seconds (0.00 work units)\n",
      "\n",
      "    Nodes    |    Current Node    |     Objective Bounds      |     Work\n",
      " Expl Unexpl |  Obj  Depth IntInf | Incumbent    BestBd   Gap | It/Node Time\n",
      "\n",
      "     0     0 16964.9309    0    2 16991.0458 16964.9309  0.15%     -    0s\n",
      "H    0     0                    16968.138720 16964.9309  0.02%     -    0s\n",
      "     0     0 16964.9309    0    4 16968.1387 16964.9309  0.02%     -    0s\n",
      "     0     0 16965.8864    0    2 16968.1387 16965.8864  0.01%     -    0s\n",
      "     0     0 16967.3131    0    2 16968.1387 16967.3131  0.00%     -    0s\n",
      "\n",
      "Cutting planes:\n",
      "  Gomory: 1\n",
      "  GUB cover: 1\n",
      "\n",
      "Explored 1 nodes (7 simplex iterations) in 0.03 seconds (0.00 work units)\n",
      "Thread count was 8 (of 8 available processors)\n",
      "\n",
      "Solution count 3: 16968.1 16991 22658.3 \n",
      "\n",
      "Optimal solution found (tolerance 1.00e-04)\n",
      "Best objective 1.696813872000e+04, best bound 1.696731312434e+04, gap 0.0049%\n",
      "Gurobi Optimizer version 10.0.3 build v10.0.3rc0 (linux64)\n",
      "\n",
      "CPU model: Intel(R) Core(TM) i7-7700HQ CPU @ 2.80GHz, instruction set [SSE2|AVX|AVX2]\n",
      "Thread count: 4 physical cores, 8 logical processors, using up to 8 threads\n",
      "\n",
      "Optimize a model with 3 rows, 10 columns and 15 nonzeros\n",
      "Model fingerprint: 0xf26d2c29\n",
      "Variable types: 0 continuous, 10 integer (10 binary)\n",
      "Coefficient statistics:\n",
      "  Matrix range     [1e+00, 4e+02]\n",
      "  Objective range  [4e+02, 7e+02]\n",
      "  Bounds range     [1e+00, 1e+00]\n",
      "  RHS range        [1e+00, 3e+02]\n",
      "Presolve removed 3 rows and 10 columns\n",
      "Presolve time: 0.00s\n",
      "Presolve: All rows and columns removed\n",
      "\n",
      "Explored 0 nodes (0 simplex iterations) in 0.01 seconds (0.00 work units)\n",
      "Thread count was 1 (of 8 available processors)\n",
      "\n",
      "Solution count 1: 467.75 \n",
      "\n",
      "Optimal solution found (tolerance 1.00e-04)\n",
      "Best objective 4.677504000000e+02, best bound 4.677504000000e+02, gap 0.0000%\n",
      "Gurobi Optimizer version 10.0.3 build v10.0.3rc0 (linux64)\n",
      "\n",
      "CPU model: Intel(R) Core(TM) i7-7700HQ CPU @ 2.80GHz, instruction set [SSE2|AVX|AVX2]\n",
      "Thread count: 4 physical cores, 8 logical processors, using up to 8 threads\n",
      "\n",
      "Optimize a model with 42 rows, 170 columns and 370 nonzeros\n",
      "Model fingerprint: 0xc5ea0b0d\n",
      "Variable types: 0 continuous, 170 integer (170 binary)\n",
      "Coefficient statistics:\n",
      "  Matrix range     [1e+00, 2e+03]\n",
      "  Objective range  [6e+00, 4e+03]\n",
      "  Bounds range     [1e+00, 1e+00]\n",
      "  RHS range        [1e+00, 3e+03]\n",
      "Found heuristic solution: objective 21189.044640\n",
      "Presolve removed 32 rows and 141 columns\n",
      "Presolve time: 0.00s\n",
      "Presolved: 10 rows, 29 columns, 61 nonzeros\n",
      "Found heuristic solution: objective 16176.409920\n",
      "Variable types: 0 continuous, 29 integer (29 binary)\n",
      "\n",
      "Root relaxation: objective 1.607304e+04, 5 iterations, 0.00 seconds (0.00 work units)\n",
      "\n",
      "    Nodes    |    Current Node    |     Objective Bounds      |     Work\n",
      " Expl Unexpl |  Obj  Depth IntInf | Incumbent    BestBd   Gap | It/Node Time\n",
      "\n",
      "     0     0 16073.0438    0    4 16176.4099 16073.0438  0.64%     -    0s\n",
      "     0     0 16073.0438    0    4 16176.4099 16073.0438  0.64%     -    0s\n",
      "H    0     0                    16155.237600 16073.0438  0.51%     -    0s\n",
      "H    0     0                    16143.905760 16073.0438  0.44%     -    0s\n",
      "     0     0 16143.9058    0    2 16143.9058 16143.9058  0.00%     -    0s\n",
      "\n",
      "Cutting planes:\n",
      "  Cover: 1\n",
      "  Clique: 2\n",
      "\n",
      "Explored 1 nodes (11 simplex iterations) in 0.02 seconds (0.00 work units)\n",
      "Thread count was 8 (of 8 available processors)\n",
      "\n",
      "Solution count 4: 16143.9 16155.2 16176.4 21189 \n",
      "\n",
      "Optimal solution found (tolerance 1.00e-04)\n",
      "Best objective 1.614390576000e+04, best bound 1.614390576000e+04, gap 0.0000%\n",
      "Gurobi Optimizer version 10.0.3 build v10.0.3rc0 (linux64)\n",
      "\n",
      "CPU model: Intel(R) Core(TM) i7-7700HQ CPU @ 2.80GHz, instruction set [SSE2|AVX|AVX2]\n",
      "Thread count: 4 physical cores, 8 logical processors, using up to 8 threads\n",
      "\n",
      "Optimize a model with 57 rows, 230 columns and 505 nonzeros\n",
      "Model fingerprint: 0xb36706b1\n",
      "Variable types: 0 continuous, 230 integer (230 binary)\n",
      "Coefficient statistics:\n",
      "  Matrix range     [9e-01, 2e+03]\n",
      "  Objective range  [2e+00, 4e+03]\n",
      "  Bounds range     [1e+00, 1e+00]\n",
      "  RHS range        [1e+00, 3e+03]\n",
      "Found heuristic solution: objective 42422.405760\n",
      "Presolve removed 26 rows and 142 columns\n",
      "Presolve time: 0.00s\n",
      "Presolved: 31 rows, 88 columns, 196 nonzeros\n",
      "Found heuristic solution: objective 32279.737920\n",
      "Variable types: 0 continuous, 88 integer (88 binary)\n",
      "Found heuristic solution: objective 32073.680640\n",
      "\n",
      "Root relaxation: objective 3.174238e+04, 8 iterations, 0.00 seconds (0.00 work units)\n",
      "\n",
      "    Nodes    |    Current Node    |     Objective Bounds      |     Work\n",
      " Expl Unexpl |  Obj  Depth IntInf | Incumbent    BestBd   Gap | It/Node Time\n",
      "\n",
      "     0     0 31742.3839    0    6 32073.6806 31742.3839  1.03%     -    0s\n",
      "H    0     0                    31981.397280 31798.0008  0.57%     -    0s\n",
      "H    0     0                    31891.254240 31870.0074  0.07%     -    0s\n",
      "     0     0 31870.0074    0    9 31891.2542 31870.0074  0.07%     -    0s\n",
      "     0     0 31870.0074    0   14 31891.2542 31870.0074  0.07%     -    0s\n",
      "     0     0 31879.3961    0   13 31891.2542 31879.3961  0.04%     -    0s\n",
      "     0     0 31888.2606    0   12 31891.2542 31888.2606  0.01%     -    0s\n",
      "\n",
      "Cutting planes:\n",
      "  Gomory: 6\n",
      "  Cover: 8\n",
      "  Clique: 5\n",
      "  MIR: 3\n",
      "  StrongCG: 2\n",
      "  GUB cover: 2\n",
      "\n",
      "Explored 1 nodes (44 simplex iterations) in 0.03 seconds (0.00 work units)\n",
      "Thread count was 8 (of 8 available processors)\n",
      "\n",
      "Solution count 5: 31891.3 31981.4 32073.7 ... 42422.4\n",
      "\n",
      "Optimal solution found (tolerance 1.00e-04)\n",
      "Best objective 3.189125424000e+04, best bound 3.188826061234e+04, gap 0.0094%\n",
      "Gurobi Optimizer version 10.0.3 build v10.0.3rc0 (linux64)\n",
      "\n",
      "CPU model: Intel(R) Core(TM) i7-7700HQ CPU @ 2.80GHz, instruction set [SSE2|AVX|AVX2]\n",
      "Thread count: 4 physical cores, 8 logical processors, using up to 8 threads\n",
      "\n",
      "Optimize a model with 3 rows, 10 columns and 15 nonzeros\n",
      "Model fingerprint: 0x48e26294\n",
      "Variable types: 0 continuous, 10 integer (10 binary)\n",
      "Coefficient statistics:\n",
      "  Matrix range     [1e+00, 2e+02]\n",
      "  Objective range  [2e+02, 4e+02]\n",
      "  Bounds range     [1e+00, 1e+00]\n",
      "  RHS range        [1e+00, 2e+02]\n",
      "Presolve removed 3 rows and 10 columns\n",
      "Presolve time: 0.00s\n",
      "Presolve: All rows and columns removed\n",
      "\n",
      "Explored 0 nodes (0 simplex iterations) in 0.01 seconds (0.00 work units)\n",
      "Thread count was 1 (of 8 available processors)\n",
      "\n",
      "Solution count 1: 279.396 \n",
      "\n",
      "Optimal solution found (tolerance 1.00e-04)\n",
      "Best objective 2.793960000000e+02, best bound 2.793960000000e+02, gap 0.0000%\n",
      "Gurobi Optimizer version 10.0.3 build v10.0.3rc0 (linux64)\n",
      "\n",
      "CPU model: Intel(R) Core(TM) i7-7700HQ CPU @ 2.80GHz, instruction set [SSE2|AVX|AVX2]\n",
      "Thread count: 4 physical cores, 8 logical processors, using up to 8 threads\n",
      "\n",
      "Optimize a model with 3 rows, 10 columns and 15 nonzeros\n",
      "Model fingerprint: 0x31959003\n",
      "Variable types: 0 continuous, 10 integer (10 binary)\n",
      "Coefficient statistics:\n",
      "  Matrix range     [1e+00, 8e+02]\n",
      "  Objective range  [8e+02, 2e+03]\n",
      "  Bounds range     [1e+00, 1e+00]\n",
      "  RHS range        [1e+00, 6e+02]\n",
      "Presolve removed 3 rows and 10 columns\n",
      "Presolve time: 0.00s\n",
      "Presolve: All rows and columns removed\n",
      "\n",
      "Explored 0 nodes (0 simplex iterations) in 0.01 seconds (0.00 work units)\n",
      "Thread count was 1 (of 8 available processors)\n",
      "\n",
      "Solution count 1: 1251.81 \n",
      "\n",
      "Optimal solution found (tolerance 1.00e-04)\n",
      "Best objective 1.251806400000e+03, best bound 1.251806400000e+03, gap 0.0000%\n",
      "Gurobi Optimizer version 10.0.3 build v10.0.3rc0 (linux64)\n",
      "\n",
      "CPU model: Intel(R) Core(TM) i7-7700HQ CPU @ 2.80GHz, instruction set [SSE2|AVX|AVX2]\n",
      "Thread count: 4 physical cores, 8 logical processors, using up to 8 threads\n",
      "\n",
      "Optimize a model with 62 rows, 250 columns and 550 nonzeros\n",
      "Model fingerprint: 0x95c931b8\n",
      "Variable types: 0 continuous, 250 integer (250 binary)\n",
      "Coefficient statistics:\n",
      "  Matrix range     [9e-01, 2e+03]\n",
      "  Objective range  [2e+00, 4e+03]\n",
      "  Bounds range     [1e+00, 1e+00]\n",
      "  RHS range        [1e+00, 2e+03]\n",
      "Found heuristic solution: objective 41855.696160\n",
      "Presolve removed 29 rows and 152 columns\n",
      "Presolve time: 0.00s\n",
      "Presolved: 33 rows, 98 columns, 217 nonzeros\n",
      "Found heuristic solution: objective 34367.422080\n",
      "Variable types: 0 continuous, 98 integer (98 binary)\n",
      "Found heuristic solution: objective 34119.606720\n",
      "\n",
      "Root relaxation: objective 3.331852e+04, 26 iterations, 0.00 seconds (0.00 work units)\n",
      "\n",
      "    Nodes    |    Current Node    |     Objective Bounds      |     Work\n",
      " Expl Unexpl |  Obj  Depth IntInf | Incumbent    BestBd   Gap | It/Node Time\n",
      "\n",
      "     0     0 33318.5194    0   12 34119.6067 33318.5194  2.35%     -    0s\n",
      "H    0     0                    33720.741120 33318.5194  1.19%     -    0s\n",
      "     0     0 33404.4125    0   24 33720.7411 33404.4125  0.94%     -    0s\n",
      "H    0     0                    33596.552640 33404.4125  0.57%     -    0s\n",
      "     0     0 33429.1225    0   21 33596.5526 33429.1225  0.50%     -    0s\n",
      "     0     0 33435.1429    0   21 33596.5526 33435.1429  0.48%     -    0s\n",
      "H    0     0                    33562.862880 33515.3444  0.14%     -    0s\n",
      "     0     0 33515.3444    0   18 33562.8629 33515.3444  0.14%     -    0s\n",
      "     0     0 33527.2688    0   18 33562.8629 33527.2688  0.11%     -    0s\n",
      "     0     0 33534.5670    0   15 33562.8629 33534.5670  0.08%     -    0s\n",
      "     0     0 33534.6798    0   16 33562.8629 33534.6798  0.08%     -    0s\n",
      "     0     0 33534.8076    0   16 33562.8629 33534.8076  0.08%     -    0s\n",
      "     0     0 33551.8745    0   19 33562.8629 33551.8745  0.03%     -    0s\n",
      "\n",
      "Cutting planes:\n",
      "  Gomory: 14\n",
      "  Cover: 7\n",
      "  Clique: 4\n",
      "  MIR: 3\n",
      "  StrongCG: 1\n",
      "  GUB cover: 7\n",
      "\n",
      "Explored 1 nodes (104 simplex iterations) in 0.06 seconds (0.00 work units)\n",
      "Thread count was 8 (of 8 available processors)\n",
      "\n",
      "Solution count 6: 33562.9 33596.6 33720.7 ... 41855.7\n",
      "\n",
      "Optimal solution found (tolerance 1.00e-04)\n",
      "Best objective 3.356286288000e+04, best bound 3.356286288000e+04, gap 0.0000%\n",
      "Gurobi Optimizer version 10.0.3 build v10.0.3rc0 (linux64)\n",
      "\n",
      "CPU model: Intel(R) Core(TM) i7-7700HQ CPU @ 2.80GHz, instruction set [SSE2|AVX|AVX2]\n",
      "Thread count: 4 physical cores, 8 logical processors, using up to 8 threads\n",
      "\n",
      "Optimize a model with 42 rows, 170 columns and 370 nonzeros\n",
      "Model fingerprint: 0x81948d03\n",
      "Variable types: 0 continuous, 170 integer (170 binary)\n",
      "Coefficient statistics:\n",
      "  Matrix range     [2e-01, 2e+03]\n",
      "  Objective range  [3e-01, 4e+03]\n",
      "  Bounds range     [1e+00, 1e+00]\n",
      "  RHS range        [1e+00, 2e+03]\n",
      "Found heuristic solution: objective 17812.651200\n",
      "Presolve removed 31 rows and 138 columns\n",
      "Presolve time: 0.00s\n",
      "Presolved: 11 rows, 32 columns, 68 nonzeros\n",
      "Found heuristic solution: objective 14811.606720\n",
      "Variable types: 0 continuous, 32 integer (32 binary)\n",
      "Found heuristic solution: objective 14723.735040\n",
      "\n",
      "Root relaxation: objective 1.447362e+04, 9 iterations, 0.00 seconds (0.00 work units)\n",
      "\n",
      "    Nodes    |    Current Node    |     Objective Bounds      |     Work\n",
      " Expl Unexpl |  Obj  Depth IntInf | Incumbent    BestBd   Gap | It/Node Time\n",
      "\n",
      "     0     0 14473.6158    0    4 14723.7350 14473.6158  1.70%     -    0s\n",
      "H    0     0                    14514.228960 14473.6158  0.28%     -    0s\n",
      "     0     0 14499.8852    0    2 14514.2290 14499.8852  0.10%     -    0s\n",
      "\n",
      "Cutting planes:\n",
      "  GUB cover: 1\n",
      "\n",
      "Explored 1 nodes (15 simplex iterations) in 0.02 seconds (0.00 work units)\n",
      "Thread count was 8 (of 8 available processors)\n",
      "\n",
      "Solution count 4: 14514.2 14723.7 14811.6 17812.7 \n",
      "\n",
      "Optimal solution found (tolerance 1.00e-04)\n",
      "Best objective 1.451422896000e+04, best bound 1.451422896000e+04, gap 0.0000%\n",
      "Gurobi Optimizer version 10.0.3 build v10.0.3rc0 (linux64)\n",
      "\n",
      "CPU model: Intel(R) Core(TM) i7-7700HQ CPU @ 2.80GHz, instruction set [SSE2|AVX|AVX2]\n",
      "Thread count: 4 physical cores, 8 logical processors, using up to 8 threads\n",
      "\n",
      "Optimize a model with 42 rows, 170 columns and 370 nonzeros\n",
      "Model fingerprint: 0x854977f6\n",
      "Variable types: 0 continuous, 170 integer (170 binary)\n",
      "Coefficient statistics:\n",
      "  Matrix range     [1e+00, 2e+03]\n",
      "  Objective range  [3e+00, 4e+03]\n",
      "  Bounds range     [1e+00, 1e+00]\n",
      "  RHS range        [1e+00, 2e+03]\n",
      "Found heuristic solution: objective 22641.285600\n",
      "Presolve removed 31 rows and 137 columns\n",
      "Presolve time: 0.00s\n",
      "Presolved: 11 rows, 33 columns, 70 nonzeros\n",
      "Found heuristic solution: objective 18355.118400\n",
      "Variable types: 0 continuous, 33 integer (33 binary)\n",
      "Found heuristic solution: objective 18282.734400\n",
      "\n",
      "Root relaxation: objective 1.778591e+04, 9 iterations, 0.00 seconds (0.00 work units)\n",
      "\n",
      "    Nodes    |    Current Node    |     Objective Bounds      |     Work\n",
      " Expl Unexpl |  Obj  Depth IntInf | Incumbent    BestBd   Gap | It/Node Time\n",
      "\n",
      "     0     0 17785.9129    0    4 18282.7344 17785.9129  2.72%     -    0s\n",
      "H    0     0                    18030.039360 17785.9129  1.35%     -    0s\n",
      "H    0     0                    17881.458720 17785.9129  0.53%     -    0s\n",
      "     0     0 17820.3452    0    5 17881.4587 17820.3452  0.34%     -    0s\n",
      "H    0     0                    17879.786400 17820.3452  0.33%     -    0s\n",
      "H    0     0                    17868.804000 17820.3452  0.27%     -    0s\n",
      "H    0     0                    17867.131680 17820.3452  0.26%     -    0s\n",
      "\n",
      "Cutting planes:\n",
      "  Gomory: 2\n",
      "  Cover: 2\n",
      "  RLT: 1\n",
      "\n",
      "Explored 1 nodes (17 simplex iterations) in 0.02 seconds (0.00 work units)\n",
      "Thread count was 8 (of 8 available processors)\n",
      "\n",
      "Solution count 8: 17867.1 17868.8 17879.8 ... 22641.3\n",
      "\n",
      "Optimal solution found (tolerance 1.00e-04)\n",
      "Best objective 1.786713168000e+04, best bound 1.786713168000e+04, gap 0.0000%\n",
      "Gurobi Optimizer version 10.0.3 build v10.0.3rc0 (linux64)\n",
      "\n",
      "CPU model: Intel(R) Core(TM) i7-7700HQ CPU @ 2.80GHz, instruction set [SSE2|AVX|AVX2]\n",
      "Thread count: 4 physical cores, 8 logical processors, using up to 8 threads\n",
      "\n",
      "Optimize a model with 3 rows, 10 columns and 15 nonzeros\n",
      "Model fingerprint: 0x9a70d95c\n",
      "Variable types: 0 continuous, 10 integer (10 binary)\n",
      "Coefficient statistics:\n",
      "  Matrix range     [1e+00, 2e+02]\n",
      "  Objective range  [2e+02, 4e+02]\n",
      "  Bounds range     [1e+00, 1e+00]\n",
      "  RHS range        [1e+00, 2e+02]\n",
      "Presolve removed 3 rows and 10 columns\n",
      "Presolve time: 0.00s\n",
      "Presolve: All rows and columns removed\n",
      "\n",
      "Explored 0 nodes (0 simplex iterations) in 0.01 seconds (0.00 work units)\n",
      "Thread count was 1 (of 8 available processors)\n",
      "\n",
      "Solution count 1: 335.275 \n",
      "\n",
      "Optimal solution found (tolerance 1.00e-04)\n",
      "Best objective 3.352752000000e+02, best bound 3.352752000000e+02, gap 0.0000%\n",
      "Gurobi Optimizer version 10.0.3 build v10.0.3rc0 (linux64)\n",
      "\n",
      "CPU model: Intel(R) Core(TM) i7-7700HQ CPU @ 2.80GHz, instruction set [SSE2|AVX|AVX2]\n",
      "Thread count: 4 physical cores, 8 logical processors, using up to 8 threads\n",
      "\n",
      "Optimize a model with 4 rows, 15 columns and 25 nonzeros\n",
      "Model fingerprint: 0xb5c6c820\n",
      "Variable types: 0 continuous, 15 integer (15 binary)\n",
      "Coefficient statistics:\n",
      "  Matrix range     [1e+00, 6e+02]\n",
      "  Objective range  [3e+02, 1e+03]\n",
      "  Bounds range     [1e+00, 1e+00]\n",
      "  RHS range        [1e+00, 6e+02]\n",
      "Found heuristic solution: objective 1345.4625600\n",
      "Presolve removed 4 rows and 15 columns\n",
      "Presolve time: 0.00s\n",
      "Presolve: All rows and columns removed\n",
      "\n",
      "Explored 0 nodes (0 simplex iterations) in 0.01 seconds (0.00 work units)\n",
      "Thread count was 1 (of 8 available processors)\n",
      "\n",
      "Solution count 2: 1341.55 1345.46 \n",
      "\n",
      "Optimal solution found (tolerance 1.00e-04)\n",
      "Best objective 1.341550080000e+03, best bound 1.341550080000e+03, gap 0.0000%\n"
     ]
    },
    {
     "data": {
      "text/plain": "WorkflowSchedule(cost=133595.46623999995, time=3692.392704, deadline=3770, machine_assignment={'filterContams_filterContams_HEP2_MSP1_Digests_s_1_sequence_9_ID0000069': 'Machine1', 'fast2bfq_fast2bfq_HEP2_MSP1_Digests_s_1_sequence_5_ID0000006': 'Machine1', 'mapMerge_mapMerge_HEP2_MSP1_Digests_ID0000117': 'Machine3', 'fast2bfq_fast2bfq_HEP2_MSP1_Digests_s_1_sequence_2_ID0000003': 'Machine1', 'filterContams_filterContams_HEP2_MSP1_Digests_s_1_sequence_5_ID0000065': 'Machine1', 'fast2bfq_fast2bfq_HEP2_MSP1_Digests_s_1_sequence_3_ID0000004': 'Machine1', 'fast2bfq_fast2bfq_HEP2_MSP1_Digests_s_1_sequence_6_ID0000007': 'Machine1', 'sol2sanger_sol2sanger_HEP2_MSP1_Digests_s_1_sequence_6_ID0000183': 'Machine1', 'sol2sanger_sol2sanger_HEP2_MSP1_Digests_s_1_sequence_4_ID0000181': 'Machine1', 'map_map_HEP2_MSP1_Digests_s_1_sequence_5_ID0000125': 'Machine1', 'fast2bfq_fast2bfq_HEP2_MSP1_Digests_s_1_sequence_9_ID0000010': 'Machine1', 'map_map_HEP2_MSP1_Digests_s_1_sequence_7_ID0000127': 'Machine1', 'sol2sanger_sol2sanger_HEP2_MSP1_Digests_s_1_sequence_1_ID0000178': 'Machine1', 'map_map_HEP2_MSP1_Digests_s_1_sequence_8_ID0000128': 'Machine1', 'map_map_HEP2_MSP1_Digests_s_1_sequence_4_ID0000124': 'Machine1', 'fast2bfq_fast2bfq_HEP2_MSP1_Digests_s_1_sequence_4_ID0000005': 'Machine1', 'sol2sanger_sol2sanger_HEP2_MSP1_Digests_s_1_sequence_2_ID0000179': 'Machine1', 'fast2bfq_fast2bfq_HEP2_MSP1_Digests_s_1_sequence_1_ID0000002': 'Machine1', 'fast2bfq_fast2bfq_HEP2_MSP1_Digests_s_1_sequence_8_ID0000009': 'Machine1', 'map_map_HEP2_MSP1_Digests_s_1_sequence_3_ID0000123': 'Machine1', 'filterContams_filterContams_HEP2_MSP1_Digests_s_1_sequence_8_ID0000068': 'Machine1', 'mapMerge_mapMerge_HEP2_MSP1_Digests_s_1_sequence_ID0000118': 'Machine2', 'sol2sanger_sol2sanger_HEP2_MSP1_Digests_s_1_sequence_9_ID0000186': 'Machine1', 'map_map_HEP2_MSP1_Digests_s_1_sequence_2_ID0000122': 'Machine1', 'filterContams_filterContams_HEP2_MSP1_Digests_s_1_sequence_6_ID0000066': 'Machine1', 'map_map_HEP2_MSP1_Digests_s_1_sequence_6_ID0000126': 'Machine1', 'fastqSplit_fastqSplit_HEP2_MSP1_Digests_s_1_sequence_ID0000058': 'Machine2', 'map_map_HEP2_MSP1_Digests_s_1_sequence_9_ID0000129': 'Machine1', 'filterContams_filterContams_HEP2_MSP1_Digests_s_1_sequence_2_ID0000062': 'Machine1', 'filterContams_filterContams_HEP2_MSP1_Digests_s_1_sequence_7_ID0000067': 'Machine2', 'filterContams_filterContams_HEP2_MSP1_Digests_s_1_sequence_4_ID0000064': 'Machine1', 'map_map_HEP2_MSP1_Digests_s_1_sequence_1_ID0000121': 'Machine1', 'sol2sanger_sol2sanger_HEP2_MSP1_Digests_s_1_sequence_3_ID0000180': 'Machine1', 'sol2sanger_sol2sanger_HEP2_MSP1_Digests_s_1_sequence_5_ID0000182': 'Machine1', 'sol2sanger_sol2sanger_HEP2_MSP1_Digests_s_1_sequence_8_ID0000185': 'Machine1', 'filterContams_filterContams_HEP2_MSP1_Digests_s_1_sequence_3_ID0000063': 'Machine1', 'fast2bfq_fast2bfq_HEP2_MSP1_Digests_s_1_sequence_7_ID0000008': 'Machine1', 'filterContams_filterContams_HEP2_MSP1_Digests_s_1_sequence_1_ID0000061': 'Machine1', 'sol2sanger_sol2sanger_HEP2_MSP1_Digests_s_1_sequence_7_ID0000184': 'Machine1', 'NewNode233': 'Machine1', 'fastqSplit_fastqSplit_HEP2_MSP1_Digests_s_2_sequence_ID0000059': 'Machine2', 'mapMerge_mapMerge_HEP2_MSP1_Digests_s_2_sequence_ID0000119': 'Machine5', 'map_map_HEP2_MSP1_Digests_s_2_sequence_19_ID0000140': 'Machine1', 'map_map_HEP2_MSP1_Digests_s_2_sequence_18_ID0000139': 'Machine2', 'fast2bfq_fast2bfq_HEP2_MSP1_Digests_s_2_sequence_9_ID0000029': 'Machine1', 'filterContams_filterContams_HEP2_MSP1_Digests_s_2_sequence_12_ID0000073': 'Machine1', 'sol2sanger_sol2sanger_HEP2_MSP1_Digests_s_2_sequence_9_ID0000205': 'Machine1', 'map_map_HEP2_MSP1_Digests_s_2_sequence_9_ID0000148': 'Machine1', 'map_map_HEP2_MSP1_Digests_s_2_sequence_12_ID0000133': 'Machine1', 'filterContams_filterContams_HEP2_MSP1_Digests_s_2_sequence_9_ID0000088': 'Machine1', 'filterContams_filterContams_HEP2_MSP1_Digests_s_2_sequence_5_ID0000084': 'Machine1', 'fast2bfq_fast2bfq_HEP2_MSP1_Digests_s_2_sequence_10_ID0000012': 'Machine1', 'filterContams_filterContams_HEP2_MSP1_Digests_s_2_sequence_18_ID0000079': 'Machine2', 'fast2bfq_fast2bfq_HEP2_MSP1_Digests_s_2_sequence_19_ID0000021': 'Machine1', 'fast2bfq_fast2bfq_HEP2_MSP1_Digests_s_2_sequence_5_ID0000025': 'Machine1', 'sol2sanger_sol2sanger_HEP2_MSP1_Digests_s_2_sequence_18_ID0000196': 'Machine2', 'fast2bfq_fast2bfq_HEP2_MSP1_Digests_s_2_sequence_13_ID0000015': 'Machine1', 'map_map_HEP2_MSP1_Digests_s_2_sequence_13_ID0000134': 'Machine1', 'fast2bfq_fast2bfq_HEP2_MSP1_Digests_s_2_sequence_3_ID0000023': 'Machine1', 'filterContams_filterContams_HEP2_MSP1_Digests_s_2_sequence_3_ID0000082': 'Machine1', 'sol2sanger_sol2sanger_HEP2_MSP1_Digests_s_2_sequence_13_ID0000191': 'Machine1', 'map_map_HEP2_MSP1_Digests_s_2_sequence_10_ID0000131': 'Machine1', 'map_map_HEP2_MSP1_Digests_s_2_sequence_5_ID0000144': 'Machine2', 'sol2sanger_sol2sanger_HEP2_MSP1_Digests_s_2_sequence_3_ID0000199': 'Machine1', 'filterContams_filterContams_HEP2_MSP1_Digests_s_2_sequence_19_ID0000080': 'Machine1', 'filterContams_filterContams_HEP2_MSP1_Digests_s_2_sequence_13_ID0000074': 'Machine1', 'fastqSplit_fastqSplit_HEP2_MSP1_Digests_s_2_sequence_ID0000059_substitute': 'Machine1', 'sol2sanger_sol2sanger_HEP2_MSP1_Digests_s_2_sequence_10_ID0000188': 'Machine1', 'sol2sanger_sol2sanger_HEP2_MSP1_Digests_s_2_sequence_12_ID0000190': 'Machine1', 'sol2sanger_sol2sanger_HEP2_MSP1_Digests_s_2_sequence_5_ID0000201': 'Machine2', 'fast2bfq_fast2bfq_HEP2_MSP1_Digests_s_2_sequence_12_ID0000014': 'Machine1', 'map_map_HEP2_MSP1_Digests_s_2_sequence_3_ID0000142': 'Machine1', 'sol2sanger_sol2sanger_HEP2_MSP1_Digests_s_2_sequence_19_ID0000197': 'Machine1', 'filterContams_filterContams_HEP2_MSP1_Digests_s_2_sequence_10_ID0000071': 'Machine1', 'fast2bfq_fast2bfq_HEP2_MSP1_Digests_s_2_sequence_18_ID0000020': 'Machine1', 'fast2bfq_fast2bfq_HEP2_MSP1_Digests_s_2_sequence_16_ID0000018': 'Machine1', 'map_map_HEP2_MSP1_Digests_s_2_sequence_2_ID0000141': 'Machine2', 'map_map_HEP2_MSP1_Digests_s_2_sequence_1_ID0000130': 'Machine2', 'fast2bfq_fast2bfq_HEP2_MSP1_Digests_s_2_sequence_1_ID0000011': 'Machine3', 'sol2sanger_sol2sanger_HEP2_MSP1_Digests_s_2_sequence_16_ID0000194': 'Machine1', 'fast2bfq_fast2bfq_HEP2_MSP1_Digests_s_2_sequence_8_ID0000028': 'Machine1', 'fast2bfq_fast2bfq_HEP2_MSP1_Digests_s_2_sequence_11_ID0000013': 'Machine1', 'map_map_HEP2_MSP1_Digests_s_2_sequence_7_ID0000146': 'Machine1', 'sol2sanger_sol2sanger_HEP2_MSP1_Digests_s_2_sequence_7_ID0000203': 'Machine1', 'sol2sanger_sol2sanger_HEP2_MSP1_Digests_s_2_sequence_14_ID0000192': 'Machine2', 'map_map_HEP2_MSP1_Digests_s_2_sequence_14_ID0000135': 'Machine2', 'map_map_HEP2_MSP1_Digests_s_2_sequence_15_ID0000136': 'Machine1', 'filterContams_filterContams_HEP2_MSP1_Digests_s_2_sequence_15_ID0000076': 'Machine1', 'filterContams_filterContams_HEP2_MSP1_Digests_s_2_sequence_11_ID0000072': 'Machine1', 'filterContams_filterContams_HEP2_MSP1_Digests_s_2_sequence_6_ID0000085': 'Machine1', 'sol2sanger_sol2sanger_HEP2_MSP1_Digests_s_2_sequence_11_ID0000189': 'Machine1', 'sol2sanger_sol2sanger_HEP2_MSP1_Digests_s_2_sequence_17_ID0000195': 'Machine1', 'map_map_HEP2_MSP1_Digests_s_2_sequence_16_ID0000137': 'Machine1', 'filterContams_filterContams_HEP2_MSP1_Digests_s_2_sequence_14_ID0000075': 'Machine1', 'sol2sanger_sol2sanger_HEP2_MSP1_Digests_s_2_sequence_2_ID0000198': 'Machine2', 'fast2bfq_fast2bfq_HEP2_MSP1_Digests_s_2_sequence_4_ID0000024': 'Machine1', 'sol2sanger_sol2sanger_HEP2_MSP1_Digests_s_2_sequence_15_ID0000193': 'Machine1', 'filterContams_filterContams_HEP2_MSP1_Digests_s_2_sequence_2_ID0000081': 'Machine1', 'filterContams_filterContams_HEP2_MSP1_Digests_s_2_sequence_1_ID0000070': 'Machine1', 'fast2bfq_fast2bfq_HEP2_MSP1_Digests_s_2_sequence_14_ID0000016': 'Machine1', 'fast2bfq_fast2bfq_HEP2_MSP1_Digests_s_2_sequence_15_ID0000017': 'Machine1', 'map_map_HEP2_MSP1_Digests_s_2_sequence_17_ID0000138': 'Machine1', 'fast2bfq_fast2bfq_HEP2_MSP1_Digests_s_2_sequence_2_ID0000022': 'Machine1', 'filterContams_filterContams_HEP2_MSP1_Digests_s_2_sequence_17_ID0000078': 'Machine1', 'filterContams_filterContams_HEP2_MSP1_Digests_s_2_sequence_4_ID0000083': 'Machine1', 'sol2sanger_sol2sanger_HEP2_MSP1_Digests_s_2_sequence_4_ID0000200': 'Machine1', 'fast2bfq_fast2bfq_HEP2_MSP1_Digests_s_2_sequence_6_ID0000026': 'Machine2', 'map_map_HEP2_MSP1_Digests_s_2_sequence_4_ID0000143': 'Machine2', 'fast2bfq_fast2bfq_HEP2_MSP1_Digests_s_2_sequence_7_ID0000027': 'Machine1', 'filterContams_filterContams_HEP2_MSP1_Digests_s_2_sequence_7_ID0000086': 'Machine1', 'sol2sanger_sol2sanger_HEP2_MSP1_Digests_s_2_sequence_6_ID0000202': 'Machine2', 'filterContams_filterContams_HEP2_MSP1_Digests_s_2_sequence_16_ID0000077': 'Machine1', 'filterContams_filterContams_HEP2_MSP1_Digests_s_2_sequence_8_ID0000087': 'Machine1', 'sol2sanger_sol2sanger_HEP2_MSP1_Digests_s_2_sequence_8_ID0000204': 'Machine1', 'sol2sanger_sol2sanger_HEP2_MSP1_Digests_s_2_sequence_1_ID0000187': 'Machine1', 'map_map_HEP2_MSP1_Digests_s_2_sequence_6_ID0000145': 'Machine2', 'map_map_HEP2_MSP1_Digests_s_2_sequence_11_ID0000132': 'Machine1', 'map_map_HEP2_MSP1_Digests_s_2_sequence_8_ID0000147': 'Machine2', 'fast2bfq_fast2bfq_HEP2_MSP1_Digests_s_2_sequence_17_ID0000019': 'Machine1', 'mapMerge_mapMerge_HEP2_MSP1_Digests_s_2_sequence_ID0000119_substitute': 'Machine1', 'fastqSplit_fastqSplit_HEP2_MSP1_Digests_s_3_sequence_ID0000060': 'Machine3', 'fast2bfq_fast2bfq_HEP2_MSP1_Digests_s_3_sequence_23_ID0000045': 'Machine1', 'sol2sanger_sol2sanger_HEP2_MSP1_Digests_s_3_sequence_3_ID0000227': 'Machine1', 'filterContams_filterContams_HEP2_MSP1_Digests_s_3_sequence_4_ID0000111': 'Machine3', 'filterContams_filterContams_HEP2_MSP1_Digests_s_3_sequence_27_ID0000108': 'Machine2', 'sol2sanger_sol2sanger_HEP2_MSP1_Digests_s_3_sequence_19_ID0000216': 'Machine1', 'fast2bfq_fast2bfq_HEP2_MSP1_Digests_s_3_sequence_11_ID0000032': 'Machine1', 'filterContams_filterContams_HEP2_MSP1_Digests_s_3_sequence_23_ID0000104': 'Machine1', 'map_map_HEP2_MSP1_Digests_s_3_sequence_20_ID0000161': 'Machine1', 'sol2sanger_sol2sanger_HEP2_MSP1_Digests_s_3_sequence_20_ID0000218': 'Machine1', 'map_map_HEP2_MSP1_Digests_s_3_sequence_5_ID0000172': 'Machine1', 'fast2bfq_fast2bfq_HEP2_MSP1_Digests_s_3_sequence_1_ID0000030': 'Machine1', 'filterContams_filterContams_HEP2_MSP1_Digests_s_3_sequence_19_ID0000099': 'Machine1', 'fast2bfq_fast2bfq_HEP2_MSP1_Digests_s_3_sequence_3_ID0000051': 'Machine1', 'map_map_HEP2_MSP1_Digests_s_3_sequence_23_ID0000164': 'Machine1', 'fast2bfq_fast2bfq_HEP2_MSP1_Digests_s_3_sequence_2_ID0000041': 'Machine1', 'map_map_HEP2_MSP1_Digests_s_3_sequence_4_ID0000171': 'Machine2', 'map_map_HEP2_MSP1_Digests_s_3_sequence_2_ID0000160': 'Machine2', 'sol2sanger_sol2sanger_HEP2_MSP1_Digests_s_3_sequence_5_ID0000229': 'Machine1', 'map_map_HEP2_MSP1_Digests_s_3_sequence_3_ID0000170': 'Machine1', 'map_map_HEP2_MSP1_Digests_s_3_sequence_1_ID0000149': 'Machine2', 'map_map_HEP2_MSP1_Digests_s_3_sequence_27_ID0000168': 'Machine1', 'sol2sanger_sol2sanger_HEP2_MSP1_Digests_s_3_sequence_4_ID0000228': 'Machine3', 'map_map_HEP2_MSP1_Digests_s_3_sequence_11_ID0000151': 'Machine3', 'map_map_HEP2_MSP1_Digests_s_3_sequence_15_ID0000155': 'Machine3', 'mapMerge_mapMerge_HEP2_MSP1_Digests_s_3_sequence_ID0000120': 'Machine5', 'fast2bfq_fast2bfq_HEP2_MSP1_Digests_s_3_sequence_5_ID0000053': 'Machine1', 'filterContams_filterContams_HEP2_MSP1_Digests_s_3_sequence_3_ID0000110': 'Machine1', 'filterContams_filterContams_HEP2_MSP1_Digests_s_3_sequence_1_ID0000089': 'Machine3', 'filterContams_filterContams_HEP2_MSP1_Digests_s_3_sequence_2_ID0000100': 'Machine3', 'sol2sanger_sol2sanger_HEP2_MSP1_Digests_s_3_sequence_16_ID0000213': 'Machine1', 'fastqSplit_fastqSplit_HEP2_MSP1_Digests_s_3_sequence_ID0000060_substitute': 'Machine1', 'sol2sanger_sol2sanger_HEP2_MSP1_Digests_s_3_sequence_15_ID0000212': 'Machine1', 'sol2sanger_sol2sanger_HEP2_MSP1_Digests_s_3_sequence_2_ID0000217': 'Machine3', 'fast2bfq_fast2bfq_HEP2_MSP1_Digests_s_3_sequence_20_ID0000042': 'Machine1', 'filterContams_filterContams_HEP2_MSP1_Digests_s_3_sequence_5_ID0000112': 'Machine2', 'sol2sanger_sol2sanger_HEP2_MSP1_Digests_s_3_sequence_27_ID0000225': 'Machine5', 'fast2bfq_fast2bfq_HEP2_MSP1_Digests_s_3_sequence_15_ID0000036': 'Machine4', 'filterContams_filterContams_HEP2_MSP1_Digests_s_3_sequence_20_ID0000101': 'Machine1', 'filterContams_filterContams_HEP2_MSP1_Digests_s_3_sequence_15_ID0000095': 'Machine2', 'sol2sanger_sol2sanger_HEP2_MSP1_Digests_s_3_sequence_23_ID0000221': 'Machine1', 'map_map_HEP2_MSP1_Digests_s_3_sequence_19_ID0000159': 'Machine1', 'filterContams_filterContams_HEP2_MSP1_Digests_s_3_sequence_16_ID0000096': 'Machine3', 'fast2bfq_fast2bfq_HEP2_MSP1_Digests_s_3_sequence_19_ID0000040': 'Machine1', 'fast2bfq_fast2bfq_HEP2_MSP1_Digests_s_3_sequence_16_ID0000037': 'Machine1', 'fast2bfq_fast2bfq_HEP2_MSP1_Digests_s_3_sequence_4_ID0000052': 'Machine5', 'fast2bfq_fast2bfq_HEP2_MSP1_Digests_s_3_sequence_27_ID0000049': 'Machine3', 'sol2sanger_sol2sanger_HEP2_MSP1_Digests_s_3_sequence_11_ID0000208': 'Machine2', 'sol2sanger_sol2sanger_HEP2_MSP1_Digests_s_3_sequence_1_ID0000206': 'Machine4', 'map_map_HEP2_MSP1_Digests_s_3_sequence_16_ID0000156': 'Machine1', 'filterContams_filterContams_HEP2_MSP1_Digests_s_3_sequence_11_ID0000091': 'Machine2', 'sol2sanger_sol2sanger_HEP2_MSP1_Digests_s_3_sequence_10_ID0000207': 'Machine3', 'sol2sanger_sol2sanger_HEP2_MSP1_Digests_s_3_sequence_17_ID0000214': 'Machine1', 'filterContams_filterContams_HEP2_MSP1_Digests_s_3_sequence_21_ID0000102': 'Machine1', 'sol2sanger_sol2sanger_HEP2_MSP1_Digests_s_3_sequence_28_ID0000226': 'Machine1', 'sol2sanger_sol2sanger_HEP2_MSP1_Digests_s_3_sequence_22_ID0000220': 'Machine1', 'map_map_HEP2_MSP1_Digests_s_3_sequence_10_ID0000150': 'Machine2', 'filterContams_filterContams_HEP2_MSP1_Digests_s_3_sequence_10_ID0000090': 'Machine3', 'fast2bfq_fast2bfq_HEP2_MSP1_Digests_s_3_sequence_10_ID0000031': 'Machine2', 'filterContams_filterContams_HEP2_MSP1_Digests_s_3_sequence_17_ID0000097': 'Machine1', 'sol2sanger_sol2sanger_HEP2_MSP1_Digests_s_3_sequence_21_ID0000219': 'Machine1', 'map_map_HEP2_MSP1_Digests_s_3_sequence_28_ID0000169': 'Machine1', 'map_map_HEP2_MSP1_Digests_s_3_sequence_7_ID0000174': 'Machine1', 'sol2sanger_sol2sanger_HEP2_MSP1_Digests_s_3_sequence_7_ID0000231': 'Machine1', 'filterContams_filterContams_HEP2_MSP1_Digests_s_3_sequence_28_ID0000109': 'Machine1', 'map_map_HEP2_MSP1_Digests_s_3_sequence_17_ID0000157': 'Machine1', 'filterContams_filterContams_HEP2_MSP1_Digests_s_3_sequence_24_ID0000105': 'Machine3', 'fast2bfq_fast2bfq_HEP2_MSP1_Digests_s_3_sequence_21_ID0000043': 'Machine1', 'map_map_HEP2_MSP1_Digests_s_3_sequence_25_ID0000166': 'Machine1', 'filterContams_filterContams_HEP2_MSP1_Digests_s_3_sequence_25_ID0000106': 'Machine1', 'filterContams_filterContams_HEP2_MSP1_Digests_s_3_sequence_7_ID0000114': 'Machine1', 'fast2bfq_fast2bfq_HEP2_MSP1_Digests_s_3_sequence_7_ID0000055': 'Machine1', 'filterContams_filterContams_HEP2_MSP1_Digests_s_3_sequence_22_ID0000103': 'Machine1', 'fast2bfq_fast2bfq_HEP2_MSP1_Digests_s_3_sequence_25_ID0000047': 'Machine1', 'map_map_HEP2_MSP1_Digests_s_3_sequence_24_ID0000165': 'Machine2', 'fast2bfq_fast2bfq_HEP2_MSP1_Digests_s_3_sequence_24_ID0000046': 'Machine2', 'fast2bfq_fast2bfq_HEP2_MSP1_Digests_s_3_sequence_22_ID0000044': 'Machine1', 'sol2sanger_sol2sanger_HEP2_MSP1_Digests_s_3_sequence_24_ID0000222': 'Machine4', 'fast2bfq_fast2bfq_HEP2_MSP1_Digests_s_3_sequence_17_ID0000038': 'Machine1', 'sol2sanger_sol2sanger_HEP2_MSP1_Digests_s_3_sequence_25_ID0000223': 'Machine1', 'fast2bfq_fast2bfq_HEP2_MSP1_Digests_s_3_sequence_28_ID0000050': 'Machine1', 'map_map_HEP2_MSP1_Digests_s_3_sequence_21_ID0000162': 'Machine1', 'map_map_HEP2_MSP1_Digests_s_3_sequence_22_ID0000163': 'Machine1', 'fast2bfq_fast2bfq_HEP2_MSP1_Digests_s_3_sequence_8_ID0000056': 'Machine1', 'sol2sanger_sol2sanger_HEP2_MSP1_Digests_s_3_sequence_13_ID0000210': 'Machine1', 'filterContams_filterContams_HEP2_MSP1_Digests_s_3_sequence_13_ID0000093': 'Machine1', 'fast2bfq_fast2bfq_HEP2_MSP1_Digests_s_3_sequence_14_ID0000035': 'Machine4', 'filterContams_filterContams_HEP2_MSP1_Digests_s_3_sequence_12_ID0000092': 'Machine1', 'map_map_HEP2_MSP1_Digests_s_3_sequence_14_ID0000154': 'Machine3', 'sol2sanger_sol2sanger_HEP2_MSP1_Digests_s_3_sequence_14_ID0000211': 'Machine2', 'filterContams_filterContams_HEP2_MSP1_Digests_s_3_sequence_18_ID0000098': 'Machine1', 'filterContams_filterContams_HEP2_MSP1_Digests_s_3_sequence_9_ID0000116': 'Machine1', 'sol2sanger_sol2sanger_HEP2_MSP1_Digests_s_3_sequence_8_ID0000232': 'Machine1', 'fast2bfq_fast2bfq_HEP2_MSP1_Digests_s_3_sequence_12_ID0000033': 'Machine1', 'sol2sanger_sol2sanger_HEP2_MSP1_Digests_s_3_sequence_6_ID0000230': 'Machine1', 'sol2sanger_sol2sanger_HEP2_MSP1_Digests_s_3_sequence_26_ID0000224': 'Machine1', 'fast2bfq_fast2bfq_HEP2_MSP1_Digests_s_3_sequence_18_ID0000039': 'Machine1', 'map_map_HEP2_MSP1_Digests_s_3_sequence_13_ID0000153': 'Machine1', 'filterContams_filterContams_HEP2_MSP1_Digests_s_3_sequence_8_ID0000115': 'Machine1', 'map_map_HEP2_MSP1_Digests_s_3_sequence_9_ID0000176': 'Machine1', 'map_map_HEP2_MSP1_Digests_s_3_sequence_18_ID0000158': 'Machine1', 'map_map_HEP2_MSP1_Digests_s_3_sequence_12_ID0000152': 'Machine1', 'fast2bfq_fast2bfq_HEP2_MSP1_Digests_s_3_sequence_13_ID0000034': 'Machine1', 'sol2sanger_sol2sanger_HEP2_MSP1_Digests_s_3_sequence_9_ID0000233': 'Machine1', 'fast2bfq_fast2bfq_HEP2_MSP1_Digests_s_3_sequence_6_ID0000054': 'Machine1', 'fast2bfq_fast2bfq_HEP2_MSP1_Digests_s_3_sequence_26_ID0000048': 'Machine1', 'map_map_HEP2_MSP1_Digests_s_3_sequence_8_ID0000175': 'Machine1', 'filterContams_filterContams_HEP2_MSP1_Digests_s_3_sequence_26_ID0000107': 'Machine2', 'sol2sanger_sol2sanger_HEP2_MSP1_Digests_s_3_sequence_18_ID0000215': 'Machine1', 'sol2sanger_sol2sanger_HEP2_MSP1_Digests_s_3_sequence_12_ID0000209': 'Machine1', 'map_map_HEP2_MSP1_Digests_s_3_sequence_26_ID0000167': 'Machine3', 'filterContams_filterContams_HEP2_MSP1_Digests_s_3_sequence_14_ID0000094': 'Machine2', 'map_map_HEP2_MSP1_Digests_s_3_sequence_6_ID0000173': 'Machine1', 'fast2bfq_fast2bfq_HEP2_MSP1_Digests_s_3_sequence_9_ID0000057': 'Machine1', 'filterContams_filterContams_HEP2_MSP1_Digests_s_3_sequence_6_ID0000113': 'Machine1', 'mapMerge_mapMerge_HEP2_MSP1_Digests_s_3_sequence_ID0000120_substitute': 'Machine1', 'pileup_pileup_ID0000177': 'Machine3', 'mapMerge_mapMerge_HEP2_MSP1_Digests_ID0000117_substitute': 'Machine1', 'chr21_chr21_ID0000001': 'Machine3'}, workflow=<QHyper.problems.workflow_scheduling.Workflow object at 0x7f37ea810550>, parts=[WorkflowSchedule(cost=16968.138719999995, time=3134.611584, deadline=3137.1778776110596, machine_assignment={'filterContams_filterContams_HEP2_MSP1_Digests_s_1_sequence_9_ID0000069': 'Machine1', 'fast2bfq_fast2bfq_HEP2_MSP1_Digests_s_1_sequence_5_ID0000006': 'Machine1', 'mapMerge_mapMerge_HEP2_MSP1_Digests_ID0000117': 'Machine1', 'fast2bfq_fast2bfq_HEP2_MSP1_Digests_s_1_sequence_2_ID0000003': 'Machine1', 'filterContams_filterContams_HEP2_MSP1_Digests_s_1_sequence_5_ID0000065': 'Machine1', 'fast2bfq_fast2bfq_HEP2_MSP1_Digests_s_1_sequence_3_ID0000004': 'Machine1', 'fast2bfq_fast2bfq_HEP2_MSP1_Digests_s_1_sequence_6_ID0000007': 'Machine1', 'sol2sanger_sol2sanger_HEP2_MSP1_Digests_s_1_sequence_6_ID0000183': 'Machine1', 'sol2sanger_sol2sanger_HEP2_MSP1_Digests_s_1_sequence_4_ID0000181': 'Machine1', 'map_map_HEP2_MSP1_Digests_s_1_sequence_5_ID0000125': 'Machine1', 'fast2bfq_fast2bfq_HEP2_MSP1_Digests_s_1_sequence_9_ID0000010': 'Machine1', 'map_map_HEP2_MSP1_Digests_s_1_sequence_7_ID0000127': 'Machine1', 'sol2sanger_sol2sanger_HEP2_MSP1_Digests_s_1_sequence_1_ID0000178': 'Machine1', 'map_map_HEP2_MSP1_Digests_s_1_sequence_8_ID0000128': 'Machine1', 'map_map_HEP2_MSP1_Digests_s_1_sequence_4_ID0000124': 'Machine1', 'fast2bfq_fast2bfq_HEP2_MSP1_Digests_s_1_sequence_4_ID0000005': 'Machine1', 'sol2sanger_sol2sanger_HEP2_MSP1_Digests_s_1_sequence_2_ID0000179': 'Machine1', 'fast2bfq_fast2bfq_HEP2_MSP1_Digests_s_1_sequence_1_ID0000002': 'Machine1', 'fast2bfq_fast2bfq_HEP2_MSP1_Digests_s_1_sequence_8_ID0000009': 'Machine1', 'map_map_HEP2_MSP1_Digests_s_1_sequence_3_ID0000123': 'Machine1', 'filterContams_filterContams_HEP2_MSP1_Digests_s_1_sequence_8_ID0000068': 'Machine1', 'mapMerge_mapMerge_HEP2_MSP1_Digests_s_1_sequence_ID0000118': 'Machine2', 'sol2sanger_sol2sanger_HEP2_MSP1_Digests_s_1_sequence_9_ID0000186': 'Machine1', 'map_map_HEP2_MSP1_Digests_s_1_sequence_2_ID0000122': 'Machine1', 'filterContams_filterContams_HEP2_MSP1_Digests_s_1_sequence_6_ID0000066': 'Machine1', 'map_map_HEP2_MSP1_Digests_s_1_sequence_6_ID0000126': 'Machine1', 'fastqSplit_fastqSplit_HEP2_MSP1_Digests_s_1_sequence_ID0000058': 'Machine2', 'map_map_HEP2_MSP1_Digests_s_1_sequence_9_ID0000129': 'Machine1', 'filterContams_filterContams_HEP2_MSP1_Digests_s_1_sequence_2_ID0000062': 'Machine1', 'filterContams_filterContams_HEP2_MSP1_Digests_s_1_sequence_7_ID0000067': 'Machine2', 'filterContams_filterContams_HEP2_MSP1_Digests_s_1_sequence_4_ID0000064': 'Machine1', 'map_map_HEP2_MSP1_Digests_s_1_sequence_1_ID0000121': 'Machine1', 'sol2sanger_sol2sanger_HEP2_MSP1_Digests_s_1_sequence_3_ID0000180': 'Machine1', 'sol2sanger_sol2sanger_HEP2_MSP1_Digests_s_1_sequence_5_ID0000182': 'Machine1', 'sol2sanger_sol2sanger_HEP2_MSP1_Digests_s_1_sequence_8_ID0000185': 'Machine1', 'filterContams_filterContams_HEP2_MSP1_Digests_s_1_sequence_3_ID0000063': 'Machine1', 'fast2bfq_fast2bfq_HEP2_MSP1_Digests_s_1_sequence_7_ID0000008': 'Machine1', 'filterContams_filterContams_HEP2_MSP1_Digests_s_1_sequence_1_ID0000061': 'Machine1', 'sol2sanger_sol2sanger_HEP2_MSP1_Digests_s_1_sequence_7_ID0000184': 'Machine1', 'NewNode233': 'Machine1'}, workflow=<QHyper.problems.workflow_scheduling.Workflow object at 0x7f37e1fae610>, parts=[]), WorkflowSchedule(cost=467.7504, time=299.360256, deadline=304.6703465728565, machine_assignment={'fastqSplit_fastqSplit_HEP2_MSP1_Digests_s_2_sequence_ID0000059': 'Machine2', 'NewNode233': 'Machine1'}, workflow=<QHyper.problems.workflow_scheduling.Workflow object at 0x7f37e1fc4110>, parts=[]), WorkflowSchedule(cost=16143.905760000007, time=2634.296064, deadline=2650.522275331164, machine_assignment={'mapMerge_mapMerge_HEP2_MSP1_Digests_s_2_sequence_ID0000119': 'Machine1', 'map_map_HEP2_MSP1_Digests_s_2_sequence_19_ID0000140': 'Machine1', 'map_map_HEP2_MSP1_Digests_s_2_sequence_18_ID0000139': 'Machine2', 'fast2bfq_fast2bfq_HEP2_MSP1_Digests_s_2_sequence_9_ID0000029': 'Machine1', 'filterContams_filterContams_HEP2_MSP1_Digests_s_2_sequence_12_ID0000073': 'Machine1', 'sol2sanger_sol2sanger_HEP2_MSP1_Digests_s_2_sequence_9_ID0000205': 'Machine1', 'map_map_HEP2_MSP1_Digests_s_2_sequence_9_ID0000148': 'Machine1', 'map_map_HEP2_MSP1_Digests_s_2_sequence_12_ID0000133': 'Machine1', 'filterContams_filterContams_HEP2_MSP1_Digests_s_2_sequence_9_ID0000088': 'Machine1', 'filterContams_filterContams_HEP2_MSP1_Digests_s_2_sequence_5_ID0000084': 'Machine1', 'fast2bfq_fast2bfq_HEP2_MSP1_Digests_s_2_sequence_10_ID0000012': 'Machine1', 'filterContams_filterContams_HEP2_MSP1_Digests_s_2_sequence_18_ID0000079': 'Machine2', 'fast2bfq_fast2bfq_HEP2_MSP1_Digests_s_2_sequence_19_ID0000021': 'Machine1', 'fast2bfq_fast2bfq_HEP2_MSP1_Digests_s_2_sequence_5_ID0000025': 'Machine1', 'sol2sanger_sol2sanger_HEP2_MSP1_Digests_s_2_sequence_18_ID0000196': 'Machine2', 'fast2bfq_fast2bfq_HEP2_MSP1_Digests_s_2_sequence_13_ID0000015': 'Machine1', 'map_map_HEP2_MSP1_Digests_s_2_sequence_13_ID0000134': 'Machine1', 'fast2bfq_fast2bfq_HEP2_MSP1_Digests_s_2_sequence_3_ID0000023': 'Machine1', 'filterContams_filterContams_HEP2_MSP1_Digests_s_2_sequence_3_ID0000082': 'Machine1', 'sol2sanger_sol2sanger_HEP2_MSP1_Digests_s_2_sequence_13_ID0000191': 'Machine1', 'map_map_HEP2_MSP1_Digests_s_2_sequence_10_ID0000131': 'Machine1', 'map_map_HEP2_MSP1_Digests_s_2_sequence_5_ID0000144': 'Machine2', 'sol2sanger_sol2sanger_HEP2_MSP1_Digests_s_2_sequence_3_ID0000199': 'Machine1', 'filterContams_filterContams_HEP2_MSP1_Digests_s_2_sequence_19_ID0000080': 'Machine1', 'filterContams_filterContams_HEP2_MSP1_Digests_s_2_sequence_13_ID0000074': 'Machine1', 'fastqSplit_fastqSplit_HEP2_MSP1_Digests_s_2_sequence_ID0000059_substitute': 'Machine1', 'sol2sanger_sol2sanger_HEP2_MSP1_Digests_s_2_sequence_10_ID0000188': 'Machine1', 'sol2sanger_sol2sanger_HEP2_MSP1_Digests_s_2_sequence_12_ID0000190': 'Machine1', 'sol2sanger_sol2sanger_HEP2_MSP1_Digests_s_2_sequence_5_ID0000201': 'Machine2', 'fast2bfq_fast2bfq_HEP2_MSP1_Digests_s_2_sequence_12_ID0000014': 'Machine1', 'map_map_HEP2_MSP1_Digests_s_2_sequence_3_ID0000142': 'Machine1', 'sol2sanger_sol2sanger_HEP2_MSP1_Digests_s_2_sequence_19_ID0000197': 'Machine1', 'filterContams_filterContams_HEP2_MSP1_Digests_s_2_sequence_10_ID0000071': 'Machine1', 'fast2bfq_fast2bfq_HEP2_MSP1_Digests_s_2_sequence_18_ID0000020': 'Machine1'}, workflow=<QHyper.problems.workflow_scheduling.Workflow object at 0x7f37e1e2e150>, parts=[]), WorkflowSchedule(cost=31891.25424, time=2647.776768, deadline=2650.522275331164, machine_assignment={'mapMerge_mapMerge_HEP2_MSP1_Digests_s_2_sequence_ID0000119': 'Machine5', 'fast2bfq_fast2bfq_HEP2_MSP1_Digests_s_2_sequence_16_ID0000018': 'Machine1', 'map_map_HEP2_MSP1_Digests_s_2_sequence_2_ID0000141': 'Machine2', 'map_map_HEP2_MSP1_Digests_s_2_sequence_1_ID0000130': 'Machine2', 'fast2bfq_fast2bfq_HEP2_MSP1_Digests_s_2_sequence_1_ID0000011': 'Machine3', 'sol2sanger_sol2sanger_HEP2_MSP1_Digests_s_2_sequence_16_ID0000194': 'Machine1', 'fast2bfq_fast2bfq_HEP2_MSP1_Digests_s_2_sequence_8_ID0000028': 'Machine1', 'fast2bfq_fast2bfq_HEP2_MSP1_Digests_s_2_sequence_11_ID0000013': 'Machine1', 'map_map_HEP2_MSP1_Digests_s_2_sequence_7_ID0000146': 'Machine1', 'sol2sanger_sol2sanger_HEP2_MSP1_Digests_s_2_sequence_7_ID0000203': 'Machine1', 'sol2sanger_sol2sanger_HEP2_MSP1_Digests_s_2_sequence_14_ID0000192': 'Machine2', 'map_map_HEP2_MSP1_Digests_s_2_sequence_14_ID0000135': 'Machine2', 'map_map_HEP2_MSP1_Digests_s_2_sequence_15_ID0000136': 'Machine1', 'filterContams_filterContams_HEP2_MSP1_Digests_s_2_sequence_15_ID0000076': 'Machine1', 'fastqSplit_fastqSplit_HEP2_MSP1_Digests_s_2_sequence_ID0000059_substitute': 'Machine1', 'filterContams_filterContams_HEP2_MSP1_Digests_s_2_sequence_11_ID0000072': 'Machine1', 'filterContams_filterContams_HEP2_MSP1_Digests_s_2_sequence_6_ID0000085': 'Machine1', 'sol2sanger_sol2sanger_HEP2_MSP1_Digests_s_2_sequence_11_ID0000189': 'Machine1', 'sol2sanger_sol2sanger_HEP2_MSP1_Digests_s_2_sequence_17_ID0000195': 'Machine1', 'map_map_HEP2_MSP1_Digests_s_2_sequence_16_ID0000137': 'Machine1', 'filterContams_filterContams_HEP2_MSP1_Digests_s_2_sequence_14_ID0000075': 'Machine1', 'sol2sanger_sol2sanger_HEP2_MSP1_Digests_s_2_sequence_2_ID0000198': 'Machine2', 'fast2bfq_fast2bfq_HEP2_MSP1_Digests_s_2_sequence_4_ID0000024': 'Machine1', 'sol2sanger_sol2sanger_HEP2_MSP1_Digests_s_2_sequence_15_ID0000193': 'Machine1', 'filterContams_filterContams_HEP2_MSP1_Digests_s_2_sequence_2_ID0000081': 'Machine1', 'filterContams_filterContams_HEP2_MSP1_Digests_s_2_sequence_1_ID0000070': 'Machine1', 'fast2bfq_fast2bfq_HEP2_MSP1_Digests_s_2_sequence_14_ID0000016': 'Machine1', 'fast2bfq_fast2bfq_HEP2_MSP1_Digests_s_2_sequence_15_ID0000017': 'Machine1', 'map_map_HEP2_MSP1_Digests_s_2_sequence_17_ID0000138': 'Machine1', 'fast2bfq_fast2bfq_HEP2_MSP1_Digests_s_2_sequence_2_ID0000022': 'Machine1', 'filterContams_filterContams_HEP2_MSP1_Digests_s_2_sequence_17_ID0000078': 'Machine1', 'filterContams_filterContams_HEP2_MSP1_Digests_s_2_sequence_4_ID0000083': 'Machine1', 'sol2sanger_sol2sanger_HEP2_MSP1_Digests_s_2_sequence_4_ID0000200': 'Machine1', 'fast2bfq_fast2bfq_HEP2_MSP1_Digests_s_2_sequence_6_ID0000026': 'Machine2', 'map_map_HEP2_MSP1_Digests_s_2_sequence_4_ID0000143': 'Machine2', 'fast2bfq_fast2bfq_HEP2_MSP1_Digests_s_2_sequence_7_ID0000027': 'Machine1', 'filterContams_filterContams_HEP2_MSP1_Digests_s_2_sequence_7_ID0000086': 'Machine1', 'sol2sanger_sol2sanger_HEP2_MSP1_Digests_s_2_sequence_6_ID0000202': 'Machine2', 'filterContams_filterContams_HEP2_MSP1_Digests_s_2_sequence_16_ID0000077': 'Machine1', 'filterContams_filterContams_HEP2_MSP1_Digests_s_2_sequence_8_ID0000087': 'Machine1', 'sol2sanger_sol2sanger_HEP2_MSP1_Digests_s_2_sequence_8_ID0000204': 'Machine1', 'sol2sanger_sol2sanger_HEP2_MSP1_Digests_s_2_sequence_1_ID0000187': 'Machine1', 'map_map_HEP2_MSP1_Digests_s_2_sequence_6_ID0000145': 'Machine2', 'map_map_HEP2_MSP1_Digests_s_2_sequence_11_ID0000132': 'Machine1', 'map_map_HEP2_MSP1_Digests_s_2_sequence_8_ID0000147': 'Machine2', 'fast2bfq_fast2bfq_HEP2_MSP1_Digests_s_2_sequence_17_ID0000019': 'Machine1'}, workflow=<QHyper.problems.workflow_scheduling.Workflow object at 0x7f37e97342d0>, parts=[]), WorkflowSchedule(cost=279.396, time=178.81344, deadline=181.9852557070391, machine_assignment={'mapMerge_mapMerge_HEP2_MSP1_Digests_ID0000117': 'Machine2', 'mapMerge_mapMerge_HEP2_MSP1_Digests_s_2_sequence_ID0000119_substitute': 'Machine1'}, workflow=<QHyper.problems.workflow_scheduling.Workflow object at 0x7f37e1e88c90>, parts=[]), WorkflowSchedule(cost=1251.8064, time=556.3584, deadline=590.4891622592719, machine_assignment={'fastqSplit_fastqSplit_HEP2_MSP1_Digests_s_3_sequence_ID0000060': 'Machine3', 'NewNode233': 'Machine1'}, workflow=<QHyper.problems.workflow_scheduling.Workflow object at 0x7f37ea748fd0>, parts=[]), WorkflowSchedule(cost=33562.86287999999, time=2388.4189439999996, deadline=2388.5361671827495, machine_assignment={'fast2bfq_fast2bfq_HEP2_MSP1_Digests_s_3_sequence_23_ID0000045': 'Machine1', 'sol2sanger_sol2sanger_HEP2_MSP1_Digests_s_3_sequence_3_ID0000227': 'Machine1', 'filterContams_filterContams_HEP2_MSP1_Digests_s_3_sequence_4_ID0000111': 'Machine3', 'filterContams_filterContams_HEP2_MSP1_Digests_s_3_sequence_27_ID0000108': 'Machine2', 'sol2sanger_sol2sanger_HEP2_MSP1_Digests_s_3_sequence_19_ID0000216': 'Machine1', 'fast2bfq_fast2bfq_HEP2_MSP1_Digests_s_3_sequence_11_ID0000032': 'Machine1', 'filterContams_filterContams_HEP2_MSP1_Digests_s_3_sequence_23_ID0000104': 'Machine1', 'map_map_HEP2_MSP1_Digests_s_3_sequence_20_ID0000161': 'Machine1', 'sol2sanger_sol2sanger_HEP2_MSP1_Digests_s_3_sequence_20_ID0000218': 'Machine1', 'map_map_HEP2_MSP1_Digests_s_3_sequence_5_ID0000172': 'Machine1', 'fast2bfq_fast2bfq_HEP2_MSP1_Digests_s_3_sequence_1_ID0000030': 'Machine1', 'filterContams_filterContams_HEP2_MSP1_Digests_s_3_sequence_19_ID0000099': 'Machine1', 'fast2bfq_fast2bfq_HEP2_MSP1_Digests_s_3_sequence_3_ID0000051': 'Machine1', 'map_map_HEP2_MSP1_Digests_s_3_sequence_23_ID0000164': 'Machine1', 'fast2bfq_fast2bfq_HEP2_MSP1_Digests_s_3_sequence_2_ID0000041': 'Machine1', 'map_map_HEP2_MSP1_Digests_s_3_sequence_4_ID0000171': 'Machine2', 'map_map_HEP2_MSP1_Digests_s_3_sequence_2_ID0000160': 'Machine2', 'sol2sanger_sol2sanger_HEP2_MSP1_Digests_s_3_sequence_5_ID0000229': 'Machine1', 'map_map_HEP2_MSP1_Digests_s_3_sequence_3_ID0000170': 'Machine1', 'map_map_HEP2_MSP1_Digests_s_3_sequence_1_ID0000149': 'Machine2', 'map_map_HEP2_MSP1_Digests_s_3_sequence_27_ID0000168': 'Machine1', 'sol2sanger_sol2sanger_HEP2_MSP1_Digests_s_3_sequence_4_ID0000228': 'Machine3', 'map_map_HEP2_MSP1_Digests_s_3_sequence_11_ID0000151': 'Machine3', 'map_map_HEP2_MSP1_Digests_s_3_sequence_15_ID0000155': 'Machine3', 'mapMerge_mapMerge_HEP2_MSP1_Digests_s_3_sequence_ID0000120': 'Machine5', 'fast2bfq_fast2bfq_HEP2_MSP1_Digests_s_3_sequence_5_ID0000053': 'Machine1', 'filterContams_filterContams_HEP2_MSP1_Digests_s_3_sequence_3_ID0000110': 'Machine1', 'filterContams_filterContams_HEP2_MSP1_Digests_s_3_sequence_1_ID0000089': 'Machine3', 'filterContams_filterContams_HEP2_MSP1_Digests_s_3_sequence_2_ID0000100': 'Machine3', 'sol2sanger_sol2sanger_HEP2_MSP1_Digests_s_3_sequence_16_ID0000213': 'Machine1', 'fastqSplit_fastqSplit_HEP2_MSP1_Digests_s_3_sequence_ID0000060_substitute': 'Machine1', 'sol2sanger_sol2sanger_HEP2_MSP1_Digests_s_3_sequence_15_ID0000212': 'Machine1', 'sol2sanger_sol2sanger_HEP2_MSP1_Digests_s_3_sequence_2_ID0000217': 'Machine3', 'fast2bfq_fast2bfq_HEP2_MSP1_Digests_s_3_sequence_20_ID0000042': 'Machine1', 'filterContams_filterContams_HEP2_MSP1_Digests_s_3_sequence_5_ID0000112': 'Machine2', 'sol2sanger_sol2sanger_HEP2_MSP1_Digests_s_3_sequence_27_ID0000225': 'Machine5', 'fast2bfq_fast2bfq_HEP2_MSP1_Digests_s_3_sequence_15_ID0000036': 'Machine4', 'filterContams_filterContams_HEP2_MSP1_Digests_s_3_sequence_20_ID0000101': 'Machine1', 'filterContams_filterContams_HEP2_MSP1_Digests_s_3_sequence_15_ID0000095': 'Machine2', 'sol2sanger_sol2sanger_HEP2_MSP1_Digests_s_3_sequence_23_ID0000221': 'Machine1', 'map_map_HEP2_MSP1_Digests_s_3_sequence_19_ID0000159': 'Machine1', 'filterContams_filterContams_HEP2_MSP1_Digests_s_3_sequence_16_ID0000096': 'Machine3', 'fast2bfq_fast2bfq_HEP2_MSP1_Digests_s_3_sequence_19_ID0000040': 'Machine1', 'fast2bfq_fast2bfq_HEP2_MSP1_Digests_s_3_sequence_16_ID0000037': 'Machine1', 'fast2bfq_fast2bfq_HEP2_MSP1_Digests_s_3_sequence_4_ID0000052': 'Machine5', 'fast2bfq_fast2bfq_HEP2_MSP1_Digests_s_3_sequence_27_ID0000049': 'Machine3', 'sol2sanger_sol2sanger_HEP2_MSP1_Digests_s_3_sequence_11_ID0000208': 'Machine2', 'sol2sanger_sol2sanger_HEP2_MSP1_Digests_s_3_sequence_1_ID0000206': 'Machine4', 'map_map_HEP2_MSP1_Digests_s_3_sequence_16_ID0000156': 'Machine1', 'filterContams_filterContams_HEP2_MSP1_Digests_s_3_sequence_11_ID0000091': 'Machine2'}, workflow=<QHyper.problems.workflow_scheduling.Workflow object at 0x7f37e1ebb9d0>, parts=[]), WorkflowSchedule(cost=14514.228959999999, time=2386.8689005714286, deadline=2388.5361671827495, machine_assignment={'mapMerge_mapMerge_HEP2_MSP1_Digests_s_3_sequence_ID0000120': 'Machine5', 'sol2sanger_sol2sanger_HEP2_MSP1_Digests_s_3_sequence_10_ID0000207': 'Machine3', 'sol2sanger_sol2sanger_HEP2_MSP1_Digests_s_3_sequence_17_ID0000214': 'Machine1', 'filterContams_filterContams_HEP2_MSP1_Digests_s_3_sequence_21_ID0000102': 'Machine1', 'sol2sanger_sol2sanger_HEP2_MSP1_Digests_s_3_sequence_28_ID0000226': 'Machine1', 'sol2sanger_sol2sanger_HEP2_MSP1_Digests_s_3_sequence_22_ID0000220': 'Machine1', 'map_map_HEP2_MSP1_Digests_s_3_sequence_10_ID0000150': 'Machine2', 'filterContams_filterContams_HEP2_MSP1_Digests_s_3_sequence_10_ID0000090': 'Machine3', 'fast2bfq_fast2bfq_HEP2_MSP1_Digests_s_3_sequence_10_ID0000031': 'Machine2', 'filterContams_filterContams_HEP2_MSP1_Digests_s_3_sequence_17_ID0000097': 'Machine1', 'sol2sanger_sol2sanger_HEP2_MSP1_Digests_s_3_sequence_21_ID0000219': 'Machine1', 'map_map_HEP2_MSP1_Digests_s_3_sequence_28_ID0000169': 'Machine1', 'map_map_HEP2_MSP1_Digests_s_3_sequence_7_ID0000174': 'Machine1', 'fastqSplit_fastqSplit_HEP2_MSP1_Digests_s_3_sequence_ID0000060_substitute': 'Machine1', 'sol2sanger_sol2sanger_HEP2_MSP1_Digests_s_3_sequence_7_ID0000231': 'Machine1', 'filterContams_filterContams_HEP2_MSP1_Digests_s_3_sequence_28_ID0000109': 'Machine1', 'map_map_HEP2_MSP1_Digests_s_3_sequence_17_ID0000157': 'Machine1', 'filterContams_filterContams_HEP2_MSP1_Digests_s_3_sequence_24_ID0000105': 'Machine3', 'fast2bfq_fast2bfq_HEP2_MSP1_Digests_s_3_sequence_21_ID0000043': 'Machine1', 'map_map_HEP2_MSP1_Digests_s_3_sequence_25_ID0000166': 'Machine1', 'filterContams_filterContams_HEP2_MSP1_Digests_s_3_sequence_25_ID0000106': 'Machine1', 'filterContams_filterContams_HEP2_MSP1_Digests_s_3_sequence_7_ID0000114': 'Machine1', 'fast2bfq_fast2bfq_HEP2_MSP1_Digests_s_3_sequence_7_ID0000055': 'Machine1', 'filterContams_filterContams_HEP2_MSP1_Digests_s_3_sequence_22_ID0000103': 'Machine1', 'fast2bfq_fast2bfq_HEP2_MSP1_Digests_s_3_sequence_25_ID0000047': 'Machine1', 'map_map_HEP2_MSP1_Digests_s_3_sequence_24_ID0000165': 'Machine2', 'fast2bfq_fast2bfq_HEP2_MSP1_Digests_s_3_sequence_24_ID0000046': 'Machine2', 'fast2bfq_fast2bfq_HEP2_MSP1_Digests_s_3_sequence_22_ID0000044': 'Machine1', 'sol2sanger_sol2sanger_HEP2_MSP1_Digests_s_3_sequence_24_ID0000222': 'Machine4', 'fast2bfq_fast2bfq_HEP2_MSP1_Digests_s_3_sequence_17_ID0000038': 'Machine1', 'sol2sanger_sol2sanger_HEP2_MSP1_Digests_s_3_sequence_25_ID0000223': 'Machine1', 'fast2bfq_fast2bfq_HEP2_MSP1_Digests_s_3_sequence_28_ID0000050': 'Machine1', 'map_map_HEP2_MSP1_Digests_s_3_sequence_21_ID0000162': 'Machine1', 'map_map_HEP2_MSP1_Digests_s_3_sequence_22_ID0000163': 'Machine1'}, workflow=<QHyper.problems.workflow_scheduling.Workflow object at 0x7f37e1dfc310>, parts=[]), WorkflowSchedule(cost=17867.131680000002, time=2383.449892571429, deadline=2388.5361671827495, machine_assignment={'fast2bfq_fast2bfq_HEP2_MSP1_Digests_s_3_sequence_8_ID0000056': 'Machine1', 'mapMerge_mapMerge_HEP2_MSP1_Digests_s_3_sequence_ID0000120': 'Machine4', 'sol2sanger_sol2sanger_HEP2_MSP1_Digests_s_3_sequence_13_ID0000210': 'Machine1', 'filterContams_filterContams_HEP2_MSP1_Digests_s_3_sequence_13_ID0000093': 'Machine1', 'fast2bfq_fast2bfq_HEP2_MSP1_Digests_s_3_sequence_14_ID0000035': 'Machine4', 'filterContams_filterContams_HEP2_MSP1_Digests_s_3_sequence_12_ID0000092': 'Machine1', 'map_map_HEP2_MSP1_Digests_s_3_sequence_14_ID0000154': 'Machine3', 'sol2sanger_sol2sanger_HEP2_MSP1_Digests_s_3_sequence_14_ID0000211': 'Machine2', 'filterContams_filterContams_HEP2_MSP1_Digests_s_3_sequence_18_ID0000098': 'Machine1', 'filterContams_filterContams_HEP2_MSP1_Digests_s_3_sequence_9_ID0000116': 'Machine1', 'sol2sanger_sol2sanger_HEP2_MSP1_Digests_s_3_sequence_8_ID0000232': 'Machine1', 'fast2bfq_fast2bfq_HEP2_MSP1_Digests_s_3_sequence_12_ID0000033': 'Machine1', 'sol2sanger_sol2sanger_HEP2_MSP1_Digests_s_3_sequence_6_ID0000230': 'Machine1', 'sol2sanger_sol2sanger_HEP2_MSP1_Digests_s_3_sequence_26_ID0000224': 'Machine1', 'fastqSplit_fastqSplit_HEP2_MSP1_Digests_s_3_sequence_ID0000060_substitute': 'Machine1', 'fast2bfq_fast2bfq_HEP2_MSP1_Digests_s_3_sequence_18_ID0000039': 'Machine1', 'map_map_HEP2_MSP1_Digests_s_3_sequence_13_ID0000153': 'Machine1', 'filterContams_filterContams_HEP2_MSP1_Digests_s_3_sequence_8_ID0000115': 'Machine1', 'map_map_HEP2_MSP1_Digests_s_3_sequence_9_ID0000176': 'Machine1', 'map_map_HEP2_MSP1_Digests_s_3_sequence_18_ID0000158': 'Machine1', 'map_map_HEP2_MSP1_Digests_s_3_sequence_12_ID0000152': 'Machine1', 'fast2bfq_fast2bfq_HEP2_MSP1_Digests_s_3_sequence_13_ID0000034': 'Machine1', 'sol2sanger_sol2sanger_HEP2_MSP1_Digests_s_3_sequence_9_ID0000233': 'Machine1', 'fast2bfq_fast2bfq_HEP2_MSP1_Digests_s_3_sequence_6_ID0000054': 'Machine1', 'fast2bfq_fast2bfq_HEP2_MSP1_Digests_s_3_sequence_26_ID0000048': 'Machine1', 'map_map_HEP2_MSP1_Digests_s_3_sequence_8_ID0000175': 'Machine1', 'filterContams_filterContams_HEP2_MSP1_Digests_s_3_sequence_26_ID0000107': 'Machine2', 'sol2sanger_sol2sanger_HEP2_MSP1_Digests_s_3_sequence_18_ID0000215': 'Machine1', 'sol2sanger_sol2sanger_HEP2_MSP1_Digests_s_3_sequence_12_ID0000209': 'Machine1', 'map_map_HEP2_MSP1_Digests_s_3_sequence_26_ID0000167': 'Machine3', 'filterContams_filterContams_HEP2_MSP1_Digests_s_3_sequence_14_ID0000094': 'Machine2', 'map_map_HEP2_MSP1_Digests_s_3_sequence_6_ID0000173': 'Machine1', 'fast2bfq_fast2bfq_HEP2_MSP1_Digests_s_3_sequence_9_ID0000057': 'Machine1', 'filterContams_filterContams_HEP2_MSP1_Digests_s_3_sequence_6_ID0000113': 'Machine1'}, workflow=<QHyper.problems.workflow_scheduling.Workflow object at 0x7f37e8488f10>, parts=[]), WorkflowSchedule(cost=335.2752, time=149.0112, deadline=158.15254816903786, machine_assignment={'mapMerge_mapMerge_HEP2_MSP1_Digests_ID0000117': 'Machine3', 'mapMerge_mapMerge_HEP2_MSP1_Digests_s_3_sequence_ID0000120_substitute': 'Machine1'}, workflow=<QHyper.problems.workflow_scheduling.Workflow object at 0x7f37e84b8410>, parts=[]), WorkflowSchedule(cost=1341.55008, time=596.2444800000001, deadline=632.8221223889407, machine_assignment={'pileup_pileup_ID0000177': 'Machine3', 'mapMerge_mapMerge_HEP2_MSP1_Digests_ID0000117_substitute': 'Machine1', 'chr21_chr21_ID0000001': 'Machine3'}, workflow=<QHyper.problems.workflow_scheduling.Workflow object at 0x7f37e845de50>, parts=[])])"
     },
     "execution_count": 15,
     "metadata": {},
     "output_type": "execute_result"
    }
   ],
   "source": [
    "solver.solve()"
   ],
   "metadata": {
    "collapsed": false,
    "ExecuteTime": {
     "end_time": "2024-05-26T22:12:27.214310023Z",
     "start_time": "2024-05-26T22:12:25.652189648Z"
    }
   },
   "id": "56eb4ce09300b100"
  },
  {
   "cell_type": "code",
   "execution_count": 27,
   "outputs": [],
   "source": [
    "def get_solver(tasks_file: str, machines_file: str, deadline):\n",
    "    solver_config = {\n",
    "        \"problem\": {\n",
    "            \"type\": \"workflow_scheduling\",\n",
    "            \"encoding\": \"one-hot\",\n",
    "            \"tasks_file\": tasks_file,\n",
    "            \"machines_file\": machines_file,\n",
    "            \"deadline\": deadline,\n",
    "        },\n",
    "        \"solver\": {\n",
    "            \"type\": \"gurobi\",\n",
    "        }\n",
    "    }\n",
    "\n",
    "    return WorkflowSchedulingSolverDecorator(solver_from_config(solver_config))"
   ],
   "metadata": {
    "collapsed": false,
    "ExecuteTime": {
     "end_time": "2024-05-26T00:25:15.484471713Z",
     "start_time": "2024-05-26T00:25:15.369323895Z"
    }
   },
   "id": "73432ee20e26046d"
  },
  {
   "cell_type": "code",
   "execution_count": 31,
   "outputs": [
    {
     "name": "stdout",
     "output_type": "stream",
     "text": [
      "Gurobi Optimizer version 10.0.3 build v10.0.3rc0 (linux64)\n",
      "\n",
      "CPU model: Intel(R) Core(TM) i7-7700HQ CPU @ 2.80GHz, instruction set [SSE2|AVX|AVX2]\n",
      "Thread count: 4 physical cores, 8 logical processors, using up to 8 threads\n",
      "Optimize a model with 164 rows, 420 columns and 2020 nonzeros\n",
      "Model fingerprint: 0xdabdad09\n",
      "Variable types: 0 continuous, 420 integer (420 binary)\n",
      "Coefficient statistics:\n",
      "  Matrix range     [2e-01, 3e+04]\n",
      "  Objective range  [4e-01, 7e+04]\n",
      "  Bounds range     [1e+00, 1e+00]\n",
      "  RHS range        [1e+00, 2e+04]\n",
      "Found heuristic solution: objective 1072912.2678\n",
      "Presolve removed 164 rows and 420 columns\n",
      "Presolve time: 0.00s\n",
      "Presolve: All rows and columns removed\n",
      "\n",
      "Explored 0 nodes (0 simplex iterations) in 0.01 seconds (0.00 work units)\n",
      "Thread count was 1 (of 8 available processors)\n",
      "\n",
      "Solution count 2: 837251 1.07291e+06 \n",
      "\n",
      "Optimal solution found (tolerance 1.00e-04)\n",
      "Best objective 8.372512380024e+05, best bound 8.372512380024e+05, gap 0.0000%\n"
     ]
    },
    {
     "data": {
      "text/plain": "WorkflowSchedule(cost=837251.2380024, time=24077.39805257143, deadline=24081.23, machine_assignment={'bowtie2-build_ID0000001': 'Machine1', 'fasterq-dump_ID0000002': 'Machine1', 'bowtie2_ID0000003': 'Machine1', 'fasterq-dump_ID0000004': 'Machine1', 'bowtie2_ID0000005': 'Machine1', 'fasterq-dump_ID0000006': 'Machine1', 'bowtie2_ID0000007': 'Machine1', 'fasterq-dump_ID0000008': 'Machine1', 'bowtie2_ID0000009': 'Machine1', 'fasterq-dump_ID0000010': 'Machine1', 'bowtie2_ID0000011': 'Machine1', 'fasterq-dump_ID0000012': 'Machine1', 'bowtie2_ID0000013': 'Machine1', 'fasterq-dump_ID0000014': 'Machine1', 'bowtie2_ID0000015': 'Machine1', 'fasterq-dump_ID0000016': 'Machine1', 'bowtie2_ID0000017': 'Machine1', 'fasterq-dump_ID0000018': 'Machine1', 'bowtie2_ID0000019': 'Machine1', 'fasterq-dump_ID0000020': 'Machine2', 'bowtie2_ID0000021': 'Machine1', 'fasterq-dump_ID0000022': 'Machine1', 'bowtie2_ID0000023': 'Machine1', 'fasterq-dump_ID0000024': 'Machine1', 'bowtie2_ID0000025': 'Machine1', 'fasterq-dump_ID0000026': 'Machine1', 'bowtie2_ID0000027': 'Machine1', 'fasterq-dump_ID0000028': 'Machine1', 'bowtie2_ID0000029': 'Machine1', 'fasterq-dump_ID0000030': 'Machine2', 'bowtie2_ID0000031': 'Machine1', 'fasterq-dump_ID0000032': 'Machine2', 'bowtie2_ID0000033': 'Machine1', 'fasterq-dump_ID0000034': 'Machine1', 'bowtie2_ID0000035': 'Machine1', 'fasterq-dump_ID0000036': 'Machine3', 'bowtie2_ID0000037': 'Machine1', 'fasterq-dump_ID0000038': 'Machine2', 'bowtie2_ID0000039': 'Machine5', 'fasterq-dump_ID0000040': 'Machine1', 'bowtie2_ID0000041': 'Machine1', 'fasterq-dump_ID0000042': 'Machine1', 'bowtie2_ID0000043': 'Machine1', 'fasterq-dump_ID0000044': 'Machine1', 'bowtie2_ID0000045': 'Machine1', 'fasterq-dump_ID0000046': 'Machine1', 'bowtie2_ID0000047': 'Machine1', 'fasterq-dump_ID0000048': 'Machine1', 'bowtie2_ID0000049': 'Machine1', 'fasterq-dump_ID0000050': 'Machine1', 'bowtie2_ID0000051': 'Machine1', 'fasterq-dump_ID0000052': 'Machine1', 'bowtie2_ID0000053': 'Machine1', 'fasterq-dump_ID0000054': 'Machine1', 'bowtie2_ID0000055': 'Machine1', 'fasterq-dump_ID0000056': 'Machine1', 'bowtie2_ID0000057': 'Machine1', 'fasterq-dump_ID0000058': 'Machine1', 'bowtie2_ID0000059': 'Machine1', 'fasterq-dump_ID0000060': 'Machine1', 'bowtie2_ID0000061': 'Machine1', 'fasterq-dump_ID0000062': 'Machine1', 'bowtie2_ID0000063': 'Machine1', 'fasterq-dump_ID0000064': 'Machine1', 'bowtie2_ID0000065': 'Machine1', 'fasterq-dump_ID0000066': 'Machine1', 'bowtie2_ID0000067': 'Machine1', 'fasterq-dump_ID0000068': 'Machine2', 'bowtie2_ID0000069': 'Machine1', 'fasterq-dump_ID0000070': 'Machine2', 'bowtie2_ID0000071': 'Machine4', 'fasterq-dump_ID0000072': 'Machine3', 'bowtie2_ID0000073': 'Machine1', 'fasterq-dump_ID0000074': 'Machine2', 'bowtie2_ID0000075': 'Machine1', 'fasterq-dump_ID0000076': 'Machine3', 'bowtie2_ID0000077': 'Machine1', 'fasterq-dump_ID0000078': 'Machine1', 'bowtie2_ID0000079': 'Machine1', 'fasterq-dump_ID0000080': 'Machine1', 'bowtie2_ID0000081': 'Machine1', 'merge_ID0000082': 'Machine1', 'merge_ID0000083': 'Machine1', 'merge_ID0000084': 'Machine1'}, workflow=<QHyper.problems.workflow_scheduling.Workflow object at 0x7f8cb98b2750>, parts=[])"
     },
     "execution_count": 31,
     "metadata": {},
     "output_type": "execute_result"
    }
   ],
   "source": [
    "get_solver(tasks_file, machines_file, 24081.23).solve()"
   ],
   "metadata": {
    "collapsed": false,
    "ExecuteTime": {
     "end_time": "2024-05-26T00:25:42.581387094Z",
     "start_time": "2024-05-26T00:25:42.339661134Z"
    }
   },
   "id": "823175edc3f3a9fc"
  },
  {
   "cell_type": "code",
   "execution_count": 2,
   "outputs": [],
   "source": [
    "cpv_df = pd.read_csv(os.path.join(\"cpv_impact\", \"cpv_df.csv\"))"
   ],
   "metadata": {
    "collapsed": false,
    "ExecuteTime": {
     "end_time": "2024-06-16T21:18:37.333130039Z",
     "start_time": "2024-06-16T21:18:36.893043702Z"
    }
   },
   "id": "e422da4fd49d8fa5"
  },
  {
   "cell_type": "code",
   "execution_count": 28,
   "outputs": [
    {
     "data": {
      "text/plain": "               Unnamed: 0  cpv_increase  cost_increase\nUnnamed: 0       1.000000      0.958428      -0.516719\ncpv_increase     0.958428      1.000000      -0.430480\ncost_increase   -0.516719     -0.430480       1.000000",
      "text/html": "<div>\n<style scoped>\n    .dataframe tbody tr th:only-of-type {\n        vertical-align: middle;\n    }\n\n    .dataframe tbody tr th {\n        vertical-align: top;\n    }\n\n    .dataframe thead th {\n        text-align: right;\n    }\n</style>\n<table border=\"1\" class=\"dataframe\">\n  <thead>\n    <tr style=\"text-align: right;\">\n      <th></th>\n      <th>Unnamed: 0</th>\n      <th>cpv_increase</th>\n      <th>cost_increase</th>\n    </tr>\n  </thead>\n  <tbody>\n    <tr>\n      <th>Unnamed: 0</th>\n      <td>1.000000</td>\n      <td>0.958428</td>\n      <td>-0.516719</td>\n    </tr>\n    <tr>\n      <th>cpv_increase</th>\n      <td>0.958428</td>\n      <td>1.000000</td>\n      <td>-0.430480</td>\n    </tr>\n    <tr>\n      <th>cost_increase</th>\n      <td>-0.516719</td>\n      <td>-0.430480</td>\n      <td>1.000000</td>\n    </tr>\n  </tbody>\n</table>\n</div>"
     },
     "execution_count": 28,
     "metadata": {},
     "output_type": "execute_result"
    }
   ],
   "source": [
    "cpv_df.corr()"
   ],
   "metadata": {
    "collapsed": false,
    "ExecuteTime": {
     "end_time": "2024-06-10T22:32:23.326481149Z",
     "start_time": "2024-06-10T22:32:23.041092503Z"
    }
   },
   "id": "40bd7236fde42f5f"
  },
  {
   "cell_type": "code",
   "execution_count": 3,
   "outputs": [],
   "source": [
    "def plot_for_family(cpv_df, save_path: str = None):\n",
    "    fig, ax = plt.subplots(1, 1, figsize=(12, 6))\n",
    "    \n",
    "    ax.scatter((cpv_df[\"cpv_increase\"] - 1) * 100, (cpv_df[\"cost_increase\"] - 1) * 100)\n",
    "    \n",
    "    ax.set_xticklabels(ax.get_xticks(), fontsize=18)\n",
    "    ax.set_yticklabels(ax.get_yticks(), fontsize=18)\n",
    "    ax.xaxis.set_major_formatter(FuncFormatter(lambda y, _: f'{y:.1f}'))\n",
    "    ax.yaxis.set_major_formatter(FuncFormatter(lambda y, _: f'{y:.1f}'))\n",
    "    ax.set_xlabel('critical path value increase [%]', fontsize=20)\n",
    "    ax.set_ylabel('cost increase [%]', fontsize=20)\n",
    "    # plt.grid(False)\n",
    "    # ax.set_title(f'Influence of the max subgraph size on the schedule cost for {family} workflows', fontsize=15)\n",
    "    \n",
    "    # plt.legend(fontsize=20)\n",
    "    plt.show()\n",
    "\n",
    "    if save_path:\n",
    "        fig.savefig(save_path, bbox_inches='tight')"
   ],
   "metadata": {
    "collapsed": false,
    "ExecuteTime": {
     "end_time": "2024-06-16T21:19:01.906038084Z",
     "start_time": "2024-06-16T21:19:01.860135504Z"
    }
   },
   "id": "e8ca8e0e26e6829f"
  },
  {
   "cell_type": "code",
   "execution_count": 4,
   "outputs": [],
   "source": [
    "matplotlib.rc_file_defaults()"
   ],
   "metadata": {
    "collapsed": false,
    "ExecuteTime": {
     "end_time": "2024-06-16T21:19:04.462545149Z",
     "start_time": "2024-06-16T21:19:04.441279134Z"
    }
   },
   "id": "3d3429a85d07a7e5"
  },
  {
   "cell_type": "code",
   "execution_count": 5,
   "outputs": [
    {
     "name": "stderr",
     "output_type": "stream",
     "text": [
      "/tmp/ipykernel_41674/1944244777.py:6: UserWarning: set_ticklabels() should only be used with a fixed number of ticks, i.e. after set_ticks() or using a FixedLocator.\n",
      "  ax.set_xticklabels(ax.get_xticks(), fontsize=18)\n",
      "/tmp/ipykernel_41674/1944244777.py:7: UserWarning: set_ticklabels() should only be used with a fixed number of ticks, i.e. after set_ticks() or using a FixedLocator.\n",
      "  ax.set_yticklabels(ax.get_yticks(), fontsize=18)\n"
     ]
    },
    {
     "data": {
      "text/plain": "<Figure size 1200x600 with 1 Axes>",
      "image/png": "[encoded data removed]"
     },
     "metadata": {},
     "output_type": "display_data"
    }
   ],
   "source": [
    "plot_for_family(cpv_df, os.path.join(\"cpv_impact\", \"cpv_impact.png\"))"
   ],
   "metadata": {
    "collapsed": false,
    "ExecuteTime": {
     "end_time": "2024-06-16T21:19:07.984439969Z",
     "start_time": "2024-06-16T21:19:06.291940554Z"
    }
   },
   "id": "564759d5c182a17b"
  },
  {
   "cell_type": "code",
   "execution_count": 7,
   "outputs": [
    {
     "data": {
      "text/plain": "<matplotlib.collections.PathCollection at 0x7f985b6db050>"
     },
     "execution_count": 7,
     "metadata": {},
     "output_type": "execute_result"
    },
    {
     "data": {
      "text/plain": "<Figure size 640x480 with 1 Axes>",
      "image/png": "[encoded data removed]"
     },
     "metadata": {},
     "output_type": "display_data"
    }
   ],
   "source": [
    "plt.scatter(cpv_df[\"cpv_increase\"], cpv_df[\"cost_increase\"])"
   ],
   "metadata": {
    "collapsed": false,
    "ExecuteTime": {
     "end_time": "2024-06-10T21:33:58.517474266Z",
     "start_time": "2024-06-10T21:33:57.346695388Z"
    }
   },
   "id": "a225f3a95da63bd2"
  }
 ],
 "metadata": {
  "kernelspec": {
   "display_name": "Python 3",
   "language": "python",
   "name": "python3"
  },
  "language_info": {
   "codemirror_mode": {
    "name": "ipython",
    "version": 2
   },
   "file_extension": ".py",
   "mimetype": "text/x-python",
   "name": "python",
   "nbconvert_exporter": "python",
   "pygments_lexer": "ipython2",
   "version": "2.7.6"
  }
 },
 "nbformat": 4,
 "nbformat_minor": 5
}
