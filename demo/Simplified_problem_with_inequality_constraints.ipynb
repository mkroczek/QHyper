{
 "cells": [
  {
   "attachments": {},
   "cell_type": "markdown",
   "id": "d0fa9033",
   "metadata": {},
   "source": [
    "# Quadratic binary optimization for problems with inequality constraints\n",
    "Based on the [Constrained Quadratic Model](https://docs.ocean.dwavesys.com/en/stable/concepts/cqm.html) - CQM."
   ]
  },
  {
   "attachments": {},
   "cell_type": "markdown",
   "id": "ed3a8950",
   "metadata": {},
   "source": [
    "# 1 Theory\n",
    "The `cost function` $C_f(\\boldsymbol{x})$ can be represented as\n",
    "\\begin{equation}\n",
    "C_f(\\boldsymbol{x})=\\sum_{i} c_{ii} x_i + \\sum_{i < j} c_{ij} x_i x_j + const,\n",
    "\\label{eq:costcqm}\n",
    "\\end{equation} where $c_{ii}$ and $c_{ij}$ are real coefficients, and the variables $\\{ x_i\\}_{i=1, \\dots, N}$ are binary.\n",
    "---\n",
    "<br> Similarly, the `constraints` are given by functions $G^{(k)}_{f}(\\boldsymbol{x})$ can be represented as \n",
    "\\begin{equation}\n",
    " G^{(k)}_{f}(\\boldsymbol{x})=\\sum_i g^{(k)}_{ii} x_i + \\sum_{i < j} g^{(k)}_{ij} x_i x_j+ const \\circ 0, \n",
    " \\label{eq:conscqm}\n",
    " \\end{equation}\n",
    "    where $g_{ii}$ and $g_{ij}$ are real coefficients, $k=1, \\dots, M$ and $M$ is the number of constraints, and the symbol $\\circ$ denotes a comparison operator  $\\{\\ge, \\le, =\\}.$\n",
    "---    \n",
    "\n",
    "<br> To use QAOA, all functions have to be combined into Quantum Unconstrained Binary Optimization. In the first step, this is done by transforming the constraints $G^{(k)}_{f}(\\boldsymbol{x}) \\circ 0 $ into the equality constraints $K^{(k)}_{f}(\\boldsymbol{x})=0$. This is done using slack variables. \n",
    "\n",
    "---  \n",
    "<br> Next, by adding weighted constraints and the cost function together, the `objective function` is obtained in the form\n",
    "\\begin{equation}\n",
    "\\label{qubo}\n",
    "    f_{QUBO}(\\boldsymbol{x})=\\alpha_0C_f(\\boldsymbol{x})+\\sum_{k=1}^{M} {\\alpha_{k} K_f^{(k)}(\\boldsymbol{x})},\n",
    "\\end{equation}\n",
    "where $\\alpha_0$ is the weight of the cost function and $\\alpha_{k}$ is the weight of the $k$-th constraint, $\\alpha_i > 0$."
   ]
  },
  {
   "attachments": {},
   "cell_type": "markdown",
   "id": "bd8ed4ea",
   "metadata": {},
   "source": [
    "# 2 Simplified example\n",
    "_Minimize $2x_0 + 5x_1 + x_0x_1$ subject to $x_0 + x_1 = 1 $ and $5x_0 + 2x_1 \\leq 5 $_"
   ]
  },
  {
   "attachments": {},
   "cell_type": "markdown",
   "id": "891bb3f9",
   "metadata": {},
   "source": [
    "Using the notation introduced in [1]\n",
    "<center>\n",
    "minimize $ C_f(\\boldsymbol{x}) = 2x_0 + 5x_1 + x_0x_1$\n",
    "    <br> subject to $G_f^{(1)}(\\boldsymbol{x}) = x_0 + x_1 - 1 = 0$ and $G_f^{(2)}(\\boldsymbol{x})=5x_0 + 2x_1 - 5 \\leq 0 $"
   ]
  },
  {
   "attachments": {},
   "cell_type": "markdown",
   "id": "25471911",
   "metadata": {},
   "source": [
    "We need to convert the inequality constraint $G_f^{(2)}$ into the equality constraint $K_f^{(2)}$ using slack variables. To see how this is done, see the method `calc_slack_coefficients`. In our case $5$ can be expressed as $2^0 + 2^1 + 2$, so the coefficients for binary variables $\\textbf{s}$ are $[1, 2, 2]$. In general, if the number is not a power of 2, the last coefficient is the difference between the previous power of 2 that falls within this number and this number.\n",
    "\n",
    "<br>\n",
    "<center>\n",
    "$K_f^{(1)}(\\boldsymbol{x}) = x_0 + x_1 - 1$ and $K_f^{(2)}(\\boldsymbol{x})=5x_0 + 2x_1 - 1x_2 - 2x_3 -  2x_4 = 0 $"
   ]
  },
  {
   "attachments": {},
   "cell_type": "markdown",
   "id": "7523634f",
   "metadata": {},
   "source": [
    "In QHyper, this problem needs to be a subclass of the [Problem class](https://github.com/qc-lab/QHyper/blob/tmek/improve-tutorials/QHyper/problems/base.py)."
   ]
  },
  {
   "cell_type": "code",
   "execution_count": 1,
   "id": "d68cd9ae",
   "metadata": {},
   "outputs": [],
   "source": [
    "import numpy as np\n",
    "import sympy\n",
    "from sympy.core.expr import Expr\n",
    "import sys\n",
    "sys.path.append('..')\n",
    "from QHyper.problems.base import Problem\n",
    "from QHyper.util import Expression\n",
    "\n",
    "class SimpleProblem(Problem):\n",
    "    \n",
    "    def __init__(self) -> None:\n",
    "        self.slack_coefficients = calc_slack_coefficients(5)\n",
    "        self.variables = sympy.symbols(' '.join([f'x{i}' for i in range(2)])  + ' ' \n",
    "                                    + ' '.join([f'x{i+2}' for i in range(len(self.slack_coefficients))]))\n",
    "        self._set_objective_function()\n",
    "        self._set_constraints()\n",
    "        \n",
    "    def _set_objective_function(self) -> None:\n",
    "        C_f = 2 * self.variables[0] + 5 * self.variables[1] + self.variables[0] * self.variables[1]\n",
    "        self.objective_function = Expression(C_f)\n",
    "        \n",
    "    def _set_constraints(self):\n",
    "        K_f1 = self.variables[0] + self.variables[1] - 1\n",
    "        \n",
    "        K_f2 = 5 * self.variables[0] + 2 * self.variables[1] \n",
    "        for i, coefficient in enumerate(self.slack_coefficients):\n",
    "           K_f2 += - coefficient * self.variables[i+2]\n",
    "        #self.constraints = [Expression(K_f1)]    \n",
    "        self.constraints = [Expression(K_f1), Expression(K_f2)]\n",
    "    \n",
    "    #########################\n",
    "    def get_score(self, result, penalty=0):\n",
    "        # \"10000\"\n",
    "        # this function is used to evaluate the quality of the result\n",
    "        \n",
    "        x = [int(val) for val in result]\n",
    "       \n",
    "        if x[0] + x[1] -1 == 0 and 5 * x[0] + 2 * x[1] <= 5  and 5*x[0] + 2*x[1] - x[2] - 2*x[3] - 2*x[4] == 0:\n",
    "           # print(x,  2 * x[0] + 5 * x[1]+ x[0] * x[1])\n",
    "            return 2 * x[0] + 5 * x[1]+ x[0] * x[1]\n",
    "       # print(x,penalty)\n",
    "        return penalty\n",
    "    #########################"
   ]
  },
  {
   "cell_type": "code",
   "execution_count": 2,
   "id": "f82d625a",
   "metadata": {},
   "outputs": [],
   "source": [
    "def calc_slack_coefficients(constant: int) -> list[int]:\n",
    "    num_slack = int(np.floor(np.log2(constant)))\n",
    "    slack_coefficients = [2 ** j for j in range(num_slack)]\n",
    "    if constant - 2 ** num_slack >= 0:\n",
    "        slack_coefficients.append(constant - 2 ** num_slack + 1)\n",
    "    return slack_coefficients"
   ]
  },
  {
   "cell_type": "code",
   "execution_count": 3,
   "id": "c1020013",
   "metadata": {},
   "outputs": [
    {
     "data": {
      "text/plain": [
       "[1, 2, 2]"
      ]
     },
     "execution_count": 3,
     "metadata": {},
     "output_type": "execute_result"
    }
   ],
   "source": [
    "calc_slack_coefficients(5)"
   ]
  },
  {
   "cell_type": "code",
   "execution_count": 4,
   "id": "998e39fa",
   "metadata": {},
   "outputs": [],
   "source": [
    "problem = SimpleProblem()"
   ]
  },
  {
   "cell_type": "code",
   "execution_count": 5,
   "id": "b914cd22",
   "metadata": {},
   "outputs": [
    {
     "name": "stdout",
     "output_type": "stream",
     "text": [
      "Variables used to describe objective function and constraints: (x0, x1, x2, x3, x4)\n",
      "Objective function: {('x0', 'x1'): 1, ('x0',): 2, ('x1',): 5}\n",
      "Constraints (RHS == 0):\n",
      "    {('x0',): 1, ('x1',): 1, (): -1}\n",
      "    {('x0',): 5, ('x1',): 2, ('x2',): -1, ('x3',): -2, ('x4',): -2}\n"
     ]
    }
   ],
   "source": [
    "print(f\"Variables used to describe objective function\"\n",
    "      f\" and constraints: {problem.variables}\")\n",
    "print(f\"Objective function: {problem.objective_function}\")\n",
    "print(\"Constraints (RHS == 0):\")\n",
    "for constraint in problem.constraints:\n",
    "    print(f\"    {constraint}\")"
   ]
  },
  {
   "attachments": {},
   "cell_type": "markdown",
   "id": "9852e256",
   "metadata": {},
   "source": [
    "# 3 Using QHyper"
   ]
  },
  {
   "cell_type": "code",
   "execution_count": 6,
   "id": "f6e3d37c",
   "metadata": {},
   "outputs": [],
   "source": [
    "# Simple quantum circuit without optimzers will be used to test the results\n",
    "# WF-QAOA is choosen becasue this PQC has most suitable evaluation function\n",
    "from QHyper.solvers.vqa.base import VQA\n",
    "tester_config = {\n",
    "    'pqc': {\n",
    "        'type': 'wfqaoa',\n",
    "        'layers': 5,\n",
    "    }\n",
    "}\n",
    "\n",
    "tester = VQA(problem, config=tester_config)"
   ]
  },
  {
   "cell_type": "code",
   "execution_count": 7,
   "id": "8dbdf752",
   "metadata": {},
   "outputs": [],
   "source": [
    "# Create a VQA instance with QAOA as PQC and scipy optimizer\n",
    "# This can be done in two various way\n",
    "# 1. Providing dict with config (usefull to save experiment confing in e.g JSON)\n",
    "\n",
    "solver_config = {\n",
    "   'pqc': {\n",
    "       'type': 'qaoa',\n",
    "       'layers': 5,\n",
    "       'mixer': 'pl_x_mixer',\n",
    "    },\n",
    "   'optimizer': {\n",
    "      'type': 'scipy',\n",
    "      'maxfun': 200,\n",
    "    },\n",
    "}\n",
    "vqa = VQA(problem, config=solver_config)"
   ]
  },
  {
   "cell_type": "code",
   "execution_count": 8,
   "id": "7e3442eb",
   "metadata": {},
   "outputs": [],
   "source": [
    "from QHyper.solvers import Solver\n",
    "hyper_optimizer_bounds = [(1, 3), (1,1.1),(1,3)]\n",
    "solver_config2 = {\n",
    "    \"solver\": {\n",
    "        \"type\": \"vqa\",\n",
    "        \"args\": {\n",
    "            \"config\": {\n",
    "                \"optimizer\": {\n",
    "                    \"type\": \"scipy\",\n",
    "                    \"maxfun\": 200,\n",
    "                },\n",
    "                \"pqc\": {\n",
    "                    \"type\": \"qaoa\",\n",
    "                    \"layers\": 5,\n",
    "                }\n",
    "            }\n",
    "        }\n",
    "    },\n",
    "    \"hyper_optimizer\": {\n",
    "        \"type\": \"random\",    \n",
    "        \"processes\": 1,\n",
    "        \"number_of_samples\": 1,\n",
    "        \"bounds\": hyper_optimizer_bounds\n",
    "    }\n",
    "}\n",
    "vqa2 = Solver.from_config(problem, solver_config2)"
   ]
  },
  {
   "cell_type": "code",
   "execution_count": 14,
   "id": "8ee8f53c",
   "metadata": {},
   "outputs": [],
   "source": [
    "# 2. Providing actual isntance of each class like VQA and Optimizer\n",
    "# from QHyper.solvers.vqa.pqc.qaoa import QAOA\n",
    "# from QHyper.optimizers import ScipyOptimizer\n",
    "\n",
    "# vqa = VQA(problem, QAOA(layers=5, mixer='pl_x_mixer'), ScipyOptimizer(maxfun=10))"
   ]
  },
  {
   "attachments": {},
   "cell_type": "markdown",
   "id": "002b69f8",
   "metadata": {},
   "source": [
    "Initialization part\n",
    "<br> 'angles' -  QAOA angles - first we have gammas (for the cost Hamiltonian), then we have betas (for the mixer)\n",
    "<br> 'hyper_args': [1, 1, 1], #  those are the alpha values from Section 1 - Theory"
   ]
  },
  {
   "cell_type": "code",
   "execution_count": 9,
   "id": "f9d96cf4",
   "metadata": {},
   "outputs": [],
   "source": [
    "params_config = {\n",
    "        'angles': [[0.5]*5, [0.7]*5], # QAOA angles - first we have gammas (for the cost Hamiltonian), then we have betas (for the mixer)\n",
    "       # 'hyper_args': [1, 1, 1], #  those are the alpha values from [1]\n",
    "       'hyper_args': [1, 1, 1]\n",
    "    }"
   ]
  },
  {
   "cell_type": "code",
   "execution_count": 10,
   "id": "43292488",
   "metadata": {
    "scrolled": true
   },
   "outputs": [
    {
     "name": "stderr",
     "output_type": "stream",
     "text": [
      "  0%|          | 0/1 [00:00<?, ?it/s]"
     ]
    }
   ],
   "source": [
    "best_params = vqa2.solve(params_config)\n",
    "print(f\"Best params: {best_params}\")"
   ]
  },
  {
   "cell_type": "code",
   "execution_count": 1,
   "id": "b39d6fdc",
   "metadata": {
    "scrolled": true
   },
   "outputs": [
    {
     "ename": "NameError",
     "evalue": "name 'tester' is not defined",
     "output_type": "error",
     "traceback": [
      "\u001b[1;31m---------------------------------------------------------------------------\u001b[0m",
      "\u001b[1;31mNameError\u001b[0m                                 Traceback (most recent call last)",
      "\u001b[1;32mc:\\Users\\kzaja\\Documents\\mariusz\\qhyper\\QHyper\\QHyper\\demo\\Simplified_problem_with_inequality_constraints.ipynb Cell 20\u001b[0m line \u001b[0;36m1\n\u001b[1;32m----> <a href='vscode-notebook-cell:/c%3A/Users/kzaja/Documents/mariusz/qhyper/QHyper/QHyper/demo/Simplified_problem_with_inequality_constraints.ipynb#X24sZmlsZQ%3D%3D?line=0'>1</a>\u001b[0m best_results \u001b[39m=\u001b[39m tester\u001b[39m.\u001b[39mevaluate(best_params,  print_results\u001b[39m=\u001b[39m\u001b[39mTrue\u001b[39;00m)\n\u001b[0;32m      <a href='vscode-notebook-cell:/c%3A/Users/kzaja/Documents/mariusz/qhyper/QHyper/QHyper/demo/Simplified_problem_with_inequality_constraints.ipynb#X24sZmlsZQ%3D%3D?line=1'>2</a>\u001b[0m \u001b[39mprint\u001b[39m(\u001b[39mf\u001b[39m\u001b[39m\"\u001b[39m\u001b[39mBest results: \u001b[39m\u001b[39m{\u001b[39;00mbest_results\u001b[39m}\u001b[39;00m\u001b[39m\"\u001b[39m)\n\u001b[0;32m      <a href='vscode-notebook-cell:/c%3A/Users/kzaja/Documents/mariusz/qhyper/QHyper/QHyper/demo/Simplified_problem_with_inequality_constraints.ipynb#X24sZmlsZQ%3D%3D?line=2'>3</a>\u001b[0m \u001b[39mprint\u001b[39m(\u001b[39mf\u001b[39m\u001b[39m\"\u001b[39m\u001b[39mParams used for optimizer:\u001b[39m\u001b[39m\\n\u001b[39;00m\u001b[39m{\u001b[39;00mbest_params[\u001b[39m'\u001b[39m\u001b[39mangles\u001b[39m\u001b[39m'\u001b[39m]\u001b[39m}\u001b[39;00m\u001b[39m,\u001b[39m\u001b[39m\\n\u001b[39;00m\u001b[39m\"\u001b[39m\n\u001b[0;32m      <a href='vscode-notebook-cell:/c%3A/Users/kzaja/Documents/mariusz/qhyper/QHyper/QHyper/demo/Simplified_problem_with_inequality_constraints.ipynb#X24sZmlsZQ%3D%3D?line=3'>4</a>\u001b[0m       \u001b[39mf\u001b[39m\u001b[39m\"\u001b[39m\u001b[39mand params used for hyperoptimizer: \u001b[39m\u001b[39m{\u001b[39;00mbest_params[\u001b[39m'\u001b[39m\u001b[39mhyper_args\u001b[39m\u001b[39m'\u001b[39m]\u001b[39m}\u001b[39;00m\u001b[39m\"\u001b[39m)\n",
      "\u001b[1;31mNameError\u001b[0m: name 'tester' is not defined"
     ]
    }
   ],
   "source": [
    "best_results = tester.evaluate(best_params,  print_results=True)\n",
    "print(f\"Best results: {best_results}\")\n",
    "print(f\"Params used for optimizer:\\n{best_params['angles']},\\n\"\n",
    "      f\"and params used for hyperoptimizer: {best_params['hyper_args']}\")"
   ]
  },
  {
   "attachments": {},
   "cell_type": "markdown",
   "id": "46ee9bd5",
   "metadata": {},
   "source": [
    "### Versions of the QAOA"
   ]
  },
  {
   "attachments": {},
   "cell_type": "markdown",
   "id": "15187751",
   "metadata": {},
   "source": [
    "1. 'Vanila' QAOA\n",
    "<img src=\"imgs/qaoa.png\" width=\"200\" height=\"100\">\n",
    "\n"
   ]
  },
  {
   "attachments": {},
   "cell_type": "markdown",
   "id": "6d45ae1b",
   "metadata": {},
   "source": [
    "'pqc': {\n",
    "        'type': 'qaoa',\n",
    "        'layers': 3,\n",
    "        'mixer': 'pl_x_mixer',\n",
    "        'backend': 'default.qubit',\n",
    "        },"
   ]
  },
  {
   "attachments": {},
   "cell_type": "markdown",
   "id": "f4eeafca",
   "metadata": {},
   "source": [
    "2. 'Weight-free' WF-QAOA\n",
    "<img src=\"imgs/wf-qaoa.png\" width=\"200\" height=\"100\">\n",
    "\n"
   ]
  },
  {
   "attachments": {},
   "cell_type": "markdown",
   "id": "0f02aa16",
   "metadata": {},
   "source": [
    "'pqc': {\n",
    "        'type': 'wfqaoa',\n",
    "        'layers': 3,\n",
    "        'mixer': 'pl_x_mixer',\n",
    "        'penalty': 0.0\n",
    "        'backend': 'default.qubit',\n",
    "        },"
   ]
  },
  {
   "attachments": {},
   "cell_type": "markdown",
   "id": "adb59fc4",
   "metadata": {},
   "source": [
    "3. 'Hyper' H-QAOA\n",
    "<img src=\"imgs/hqaoa.png\" width=\"200\" height=\"100\">\n",
    "\n"
   ]
  },
  {
   "attachments": {},
   "cell_type": "markdown",
   "id": "dd2f8822",
   "metadata": {},
   "source": [
    "'pqc': {\n",
    "        'type': 'hqaoa',\n",
    "        'layers': 3,\n",
    "        'mixer': 'pl_x_mixer',\n",
    "        'backend': 'default.qubit',\n",
    "        },"
   ]
  },
  {
   "attachments": {},
   "cell_type": "markdown",
   "id": "23898fce",
   "metadata": {},
   "source": [
    "### Versions of optimizers"
   ]
  },
  {
   "attachments": {},
   "cell_type": "markdown",
   "id": "2a3d152e",
   "metadata": {},
   "source": [
    "'optimizer': {\n",
    "        'type': 'scipy',\n",
    "        'maxfun': 200,\n",
    "        'bounds': []\n",
    "    },"
   ]
  },
  {
   "cell_type": "code",
   "execution_count": null,
   "id": "75d3fa99",
   "metadata": {},
   "outputs": [],
   "source": []
  }
 ],
 "metadata": {
  "celltoolbar": "Raw Cell Format",
  "kernelspec": {
   "display_name": "Python 3 (ipykernel)",
   "language": "python",
   "name": "python3"
  },
  "language_info": {
   "codemirror_mode": {
    "name": "ipython",
    "version": 3
   },
   "file_extension": ".py",
   "mimetype": "text/x-python",
   "name": "python",
   "nbconvert_exporter": "python",
   "pygments_lexer": "ipython3",
   "version": "3.10.11"
  }
 },
 "nbformat": 4,
 "nbformat_minor": 5
}
