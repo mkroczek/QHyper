{
 "cells": [
  {
   "cell_type": "code",
   "execution_count": 27,
   "id": "f08adbe1",
   "metadata": {},
   "outputs": [
    {
     "name": "stdout",
     "output_type": "stream",
     "text": [
      "The autoreload extension is already loaded. To reload it, use:\n",
      "  %reload_ext autoreload\n"
     ]
    }
   ],
   "source": [
    "%load_ext autoreload"
   ]
  },
  {
   "cell_type": "code",
   "execution_count": 28,
   "id": "95074d7a",
   "metadata": {},
   "outputs": [],
   "source": [
    "from QHyper.problems.workflow_scheduling import Workflow, WorkflowSchedulingProblem"
   ]
  },
  {
   "cell_type": "code",
   "execution_count": 29,
   "id": "451581cc",
   "metadata": {},
   "outputs": [],
   "source": [
    "from QHyper.solvers.CQM.cqm import CQM"
   ]
  },
  {
   "cell_type": "code",
   "execution_count": 48,
   "id": "3c381f65",
   "metadata": {},
   "outputs": [],
   "source": [
    "tasks_file = \"/Users/jzawalska/Coding/QHyper/QHyper/problems/workflows_data/workflows/msc_sample_workflow.json\"\n",
    "machines_file = \"/Users/jzawalska/Coding/QHyper/QHyper/problems/workflows_data/machines/msc_sample_machines.json\"\n",
    "deadline = 13"
   ]
  },
  {
   "cell_type": "code",
   "execution_count": 49,
   "id": "8d804eb3",
   "metadata": {},
   "outputs": [],
   "source": [
    "workflow = Workflow(tasks_file, machines_file, deadline)\n",
    "wsp = WorkflowSchedulingProblem(workflow)"
   ]
  },
  {
   "cell_type": "code",
   "execution_count": 50,
   "id": "ef5a4e50",
   "metadata": {},
   "outputs": [
    {
     "data": {
      "text/html": [
       "<div>\n",
       "<style scoped>\n",
       "    .dataframe tbody tr th:only-of-type {\n",
       "        vertical-align: middle;\n",
       "    }\n",
       "\n",
       "    .dataframe tbody tr th {\n",
       "        vertical-align: top;\n",
       "    }\n",
       "\n",
       "    .dataframe thead th {\n",
       "        text-align: right;\n",
       "    }\n",
       "</style>\n",
       "<table border=\"1\" class=\"dataframe\">\n",
       "  <thead>\n",
       "    <tr style=\"text-align: right;\">\n",
       "      <th></th>\n",
       "      <th>MachineA</th>\n",
       "      <th>MachineB</th>\n",
       "      <th>MachineD</th>\n",
       "    </tr>\n",
       "  </thead>\n",
       "  <tbody>\n",
       "    <tr>\n",
       "      <th>Task1</th>\n",
       "      <td>4.0</td>\n",
       "      <td>2.0</td>\n",
       "      <td>1.0</td>\n",
       "    </tr>\n",
       "    <tr>\n",
       "      <th>Task2</th>\n",
       "      <td>8.0</td>\n",
       "      <td>4.0</td>\n",
       "      <td>2.0</td>\n",
       "    </tr>\n",
       "    <tr>\n",
       "      <th>Task3</th>\n",
       "      <td>16.0</td>\n",
       "      <td>8.0</td>\n",
       "      <td>4.0</td>\n",
       "    </tr>\n",
       "    <tr>\n",
       "      <th>Task4</th>\n",
       "      <td>32.0</td>\n",
       "      <td>16.0</td>\n",
       "      <td>8.0</td>\n",
       "    </tr>\n",
       "  </tbody>\n",
       "</table>\n",
       "</div>"
      ],
      "text/plain": [
       "       MachineA  MachineB  MachineD\n",
       "Task1       4.0       2.0       1.0\n",
       "Task2       8.0       4.0       2.0\n",
       "Task3      16.0       8.0       4.0\n",
       "Task4      32.0      16.0       8.0"
      ]
     },
     "execution_count": 50,
     "metadata": {},
     "output_type": "execute_result"
    }
   ],
   "source": [
    "wsp.workflow.time_matrix"
   ]
  },
  {
   "cell_type": "code",
   "execution_count": 51,
   "id": "d60047f6",
   "metadata": {},
   "outputs": [
    {
     "data": {
      "text/plain": [
       "'Task2'"
      ]
     },
     "execution_count": 51,
     "metadata": {},
     "output_type": "execute_result"
    }
   ],
   "source": [
    "wsp.workflow.time_matrix.index[1]"
   ]
  },
  {
   "cell_type": "code",
   "execution_count": 52,
   "id": "e6641cad",
   "metadata": {},
   "outputs": [
    {
     "data": {
      "text/html": [
       "<div>\n",
       "<style scoped>\n",
       "    .dataframe tbody tr th:only-of-type {\n",
       "        vertical-align: middle;\n",
       "    }\n",
       "\n",
       "    .dataframe tbody tr th {\n",
       "        vertical-align: top;\n",
       "    }\n",
       "\n",
       "    .dataframe thead th {\n",
       "        text-align: right;\n",
       "    }\n",
       "</style>\n",
       "<table border=\"1\" class=\"dataframe\">\n",
       "  <thead>\n",
       "    <tr style=\"text-align: right;\">\n",
       "      <th></th>\n",
       "      <th>MachineA</th>\n",
       "      <th>MachineB</th>\n",
       "      <th>MachineD</th>\n",
       "    </tr>\n",
       "  </thead>\n",
       "  <tbody>\n",
       "    <tr>\n",
       "      <th>Task1</th>\n",
       "      <td>1.0</td>\n",
       "      <td>2.0</td>\n",
       "      <td>8.0</td>\n",
       "    </tr>\n",
       "    <tr>\n",
       "      <th>Task2</th>\n",
       "      <td>2.0</td>\n",
       "      <td>4.0</td>\n",
       "      <td>16.0</td>\n",
       "    </tr>\n",
       "    <tr>\n",
       "      <th>Task3</th>\n",
       "      <td>4.0</td>\n",
       "      <td>8.0</td>\n",
       "      <td>32.0</td>\n",
       "    </tr>\n",
       "    <tr>\n",
       "      <th>Task4</th>\n",
       "      <td>8.0</td>\n",
       "      <td>16.0</td>\n",
       "      <td>64.0</td>\n",
       "    </tr>\n",
       "  </tbody>\n",
       "</table>\n",
       "</div>"
      ],
      "text/plain": [
       "       MachineA  MachineB  MachineD\n",
       "Task1       1.0       2.0       8.0\n",
       "Task2       2.0       4.0      16.0\n",
       "Task3       4.0       8.0      32.0\n",
       "Task4       8.0      16.0      64.0"
      ]
     },
     "execution_count": 52,
     "metadata": {},
     "output_type": "execute_result"
    }
   ],
   "source": [
    "wsp.workflow.cost_matrix"
   ]
  },
  {
   "cell_type": "code",
   "execution_count": 53,
   "id": "27768c3a",
   "metadata": {},
   "outputs": [
    {
     "name": "stdout",
     "output_type": "stream",
     "text": [
      "1.0*x0 + 2.0*x1 + 16.0*x10 + 64.0*x11 + 8.0*x2 + 2.0*x3 + 4.0*x4 + 16.0*x5 + 4.0*x6 + 8.0*x7 + 32.0*x8 + 8.0*x9\n"
     ]
    }
   ],
   "source": [
    "print(wsp.objective_function.polynomial)"
   ]
  },
  {
   "cell_type": "code",
   "execution_count": 54,
   "id": "98ac95e2",
   "metadata": {},
   "outputs": [
    {
     "name": "stdout",
     "output_type": "stream",
     "text": [
      "x0 + x1 + x2 - 1 == 0\n",
      "x3 + x4 + x5 - 1 == 0\n",
      "x6 + x7 + x8 - 1 == 0\n",
      "x10 + x11 + x9 - 1 == 0\n",
      "4.0*x0 + 2.0*x1 + 16.0*x10 + 8.0*x11 + 1.0*x2 + 8.0*x3 + 4.0*x4 + 2.0*x5 + 32.0*x9 - 13 <= 0\n",
      "4.0*x0 + 2.0*x1 + 16.0*x10 + 8.0*x11 + 1.0*x2 + 16.0*x6 + 8.0*x7 + 4.0*x8 + 32.0*x9 - 13 <= 0\n"
     ]
    }
   ],
   "source": [
    "for sense, constraint in wsp.constraints.items():\n",
    "    for c in constraint:\n",
    "        print(c.polynomial, sense, 0)"
   ]
  },
  {
   "cell_type": "code",
   "execution_count": 55,
   "id": "db1d19bc",
   "metadata": {},
   "outputs": [],
   "source": [
    "cqm = wsp.to_cqm()"
   ]
  },
  {
   "cell_type": "code",
   "execution_count": 56,
   "id": "c63da4d8",
   "metadata": {},
   "outputs": [
    {
     "name": "stdout",
     "output_type": "stream",
     "text": [
      "Constrained quadratic model: 12 variables, 6 constraints, 42 biases\n",
      "\n",
      "Objective\n",
      "  Binary('x0') + 2*Binary('x1') + 16*Binary('x10') + 64*Binary('x11') + 8*Binary('x2') + 2*Binary('x3') + 4*Binary('x4') + 16*Binary('x5') + 4*Binary('x6') + 8*Binary('x7') + 32*Binary('x8') + 8*Binary('x9')\n",
      "\n",
      "Constraints\n",
      "  ced060a: -1 + Binary('x0') + Binary('x1') + Binary('x2') == 0.0\n",
      "  c79b5ef: -1 + Binary('x3') + Binary('x4') + Binary('x5') == 0.0\n",
      "  c772000: -1 + Binary('x6') + Binary('x7') + Binary('x8') == 0.0\n",
      "  cfa1aab: -1 + Binary('x10') + Binary('x11') + Binary('x9') == 0.0\n",
      "  c7ae1d9: -13 + 4*Binary('x0') + 2*Binary('x1') + 16*Binary('x10') + 8*Binary('x11') + Binary('x2') + 8*Binary('x3') + 4*Binary('x4') + 2*Binary('x5') + 32*Binary('x9') <= 0.0\n",
      "  c6058df: -13 + 4*Binary('x0') + 2*Binary('x1') + 16*Binary('x10') + 8*Binary('x11') + Binary('x2') + 16*Binary('x6') + 8*Binary('x7') + 4*Binary('x8') + 32*Binary('x9') <= 0.0\n",
      "\n",
      "Bounds\n",
      "\n"
     ]
    }
   ],
   "source": [
    "print(cqm)"
   ]
  },
  {
   "cell_type": "code",
   "execution_count": 57,
   "id": "2f3a17ee",
   "metadata": {},
   "outputs": [],
   "source": [
    "qubo, offset = wsp.to_qubo()"
   ]
  },
  {
   "cell_type": "code",
   "execution_count": 58,
   "id": "4ec7340f",
   "metadata": {},
   "outputs": [
    {
     "data": {
      "text/plain": [
       "{('x1', 'x0'): 340.0,\n",
       " ('x10', 'x0'): 2560.0,\n",
       " ('x10', 'x1'): 1280.0,\n",
       " ('x11', 'x0'): 1280.0,\n",
       " ('x11', 'x1'): 640.0,\n",
       " ('x11', 'x10'): 5140.0,\n",
       " ('x2', 'x0'): 180.0,\n",
       " ('x2', 'x1'): 100.0,\n",
       " ('x2', 'x10'): 640.0,\n",
       " ('x2', 'x11'): 320.0,\n",
       " ('x3', 'x0'): 640.0,\n",
       " ('x3', 'x1'): 320.0,\n",
       " ('x3', 'x10'): 2560.0,\n",
       " ('x3', 'x11'): 1280.0,\n",
       " ('x3', 'x2'): 160.0,\n",
       " ('x4', 'x0'): 320.0,\n",
       " ('x4', 'x1'): 160.0,\n",
       " ('x4', 'x10'): 1280.0,\n",
       " ('x4', 'x11'): 640.0,\n",
       " ('x4', 'x2'): 80.0,\n",
       " ('x4', 'x3'): 660.0,\n",
       " ('x5', 'x0'): 160.0,\n",
       " ('x5', 'x1'): 80.0,\n",
       " ('x5', 'x10'): 640.0,\n",
       " ('x5', 'x11'): 320.0,\n",
       " ('x5', 'x2'): 40.0,\n",
       " ('x5', 'x3'): 340.0,\n",
       " ('x5', 'x4'): 180.0,\n",
       " ('x6', 'x0'): 1280.0,\n",
       " ('x6', 'x1'): 640.0,\n",
       " ('x6', 'x10'): 5120.0,\n",
       " ('x6', 'x11'): 2560.0,\n",
       " ('x6', 'x2'): 320.0,\n",
       " ('x7', 'x0'): 640.0,\n",
       " ('x7', 'x1'): 320.0,\n",
       " ('x7', 'x10'): 2560.0,\n",
       " ('x7', 'x11'): 1280.0,\n",
       " ('x7', 'x2'): 160.0,\n",
       " ('x7', 'x6'): 2580.0,\n",
       " ('x8', 'x0'): 320.0,\n",
       " ('x8', 'x1'): 160.0,\n",
       " ('x8', 'x10'): 1280.0,\n",
       " ('x8', 'x11'): 640.0,\n",
       " ('x8', 'x2'): 80.0,\n",
       " ('x8', 'x6'): 1300.0,\n",
       " ('x8', 'x7'): 660.0,\n",
       " ('x9', 'x0'): 5120.0,\n",
       " ('x9', 'x1'): 2560.0,\n",
       " ('x9', 'x10'): 20500.0,\n",
       " ('x9', 'x11'): 10260.0,\n",
       " ('x9', 'x2'): 1280.0,\n",
       " ('x9', 'x3'): 5120.0,\n",
       " ('x9', 'x4'): 2560.0,\n",
       " ('x9', 'x5'): 1280.0,\n",
       " ('x9', 'x6'): 10240.0,\n",
       " ('x9', 'x7'): 5120.0,\n",
       " ('x9', 'x8'): 2560.0,\n",
       " ('slack_v3e178a59138e4eeda0b43734f0f6216a_0', 'x0'): 80.0,\n",
       " ('slack_v3e178a59138e4eeda0b43734f0f6216a_0', 'x1'): 40.0,\n",
       " ('slack_v3e178a59138e4eeda0b43734f0f6216a_0', 'x10'): 320.0,\n",
       " ('slack_v3e178a59138e4eeda0b43734f0f6216a_0', 'x11'): 160.0,\n",
       " ('slack_v3e178a59138e4eeda0b43734f0f6216a_0', 'x2'): 20.0,\n",
       " ('slack_v3e178a59138e4eeda0b43734f0f6216a_0', 'x3'): 160.0,\n",
       " ('slack_v3e178a59138e4eeda0b43734f0f6216a_0', 'x4'): 80.0,\n",
       " ('slack_v3e178a59138e4eeda0b43734f0f6216a_0', 'x5'): 40.0,\n",
       " ('slack_v3e178a59138e4eeda0b43734f0f6216a_0', 'x9'): 640.0,\n",
       " ('slack_v3e178a59138e4eeda0b43734f0f6216a_1', 'x0'): 160.0,\n",
       " ('slack_v3e178a59138e4eeda0b43734f0f6216a_1', 'x1'): 80.0,\n",
       " ('slack_v3e178a59138e4eeda0b43734f0f6216a_1', 'x10'): 640.0,\n",
       " ('slack_v3e178a59138e4eeda0b43734f0f6216a_1', 'x11'): 320.0,\n",
       " ('slack_v3e178a59138e4eeda0b43734f0f6216a_1', 'x2'): 40.0,\n",
       " ('slack_v3e178a59138e4eeda0b43734f0f6216a_1', 'x3'): 320.0,\n",
       " ('slack_v3e178a59138e4eeda0b43734f0f6216a_1', 'x4'): 160.0,\n",
       " ('slack_v3e178a59138e4eeda0b43734f0f6216a_1', 'x5'): 80.0,\n",
       " ('slack_v3e178a59138e4eeda0b43734f0f6216a_1', 'x9'): 1280.0,\n",
       " ('slack_v3e178a59138e4eeda0b43734f0f6216a_1',\n",
       "  'slack_v3e178a59138e4eeda0b43734f0f6216a_0'): 40.0,\n",
       " ('slack_v3e178a59138e4eeda0b43734f0f6216a_2', 'x0'): 320.0,\n",
       " ('slack_v3e178a59138e4eeda0b43734f0f6216a_2', 'x1'): 160.0,\n",
       " ('slack_v3e178a59138e4eeda0b43734f0f6216a_2', 'x10'): 1280.0,\n",
       " ('slack_v3e178a59138e4eeda0b43734f0f6216a_2', 'x11'): 640.0,\n",
       " ('slack_v3e178a59138e4eeda0b43734f0f6216a_2', 'x2'): 80.0,\n",
       " ('slack_v3e178a59138e4eeda0b43734f0f6216a_2', 'x3'): 640.0,\n",
       " ('slack_v3e178a59138e4eeda0b43734f0f6216a_2', 'x4'): 320.0,\n",
       " ('slack_v3e178a59138e4eeda0b43734f0f6216a_2', 'x5'): 160.0,\n",
       " ('slack_v3e178a59138e4eeda0b43734f0f6216a_2', 'x9'): 2560.0,\n",
       " ('slack_v3e178a59138e4eeda0b43734f0f6216a_2',\n",
       "  'slack_v3e178a59138e4eeda0b43734f0f6216a_0'): 80.0,\n",
       " ('slack_v3e178a59138e4eeda0b43734f0f6216a_2',\n",
       "  'slack_v3e178a59138e4eeda0b43734f0f6216a_1'): 160.0,\n",
       " ('slack_v3e178a59138e4eeda0b43734f0f6216a_3', 'x0'): 480.0,\n",
       " ('slack_v3e178a59138e4eeda0b43734f0f6216a_3', 'x1'): 240.0,\n",
       " ('slack_v3e178a59138e4eeda0b43734f0f6216a_3', 'x10'): 1920.0,\n",
       " ('slack_v3e178a59138e4eeda0b43734f0f6216a_3', 'x11'): 960.0,\n",
       " ('slack_v3e178a59138e4eeda0b43734f0f6216a_3', 'x2'): 120.0,\n",
       " ('slack_v3e178a59138e4eeda0b43734f0f6216a_3', 'x3'): 960.0,\n",
       " ('slack_v3e178a59138e4eeda0b43734f0f6216a_3', 'x4'): 480.0,\n",
       " ('slack_v3e178a59138e4eeda0b43734f0f6216a_3', 'x5'): 240.0,\n",
       " ('slack_v3e178a59138e4eeda0b43734f0f6216a_3', 'x9'): 3840.0,\n",
       " ('slack_v3e178a59138e4eeda0b43734f0f6216a_3',\n",
       "  'slack_v3e178a59138e4eeda0b43734f0f6216a_0'): 120.0,\n",
       " ('slack_v3e178a59138e4eeda0b43734f0f6216a_3',\n",
       "  'slack_v3e178a59138e4eeda0b43734f0f6216a_1'): 240.0,\n",
       " ('slack_v3e178a59138e4eeda0b43734f0f6216a_3',\n",
       "  'slack_v3e178a59138e4eeda0b43734f0f6216a_2'): 480.0,\n",
       " ('slack_ve11c49facda2426496c9caa9d37fdcee_0', 'x0'): 80.0,\n",
       " ('slack_ve11c49facda2426496c9caa9d37fdcee_0', 'x1'): 40.0,\n",
       " ('slack_ve11c49facda2426496c9caa9d37fdcee_0', 'x10'): 320.0,\n",
       " ('slack_ve11c49facda2426496c9caa9d37fdcee_0', 'x11'): 160.0,\n",
       " ('slack_ve11c49facda2426496c9caa9d37fdcee_0', 'x2'): 20.0,\n",
       " ('slack_ve11c49facda2426496c9caa9d37fdcee_0', 'x6'): 320.0,\n",
       " ('slack_ve11c49facda2426496c9caa9d37fdcee_0', 'x7'): 160.0,\n",
       " ('slack_ve11c49facda2426496c9caa9d37fdcee_0', 'x8'): 80.0,\n",
       " ('slack_ve11c49facda2426496c9caa9d37fdcee_0', 'x9'): 640.0,\n",
       " ('slack_ve11c49facda2426496c9caa9d37fdcee_1', 'x0'): 160.0,\n",
       " ('slack_ve11c49facda2426496c9caa9d37fdcee_1', 'x1'): 80.0,\n",
       " ('slack_ve11c49facda2426496c9caa9d37fdcee_1', 'x10'): 640.0,\n",
       " ('slack_ve11c49facda2426496c9caa9d37fdcee_1', 'x11'): 320.0,\n",
       " ('slack_ve11c49facda2426496c9caa9d37fdcee_1', 'x2'): 40.0,\n",
       " ('slack_ve11c49facda2426496c9caa9d37fdcee_1', 'x6'): 640.0,\n",
       " ('slack_ve11c49facda2426496c9caa9d37fdcee_1', 'x7'): 320.0,\n",
       " ('slack_ve11c49facda2426496c9caa9d37fdcee_1', 'x8'): 160.0,\n",
       " ('slack_ve11c49facda2426496c9caa9d37fdcee_1', 'x9'): 1280.0,\n",
       " ('slack_ve11c49facda2426496c9caa9d37fdcee_1',\n",
       "  'slack_ve11c49facda2426496c9caa9d37fdcee_0'): 40.0,\n",
       " ('slack_ve11c49facda2426496c9caa9d37fdcee_2', 'x0'): 320.0,\n",
       " ('slack_ve11c49facda2426496c9caa9d37fdcee_2', 'x1'): 160.0,\n",
       " ('slack_ve11c49facda2426496c9caa9d37fdcee_2', 'x10'): 1280.0,\n",
       " ('slack_ve11c49facda2426496c9caa9d37fdcee_2', 'x11'): 640.0,\n",
       " ('slack_ve11c49facda2426496c9caa9d37fdcee_2', 'x2'): 80.0,\n",
       " ('slack_ve11c49facda2426496c9caa9d37fdcee_2', 'x6'): 1280.0,\n",
       " ('slack_ve11c49facda2426496c9caa9d37fdcee_2', 'x7'): 640.0,\n",
       " ('slack_ve11c49facda2426496c9caa9d37fdcee_2', 'x8'): 320.0,\n",
       " ('slack_ve11c49facda2426496c9caa9d37fdcee_2', 'x9'): 2560.0,\n",
       " ('slack_ve11c49facda2426496c9caa9d37fdcee_2',\n",
       "  'slack_ve11c49facda2426496c9caa9d37fdcee_0'): 80.0,\n",
       " ('slack_ve11c49facda2426496c9caa9d37fdcee_2',\n",
       "  'slack_ve11c49facda2426496c9caa9d37fdcee_1'): 160.0,\n",
       " ('slack_ve11c49facda2426496c9caa9d37fdcee_3', 'x0'): 480.0,\n",
       " ('slack_ve11c49facda2426496c9caa9d37fdcee_3', 'x1'): 240.0,\n",
       " ('slack_ve11c49facda2426496c9caa9d37fdcee_3', 'x10'): 1920.0,\n",
       " ('slack_ve11c49facda2426496c9caa9d37fdcee_3', 'x11'): 960.0,\n",
       " ('slack_ve11c49facda2426496c9caa9d37fdcee_3', 'x2'): 120.0,\n",
       " ('slack_ve11c49facda2426496c9caa9d37fdcee_3', 'x6'): 1920.0,\n",
       " ('slack_ve11c49facda2426496c9caa9d37fdcee_3', 'x7'): 960.0,\n",
       " ('slack_ve11c49facda2426496c9caa9d37fdcee_3', 'x8'): 480.0,\n",
       " ('slack_ve11c49facda2426496c9caa9d37fdcee_3', 'x9'): 3840.0,\n",
       " ('slack_ve11c49facda2426496c9caa9d37fdcee_3',\n",
       "  'slack_ve11c49facda2426496c9caa9d37fdcee_0'): 120.0,\n",
       " ('slack_ve11c49facda2426496c9caa9d37fdcee_3',\n",
       "  'slack_ve11c49facda2426496c9caa9d37fdcee_1'): 240.0,\n",
       " ('slack_ve11c49facda2426496c9caa9d37fdcee_3',\n",
       "  'slack_ve11c49facda2426496c9caa9d37fdcee_2'): 480.0,\n",
       " ('x0', 'x0'): -1769.0,\n",
       " ('x1', 'x1'): -968.0,\n",
       " ('x10', 'x10'): -3194.0,\n",
       " ('x11', 'x11'): -2826.0,\n",
       " ('x2', 'x2'): -502.0,\n",
       " ('x3', 'x3'): -1448.0,\n",
       " ('x4', 'x4'): -886.0,\n",
       " ('x5', 'x5'): -474.0,\n",
       " ('x6', 'x6'): -1606.0,\n",
       " ('x7', 'x7'): -1442.0,\n",
       " ('x8', 'x8'): -858.0,\n",
       " ('x9', 'x9'): 3838.0,\n",
       " ('slack_v3e178a59138e4eeda0b43734f0f6216a_0',\n",
       "  'slack_v3e178a59138e4eeda0b43734f0f6216a_0'): -250.0,\n",
       " ('slack_v3e178a59138e4eeda0b43734f0f6216a_1',\n",
       "  'slack_v3e178a59138e4eeda0b43734f0f6216a_1'): -480.0,\n",
       " ('slack_v3e178a59138e4eeda0b43734f0f6216a_2',\n",
       "  'slack_v3e178a59138e4eeda0b43734f0f6216a_2'): -880.0,\n",
       " ('slack_v3e178a59138e4eeda0b43734f0f6216a_3',\n",
       "  'slack_v3e178a59138e4eeda0b43734f0f6216a_3'): -1200.0,\n",
       " ('slack_ve11c49facda2426496c9caa9d37fdcee_0',\n",
       "  'slack_ve11c49facda2426496c9caa9d37fdcee_0'): -250.0,\n",
       " ('slack_ve11c49facda2426496c9caa9d37fdcee_1',\n",
       "  'slack_ve11c49facda2426496c9caa9d37fdcee_1'): -480.0,\n",
       " ('slack_ve11c49facda2426496c9caa9d37fdcee_2',\n",
       "  'slack_ve11c49facda2426496c9caa9d37fdcee_2'): -880.0,\n",
       " ('slack_ve11c49facda2426496c9caa9d37fdcee_3',\n",
       "  'slack_ve11c49facda2426496c9caa9d37fdcee_3'): -1200.0}"
      ]
     },
     "execution_count": 58,
     "metadata": {},
     "output_type": "execute_result"
    }
   ],
   "source": [
    "qubo"
   ]
  },
  {
   "cell_type": "code",
   "execution_count": 59,
   "id": "5ab258a0",
   "metadata": {},
   "outputs": [
    {
     "data": {
      "text/plain": [
       "3420.0"
      ]
     },
     "execution_count": 59,
     "metadata": {},
     "output_type": "execute_result"
    }
   ],
   "source": [
    "offset"
   ]
  },
  {
   "cell_type": "code",
   "execution_count": 60,
   "id": "f23a7065",
   "metadata": {},
   "outputs": [],
   "source": [
    "cqm_problem = CQM(problem=wsp, time=5)"
   ]
  },
  {
   "cell_type": "code",
   "execution_count": 61,
   "id": "78ad8dc8",
   "metadata": {},
   "outputs": [
    {
     "name": "stdout",
     "output_type": "stream",
     "text": [
      "{'x0': 0.0, 'x1': 0.0, 'x10': 0.0, 'x11': 1.0, 'x2': 1.0, 'x3': 0.0, 'x4': 1.0, 'x5': 0.0, 'x6': 0.0, 'x7': 0.0, 'x8': 1.0, 'x9': 0.0}\n"
     ]
    }
   ],
   "source": [
    "solution = cqm_problem.solve()\n",
    "print(solution)"
   ]
  },
  {
   "cell_type": "code",
   "execution_count": 62,
   "id": "a10fe9b9",
   "metadata": {},
   "outputs": [
    {
     "data": {
      "text/plain": [
       "{'Task4': 'MachineD',\n",
       " 'Task1': 'MachineD',\n",
       " 'Task2': 'MachineB',\n",
       " 'Task3': 'MachineD'}"
      ]
     },
     "execution_count": 62,
     "metadata": {},
     "output_type": "execute_result"
    }
   ],
   "source": [
    "wsp.decode_solution(solution)"
   ]
  },
  {
   "cell_type": "code",
   "execution_count": 73,
   "id": "6530d17a",
   "metadata": {},
   "outputs": [],
   "source": [
    "from QHyper.solvers.gurobi.gurobi import Gurobi"
   ]
  },
  {
   "cell_type": "code",
   "execution_count": 74,
   "id": "547056e3",
   "metadata": {},
   "outputs": [],
   "source": [
    "gurobi = Gurobi(problem=wsp)"
   ]
  },
  {
   "cell_type": "code",
   "execution_count": 98,
   "id": "dc591348",
   "metadata": {},
   "outputs": [],
   "source": [
    "%autoreload 2"
   ]
  },
  {
   "cell_type": "code",
   "execution_count": 99,
   "id": "f79834fc",
   "metadata": {},
   "outputs": [
    {
     "name": "stdout",
     "output_type": "stream",
     "text": [
      "{x0: <gurobi.Var x0>, x1: <gurobi.Var x1>, x2: <gurobi.Var x2>, x3: <gurobi.Var x3>, x4: <gurobi.Var x4>, x5: <gurobi.Var x5>, x6: <gurobi.Var x6>, x7: <gurobi.Var x7>, x8: <gurobi.Var x8>, x9: <gurobi.Var x9>, x10: <gurobi.Var x10>, x11: <gurobi.Var x11>}\n"
     ]
    },
    {
     "ename": "TypeError",
     "evalue": "'dict_keys' object is not subscriptable",
     "output_type": "error",
     "traceback": [
      "\u001b[0;31m---------------------------------------------------------------------------\u001b[0m",
      "\u001b[0;31mTypeError\u001b[0m                                 Traceback (most recent call last)",
      "Cell \u001b[0;32mIn[99], line 1\u001b[0m\n\u001b[0;32m----> 1\u001b[0m \u001b[43mgurobi\u001b[49m\u001b[38;5;241;43m.\u001b[39;49m\u001b[43msolve\u001b[49m\u001b[43m(\u001b[49m\u001b[43m)\u001b[49m\n",
      "File \u001b[0;32m~/Coding/QHyper/demo/QHyper/solvers/gurobi/gurobi.py:20\u001b[0m, in \u001b[0;36mGurobi.solve\u001b[0;34m(self)\u001b[0m\n\u001b[1;32m     18\u001b[0m gpm\u001b[38;5;241m.\u001b[39mupdate()\n\u001b[1;32m     19\u001b[0m \u001b[38;5;28mprint\u001b[39m(\u001b[38;5;28mvars\u001b[39m)\n\u001b[0;32m---> 20\u001b[0m \u001b[38;5;28mprint\u001b[39m(\u001b[38;5;28mtype\u001b[39m(\u001b[38;5;28;43mvars\u001b[39;49m\u001b[38;5;241;43m.\u001b[39;49m\u001b[43mkeys\u001b[49m\u001b[43m(\u001b[49m\u001b[43m)\u001b[49m\u001b[43m[\u001b[49m\u001b[38;5;241;43m0\u001b[39;49m\u001b[43m]\u001b[49m))\n\u001b[1;32m     22\u001b[0m \u001b[38;5;28mprint\u001b[39m((\u001b[38;5;28mself\u001b[39m\u001b[38;5;241m.\u001b[39mproblem\u001b[38;5;241m.\u001b[39mobjective_function\u001b[38;5;241m.\u001b[39mpolynomial))\n\u001b[1;32m     23\u001b[0m obj_fun \u001b[38;5;241m=\u001b[39m \u001b[38;5;28mself\u001b[39m\u001b[38;5;241m.\u001b[39mproblem\u001b[38;5;241m.\u001b[39mobjective_function\u001b[38;5;241m.\u001b[39mas_dict()\n",
      "\u001b[0;31mTypeError\u001b[0m: 'dict_keys' object is not subscriptable"
     ]
    }
   ],
   "source": [
    "gurobi.solve()"
   ]
  },
  {
   "cell_type": "code",
   "execution_count": null,
   "id": "a0d02076",
   "metadata": {},
   "outputs": [],
   "source": []
  }
 ],
 "metadata": {
  "kernelspec": {
   "display_name": "Python 3 (ipykernel)",
   "language": "python",
   "name": "python3"
  },
  "language_info": {
   "codemirror_mode": {
    "name": "ipython",
    "version": 3
   },
   "file_extension": ".py",
   "mimetype": "text/x-python",
   "name": "python",
   "nbconvert_exporter": "python",
   "pygments_lexer": "ipython3",
   "version": "3.10.8"
  }
 },
 "nbformat": 4,
 "nbformat_minor": 5
}
