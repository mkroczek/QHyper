{
 "cells": [
  {
   "cell_type": "code",
   "execution_count": 16,
   "metadata": {},
   "outputs": [],
   "source": [
    "import pennylane as qml\n",
    "import numpy as np\n",
    "\n",
    "from QHyper.optimizers.cem import CEM\n",
    "from QHyper.optimizers.random import Random\n",
    "from QHyper.optimizers.qml_gradient_descent import QmlGradientDescent\n",
    "from QHyper.solvers.qaoa.core import QAOA\n",
    "from QHyper.solvers.converter import Converter"
   ]
  },
  {
   "cell_type": "markdown",
   "metadata": {},
   "source": [
    "## TSP problem"
   ]
  },
  {
   "cell_type": "code",
   "execution_count": 3,
   "metadata": {},
   "outputs": [],
   "source": [
    "from QHyper.problems.tsp import TSPProblem"
   ]
  },
  {
   "cell_type": "code",
   "execution_count": 4,
   "metadata": {},
   "outputs": [],
   "source": [
    "tsp = TSPProblem(\n",
    "    number_of_cities=3,\n",
    ")"
   ]
  },
  {
   "cell_type": "code",
   "execution_count": 6,
   "metadata": {},
   "outputs": [
    {
     "name": "stdout",
     "output_type": "stream",
     "text": [
      "+0.6461134730199508*(+x0*x4+x3*x7+x6*x1)+0.36604300091974296*(+x0*x5+x3*x8+x6*x2)+0.6461134730199508*(+x1*x3+x4*x6+x7*x0)+1.0*(+x1*x5+x4*x8+x7*x2)+0.36604300091974296*(+x2*x3+x5*x6+x8*x0)+1.0*(+x2*x4+x5*x7+x8*x1)\n"
     ]
    }
   ],
   "source": [
    "print(tsp.objective_function)"
   ]
  },
  {
   "cell_type": "code",
   "execution_count": null,
   "metadata": {},
   "outputs": [],
   "source": [
    "solver = QAOA(\n",
    "    problem=tsp,\n",
    "    platform=\"pennylane\",\n",
    "    optimizer=QmlGradientDescent(qml.AdamOptimizer(stepsize=0.05), 200),\n",
    "    layers=5,\n",
    "    angles=[[0.5]*5, [0.5]*5],\n",
    "    # mixer: str=,\n",
    "    weights=[1, 1, 1],\n",
    "    # hyperoptimizer=CEM(\n",
    "    #     epochs=5,\n",
    "    #     samples_per_epoch=100,\n",
    "    #     elite_frac=0.1\n",
    "    # ),\n",
    "    # backend=\n",
    ")"
   ]
  },
  {
   "cell_type": "code",
   "execution_count": null,
   "metadata": {},
   "outputs": [],
   "source": [
    "value, params, weights = solver.solve()"
   ]
  },
  {
   "cell_type": "code",
   "execution_count": null,
   "metadata": {},
   "outputs": [],
   "source": [
    "value"
   ]
  },
  {
   "cell_type": "code",
   "execution_count": null,
   "metadata": {},
   "outputs": [],
   "source": [
    "probs = solver.get_probs_func(weights)(params)"
   ]
  },
  {
   "cell_type": "code",
   "execution_count": null,
   "metadata": {},
   "outputs": [],
   "source": [
    "solver.check_results(probs)"
   ]
  },
  {
   "cell_type": "code",
   "execution_count": null,
   "metadata": {},
   "outputs": [],
   "source": [
    "solver.print_results(probs)"
   ]
  },
  {
   "cell_type": "markdown",
   "metadata": {},
   "source": [
    "## Knapsack problem"
   ]
  },
  {
   "cell_type": "code",
   "execution_count": 7,
   "metadata": {},
   "outputs": [],
   "source": [
    "from QHyper.problems.knapsack import Knapsack, KnapsackProblem"
   ]
  },
  {
   "cell_type": "code",
   "execution_count": 19,
   "metadata": {},
   "outputs": [],
   "source": [
    "kp = KnapsackProblem(max_weight=2, items=[(2, 2), (3, 1)])"
   ]
  },
  {
   "cell_type": "code",
   "execution_count": 20,
   "metadata": {},
   "outputs": [
    {
     "data": {
      "text/latex": [
       "$\\displaystyle - 2 x_{0} - x_{1}$"
      ],
      "text/plain": [
       "-2*x0 - x1"
      ]
     },
     "execution_count": 20,
     "metadata": {},
     "output_type": "execute_result"
    }
   ],
   "source": [
    "kp.objective_function.polynomial"
   ]
  },
  {
   "cell_type": "code",
   "execution_count": 22,
   "metadata": {},
   "outputs": [
    {
     "name": "stdout",
     "output_type": "stream",
     "text": [
      "(-x2 - x3 + 1)**2\n",
      "(-2*x0 - 3*x1 + x2 + 2*x3)**2\n"
     ]
    }
   ],
   "source": [
    "for constraint in kp.constraints:\n",
    "    print(constraint.polynomial)"
   ]
  },
  {
   "cell_type": "code",
   "execution_count": 24,
   "metadata": {
    "scrolled": true
   },
   "outputs": [],
   "source": [
    "converter = Converter()\n",
    "kp_cqm = converter.to_cqm(kp)\n",
    "# kp_qubo = converter.to_qubo(kp)"
   ]
  },
  {
   "cell_type": "code",
   "execution_count": 25,
   "metadata": {},
   "outputs": [
    {
     "name": "stdout",
     "output_type": "stream",
     "text": [
      "Constrained quadratic model: 4 variables, 2 constraints, 15 biases\n",
      "\n",
      "Objective\n",
      "  -2*Binary('x0') - Binary('x1')\n",
      "\n",
      "Constraints\n",
      "  cc0831d: 1 - Binary('x2') - Binary('x3') + 2*Binary('x2')*Binary('x3') == 0.0\n",
      "  c54867f: 4*Binary('x0') + 9*Binary('x1') + Binary('x2') + 4*Binary('x3') + 12*Binary('x0')*Binary('x1') - 4*Binary('x0')*Binary('x2') - 6*Binary('x1')*Binary('x2') - 8*Binary('x0')*Binary('x3') - 12*Binary('x1')*Binary('x3') + 4*Binary('x2')*Binary('x3') == 0.0\n",
      "\n",
      "Bounds\n",
      "\n"
     ]
    }
   ],
   "source": [
    "print(kp_cqm)"
   ]
  },
  {
   "cell_type": "code",
   "execution_count": 27,
   "metadata": {},
   "outputs": [],
   "source": [
    "import dimod"
   ]
  },
  {
   "cell_type": "code",
   "execution_count": 28,
   "metadata": {},
   "outputs": [
    {
     "ename": "ValueError",
     "evalue": "CQM must not have any quadratic constraints",
     "output_type": "error",
     "traceback": [
      "\u001b[0;31m---------------------------------------------------------------------------\u001b[0m",
      "\u001b[0;31mValueError\u001b[0m                                Traceback (most recent call last)",
      "Cell \u001b[0;32mIn[28], line 1\u001b[0m\n\u001b[0;32m----> 1\u001b[0m bqm, _ \u001b[38;5;241m=\u001b[39m \u001b[43mdimod\u001b[49m\u001b[38;5;241;43m.\u001b[39;49m\u001b[43mcqm_to_bqm\u001b[49m\u001b[43m(\u001b[49m\u001b[43mkp_cqm\u001b[49m\u001b[43m)\u001b[49m\n",
      "File \u001b[0;32m~/opt/anaconda3/envs/cyf_solver_3_10/lib/python3.10/site-packages/dimod/constrained/constrained.py:2184\u001b[0m, in \u001b[0;36mcqm_to_bqm\u001b[0;34m(cqm, lagrange_multiplier)\u001b[0m\n\u001b[1;32m   2181\u001b[0m sense \u001b[38;5;241m=\u001b[39m constraint\u001b[38;5;241m.\u001b[39msense\n\u001b[1;32m   2183\u001b[0m \u001b[38;5;28;01mif\u001b[39;00m \u001b[38;5;129;01mnot\u001b[39;00m lhs\u001b[38;5;241m.\u001b[39mis_linear():\n\u001b[0;32m-> 2184\u001b[0m     \u001b[38;5;28;01mraise\u001b[39;00m \u001b[38;5;167;01mValueError\u001b[39;00m(\u001b[38;5;124m\"\u001b[39m\u001b[38;5;124mCQM must not have any quadratic constraints\u001b[39m\u001b[38;5;124m\"\u001b[39m)\n\u001b[1;32m   2186\u001b[0m \u001b[38;5;28;01mif\u001b[39;00m lhs\u001b[38;5;241m.\u001b[39mvartype \u001b[38;5;129;01mis\u001b[39;00m Vartype\u001b[38;5;241m.\u001b[39mSPIN:\n\u001b[1;32m   2187\u001b[0m     lhs \u001b[38;5;241m=\u001b[39m lhs\u001b[38;5;241m.\u001b[39mchange_vartype(Vartype\u001b[38;5;241m.\u001b[39mBINARY, inplace\u001b[38;5;241m=\u001b[39m\u001b[38;5;28;01mTrue\u001b[39;00m)\n",
      "\u001b[0;31mValueError\u001b[0m: CQM must not have any quadratic constraints"
     ]
    }
   ],
   "source": [
    "bqm, _ = dimod.cqm_to_bqm(kp_cqm)"
   ]
  },
  {
   "cell_type": "code",
   "execution_count": null,
   "metadata": {},
   "outputs": [],
   "source": [
    "solver = QAOA(\n",
    "    problem=knapsack_qaoa,\n",
    "    platform=\"pennylane\",\n",
    "    optimizer=QmlGradientDescent(qml.AdamOptimizer(stepsize=0.05), 200),\n",
    "    layers=5,\n",
    "    angles=[[0.5]*5, [0.5]*5],\n",
    "    # weights=[2.72616422, 4.59436366, 4.46463072],\n",
    "    weights=[1, 1, 1]\n",
    "    hyperoptimizer=CEM(),\n",
    "    # backend=\n",
    ")\n",
    "value, params, weights = solver.solve()"
   ]
  },
  {
   "cell_type": "code",
   "execution_count": null,
   "metadata": {},
   "outputs": [],
   "source": [
    "value"
   ]
  },
  {
   "cell_type": "code",
   "execution_count": null,
   "metadata": {},
   "outputs": [],
   "source": [
    "probs = solver.get_probs_func(weights)(params)"
   ]
  },
  {
   "cell_type": "code",
   "execution_count": null,
   "metadata": {},
   "outputs": [],
   "source": [
    "solver.check_results(probs)"
   ]
  },
  {
   "cell_type": "code",
   "execution_count": null,
   "metadata": {},
   "outputs": [],
   "source": [
    "solver.print_results(probs)"
   ]
  },
  {
   "cell_type": "markdown",
   "metadata": {},
   "source": [
    "## Workflow Scheduling Problem"
   ]
  },
  {
   "cell_type": "code",
   "execution_count": 29,
   "metadata": {},
   "outputs": [],
   "source": [
    "from QHyper.problems.workflow_scheduling import Workflow, WorkflowSchedulingProblem\n",
    "from QHyper.solvers.converter import Converter"
   ]
  },
  {
   "cell_type": "code",
   "execution_count": 30,
   "metadata": {},
   "outputs": [],
   "source": [
    "tasks_file = \"/Users/jzawalska/Coding/QHyper/QHyper/problems/workflows/workflows_data/workflows/3_tasks_3_machines_1_path.json\"\n",
    "machines_file = \"/Users/jzawalska/Coding/QHyper/QHyper/problems/workflows/workflows_data/machines/machines_for_3_tasks_3_machines_1_path.json\"\n",
    "deadline = 20"
   ]
  },
  {
   "cell_type": "code",
   "execution_count": 31,
   "metadata": {},
   "outputs": [],
   "source": [
    "workflow = Workflow(tasks_file, machines_file, deadline)\n",
    "wsp = WorkflowSchedulingProblem(workflow)"
   ]
  },
  {
   "cell_type": "code",
   "execution_count": 34,
   "metadata": {},
   "outputs": [],
   "source": [
    "converter = Converter()\n",
    "wsp_qubo, offset = converter.to_qubo(wsp)"
   ]
  },
  {
   "cell_type": "code",
   "execution_count": 35,
   "metadata": {},
   "outputs": [
    {
     "name": "stdout",
     "output_type": "stream",
     "text": [
      "{('x1', 'x0'): 260.0, ('x2', 'x0'): 500.0, ('x2', 'x1'): 180.0, ('x3', 'x0'): 360.0, ('x3', 'x1'): 120.0, ('x3', 'x2'): 240.0, ('x4', 'x0'): 120.0, ('x4', 'x1'): 40.0, ('x4', 'x2'): 80.0, ('x4', 'x3'): 80.0, ('x5', 'x0'): 240.0, ('x5', 'x1'): 80.0, ('x5', 'x2'): 160.0, ('x5', 'x3'): 140.0, ('x5', 'x4'): 60.0, ('x6', 'x0'): 1440.0, ('x6', 'x1'): 480.0, ('x6', 'x2'): 960.0, ('x6', 'x3'): 720.0, ('x6', 'x4'): 240.0, ('x6', 'x5'): 480.0, ('x7', 'x0'): 480.0, ('x7', 'x1'): 160.0, ('x7', 'x2'): 320.0, ('x7', 'x3'): 240.0, ('x7', 'x4'): 80.0, ('x7', 'x5'): 160.0, ('x7', 'x6'): 980.0, ('x8', 'x0'): 960.0, ('x8', 'x1'): 320.0, ('x8', 'x2'): 640.0, ('x8', 'x3'): 480.0, ('x8', 'x4'): 160.0, ('x8', 'x5'): 320.0, ('x8', 'x6'): 1940.0, ('x8', 'x7'): 660.0, ('s0', 'x0'): 120.0, ('s0', 'x1'): 40.0, ('s0', 'x2'): 80.0, ('s0', 'x3'): 60.0, ('s0', 'x4'): 20.0, ('s0', 'x5'): 40.0, ('s0', 'x6'): 240.0, ('s0', 'x7'): 80.0, ('s0', 'x8'): 160.0, ('s1', 'x0'): 240.0, ('s1', 'x1'): 80.0, ('s1', 'x2'): 160.0, ('s1', 'x3'): 120.0, ('s1', 'x4'): 40.0, ('s1', 'x5'): 80.0, ('s1', 'x6'): 480.0, ('s1', 'x7'): 160.0, ('s1', 'x8'): 320.0, ('s1', 's0'): 40.0, ('s2', 'x0'): 480.0, ('s2', 'x1'): 160.0, ('s2', 'x2'): 320.0, ('s2', 'x3'): 240.0, ('s2', 'x4'): 80.0, ('s2', 'x5'): 160.0, ('s2', 'x6'): 960.0, ('s2', 'x7'): 320.0, ('s2', 'x8'): 640.0, ('s2', 's0'): 80.0, ('s2', 's1'): 160.0, ('s3', 'x0'): 720.0, ('s3', 'x1'): 240.0, ('s3', 'x2'): 480.0, ('s3', 'x3'): 360.0, ('s3', 'x4'): 120.0, ('s3', 'x5'): 240.0, ('s3', 'x6'): 1440.0, ('s3', 'x7'): 480.0, ('s3', 'x8'): 960.0, ('s3', 's0'): 120.0, ('s3', 's1'): 240.0, ('s3', 's2'): 480.0, ('x0', 'x0'): -2044.0, ('x1', 'x1'): -762.0, ('x2', 'x2'): -1442.0, ('x3', 'x3'): -1117.0, ('x4', 'x4'): -396.0, ('x5', 'x5'): -766.0, ('x6', 'x6'): -3358.0, ('x7', 'x7'): -1434.0, ('x8', 'x8'): -2554.0, ('s0', 's0'): -390.0, ('s1', 's1'): -760.0, ('s2', 's2'): -1440.0, ('s3', 's3'): -2040.0}\n"
     ]
    }
   ],
   "source": [
    "print(wsp_qubo)"
   ]
  },
  {
   "cell_type": "code",
   "execution_count": 38,
   "metadata": {},
   "outputs": [
    {
     "name": "stderr",
     "output_type": "stream",
     "text": [
      "  0%|                                                   | 0/101 [00:02<?, ?it/s]\n"
     ]
    },
    {
     "ename": "AttributeError",
     "evalue": "'numpy.ndarray' object has no attribute 'items'",
     "output_type": "error",
     "traceback": [
      "\u001b[0;31m---------------------------------------------------------------------------\u001b[0m",
      "\u001b[0;31mRemoteTraceback\u001b[0m                           Traceback (most recent call last)",
      "\u001b[0;31mRemoteTraceback\u001b[0m: \n\"\"\"\nTraceback (most recent call last):\n  File \"/Users/jzawalska/opt/anaconda3/envs/cyf_solver_3_10/lib/python3.10/multiprocessing/pool.py\", line 125, in worker\n    result = (True, func(*args, **kwds))\n  File \"/Users/jzawalska/Coding/QHyper/demo/QHyper/optimizers/optimizer.py\", line 110, in func\n    _func = self.func_creator(hyperparams)\n  File \"/Users/jzawalska/Coding/QHyper/demo/QHyper/solvers/qaoa/pennylane.py\", line 127, in get_expval_func\n    cost_operator = self._create_cost_operator(qubo)\n  File \"/Users/jzawalska/Coding/QHyper/demo/QHyper/solvers/qaoa/pennylane.py\", line 83, in _create_cost_operator\n    for variables, coeff in qubo.items():\nAttributeError: 'numpy.ndarray' object has no attribute 'items'\n\"\"\"",
      "\nThe above exception was the direct cause of the following exception:\n",
      "\u001b[0;31mAttributeError\u001b[0m                            Traceback (most recent call last)",
      "Cell \u001b[0;32mIn[38], line 12\u001b[0m\n\u001b[1;32m      1\u001b[0m solver \u001b[38;5;241m=\u001b[39m QAOA(\n\u001b[1;32m      2\u001b[0m     problem\u001b[38;5;241m=\u001b[39mwsp,\n\u001b[1;32m      3\u001b[0m     platform\u001b[38;5;241m=\u001b[39m\u001b[38;5;124m\"\u001b[39m\u001b[38;5;124mpennylane\u001b[39m\u001b[38;5;124m\"\u001b[39m,\n\u001b[0;32m   (...)\u001b[0m\n\u001b[1;32m     10\u001b[0m     \u001b[38;5;66;03m# backend=\u001b[39;00m\n\u001b[1;32m     11\u001b[0m )\n\u001b[0;32m---> 12\u001b[0m value, params, weights \u001b[38;5;241m=\u001b[39m \u001b[43msolver\u001b[49m\u001b[38;5;241;43m.\u001b[39;49m\u001b[43msolve\u001b[49m\u001b[43m(\u001b[49m\u001b[43m)\u001b[49m\n",
      "File \u001b[0;32m~/Coding/QHyper/demo/QHyper/solvers/qaoa/pennylane.py:264\u001b[0m, in \u001b[0;36mPennyLaneQAOA.solve\u001b[0;34m(self)\u001b[0m\n\u001b[1;32m    253\u001b[0m \u001b[38;5;28;01mdef\u001b[39;00m \u001b[38;5;21msolve\u001b[39m(\u001b[38;5;28mself\u001b[39m) \u001b[38;5;241m-\u001b[39m\u001b[38;5;241m>\u001b[39m \u001b[38;5;28mtuple\u001b[39m[\u001b[38;5;28mfloat\u001b[39m, \u001b[38;5;28mlist\u001b[39m[\u001b[38;5;28mfloat\u001b[39m], \u001b[38;5;28mlist\u001b[39m[\u001b[38;5;28mfloat\u001b[39m]]:\n\u001b[1;32m    254\u001b[0m     \u001b[38;5;124;03m\"\"\"Run optimizer and hyperoptimizer (if provided)\u001b[39;00m\n\u001b[1;32m    255\u001b[0m \u001b[38;5;124;03m    If hyperoptimizer is provided in constructor, weights will be optimized first.\u001b[39;00m\n\u001b[1;32m    256\u001b[0m \u001b[38;5;124;03m    Then optimizer takes these weights and returns angles which give the best probabilities.\u001b[39;00m\n\u001b[0;32m   (...)\u001b[0m\n\u001b[1;32m    261\u001b[0m \u001b[38;5;124;03m        Returns tuple of score, angles, weights\u001b[39;00m\n\u001b[1;32m    262\u001b[0m \u001b[38;5;124;03m    \"\"\"\u001b[39;00m\n\u001b[0;32m--> 264\u001b[0m     weights \u001b[38;5;241m=\u001b[39m \u001b[38;5;28;43mself\u001b[39;49m\u001b[38;5;241;43m.\u001b[39;49m\u001b[43mhyperoptimizer\u001b[49m\u001b[38;5;241;43m.\u001b[39;49m\u001b[43mminimize\u001b[49m\u001b[43m(\u001b[49m\n\u001b[1;32m    265\u001b[0m \u001b[43m        \u001b[49m\u001b[43mfunc_creator\u001b[49m\u001b[38;5;241;43m=\u001b[39;49m\u001b[38;5;28;43mself\u001b[39;49m\u001b[38;5;241;43m.\u001b[39;49m\u001b[43mget_expval_func\u001b[49m\u001b[43m,\u001b[49m\u001b[43m \u001b[49m\n\u001b[1;32m    266\u001b[0m \u001b[43m        \u001b[49m\u001b[43moptimizer\u001b[49m\u001b[38;5;241;43m=\u001b[39;49m\u001b[38;5;28;43mself\u001b[39;49m\u001b[38;5;241;43m.\u001b[39;49m\u001b[43moptimizer\u001b[49m\u001b[43m,\u001b[49m\u001b[43m \u001b[49m\n\u001b[1;32m    267\u001b[0m \u001b[43m        \u001b[49m\u001b[43minit\u001b[49m\u001b[38;5;241;43m=\u001b[39;49m\u001b[38;5;28;43mself\u001b[39;49m\u001b[38;5;241;43m.\u001b[39;49m\u001b[43mangles\u001b[49m\u001b[43m,\u001b[49m\u001b[43m \u001b[49m\n\u001b[1;32m    268\u001b[0m \u001b[43m        \u001b[49m\u001b[43mhyperparams_init\u001b[49m\u001b[38;5;241;43m=\u001b[39;49m\u001b[43mnp\u001b[49m\u001b[38;5;241;43m.\u001b[39;49m\u001b[43marray\u001b[49m\u001b[43m(\u001b[49m\u001b[38;5;28;43mself\u001b[39;49m\u001b[38;5;241;43m.\u001b[39;49m\u001b[43mweights\u001b[49m\u001b[43m)\u001b[49m\u001b[43m,\u001b[49m\u001b[43m \u001b[49m\n\u001b[1;32m    269\u001b[0m \u001b[43m        \u001b[49m\u001b[43mevaluation_func\u001b[49m\u001b[38;5;241;43m=\u001b[39;49m\u001b[38;5;28;43mself\u001b[39;49m\u001b[38;5;241;43m.\u001b[39;49m\u001b[43mevaluate\u001b[49m\u001b[43m,\u001b[49m\n\u001b[1;32m    270\u001b[0m \u001b[43m        \u001b[49m\u001b[43mbounds\u001b[49m\u001b[38;5;241;43m=\u001b[39;49m\u001b[43m[\u001b[49m\u001b[38;5;241;43m0.00001\u001b[39;49m\u001b[43m,\u001b[49m\u001b[43m \u001b[49m\u001b[38;5;241;43m100\u001b[39;49m\u001b[43m]\u001b[49m\u001b[43m \u001b[49m\u001b[38;5;66;43;03m#TODO\u001b[39;49;00m\n\u001b[1;32m    271\u001b[0m \u001b[43m    \u001b[49m\u001b[43m)\u001b[49m \u001b[38;5;28;01mif\u001b[39;00m \u001b[38;5;28mself\u001b[39m\u001b[38;5;241m.\u001b[39mhyperoptimizer \u001b[38;5;28;01melse\u001b[39;00m \u001b[38;5;28mself\u001b[39m\u001b[38;5;241m.\u001b[39mweights\n\u001b[1;32m    272\u001b[0m     \u001b[38;5;28mprint\u001b[39m(\u001b[38;5;28mself\u001b[39m\u001b[38;5;241m.\u001b[39mproblem\u001b[38;5;241m.\u001b[39mvariables)\n\u001b[1;32m    273\u001b[0m     qubo \u001b[38;5;241m=\u001b[39m Converter\u001b[38;5;241m.\u001b[39mcreate_qubo(\u001b[38;5;28mself\u001b[39m\u001b[38;5;241m.\u001b[39mproblem, weights)\n",
      "File \u001b[0;32m~/Coding/QHyper/demo/QHyper/optimizers/cem.py:118\u001b[0m, in \u001b[0;36mCEM.minimize\u001b[0;34m(self, func_creator, optimizer, init, hyperparams_init, evaluation_func, bounds)\u001b[0m\n\u001b[1;32m    114\u001b[0m hyperparams \u001b[38;5;241m=\u001b[39m [\n\u001b[1;32m    115\u001b[0m     np\u001b[38;5;241m.\u001b[39mreshape(np\u001b[38;5;241m.\u001b[39marray(hyperparam), hyperparams_init\u001b[38;5;241m.\u001b[39mshape) \u001b[38;5;28;01mfor\u001b[39;00m hyperparam \u001b[38;5;129;01min\u001b[39;00m hyperparams]\n\u001b[1;32m    117\u001b[0m \u001b[38;5;28;01mwith\u001b[39;00m mp\u001b[38;5;241m.\u001b[39mPool(processes\u001b[38;5;241m=\u001b[39m\u001b[38;5;28mself\u001b[39m\u001b[38;5;241m.\u001b[39mprocesses) \u001b[38;5;28;01mas\u001b[39;00m p:\n\u001b[0;32m--> 118\u001b[0m     results \u001b[38;5;241m=\u001b[39m \u001b[38;5;28;43mlist\u001b[39;49m\u001b[43m(\u001b[49m\u001b[43mtqdm\u001b[49m\u001b[38;5;241;43m.\u001b[39;49m\u001b[43mtqdm\u001b[49m\u001b[43m(\u001b[49m\n\u001b[1;32m    119\u001b[0m \u001b[43m        \u001b[49m\u001b[43mp\u001b[49m\u001b[38;5;241;43m.\u001b[39;49m\u001b[43mimap\u001b[49m\u001b[43m(\u001b[49m\u001b[43mwrapper\u001b[49m\u001b[38;5;241;43m.\u001b[39;49m\u001b[43mfunc\u001b[49m\u001b[43m,\u001b[49m\u001b[43m \u001b[49m\u001b[43mhyperparams\u001b[49m\u001b[43m)\u001b[49m\u001b[43m,\u001b[49m\u001b[43m \u001b[49m\u001b[43mtotal\u001b[49m\u001b[38;5;241;43m=\u001b[39;49m\u001b[38;5;28;43mlen\u001b[39;49m\u001b[43m(\u001b[49m\u001b[43mhyperparams\u001b[49m\u001b[43m)\u001b[49m\u001b[43m,\u001b[49m\u001b[43m \u001b[49m\u001b[43mdisable\u001b[49m\u001b[38;5;241;43m=\u001b[39;49m\u001b[38;5;28;43mself\u001b[39;49m\u001b[38;5;241;43m.\u001b[39;49m\u001b[43mdisable_tqdm\u001b[49m\u001b[43m)\u001b[49m\u001b[43m)\u001b[49m\n\u001b[1;32m    121\u001b[0m rewards \u001b[38;5;241m=\u001b[39m np\u001b[38;5;241m.\u001b[39marray([result \u001b[38;5;28;01mfor\u001b[39;00m result \u001b[38;5;129;01min\u001b[39;00m results])\n\u001b[1;32m    123\u001b[0m elite_idxs \u001b[38;5;241m=\u001b[39m rewards\u001b[38;5;241m.\u001b[39margsort()[:\u001b[38;5;28mself\u001b[39m\u001b[38;5;241m.\u001b[39mn_elite]\n",
      "File \u001b[0;32m~/opt/anaconda3/envs/cyf_solver_3_10/lib/python3.10/site-packages/tqdm/std.py:1195\u001b[0m, in \u001b[0;36mtqdm.__iter__\u001b[0;34m(self)\u001b[0m\n\u001b[1;32m   1192\u001b[0m time \u001b[38;5;241m=\u001b[39m \u001b[38;5;28mself\u001b[39m\u001b[38;5;241m.\u001b[39m_time\n\u001b[1;32m   1194\u001b[0m \u001b[38;5;28;01mtry\u001b[39;00m:\n\u001b[0;32m-> 1195\u001b[0m     \u001b[38;5;28;01mfor\u001b[39;00m obj \u001b[38;5;129;01min\u001b[39;00m iterable:\n\u001b[1;32m   1196\u001b[0m         \u001b[38;5;28;01myield\u001b[39;00m obj\n\u001b[1;32m   1197\u001b[0m         \u001b[38;5;66;03m# Update and possibly print the progressbar.\u001b[39;00m\n\u001b[1;32m   1198\u001b[0m         \u001b[38;5;66;03m# Note: does not call self.update(1) for speed optimisation.\u001b[39;00m\n",
      "File \u001b[0;32m~/opt/anaconda3/envs/cyf_solver_3_10/lib/python3.10/multiprocessing/pool.py:873\u001b[0m, in \u001b[0;36mIMapIterator.next\u001b[0;34m(self, timeout)\u001b[0m\n\u001b[1;32m    871\u001b[0m \u001b[38;5;28;01mif\u001b[39;00m success:\n\u001b[1;32m    872\u001b[0m     \u001b[38;5;28;01mreturn\u001b[39;00m value\n\u001b[0;32m--> 873\u001b[0m \u001b[38;5;28;01mraise\u001b[39;00m value\n",
      "\u001b[0;31mAttributeError\u001b[0m: 'numpy.ndarray' object has no attribute 'items'"
     ]
    }
   ],
   "source": [
    "solver = QAOA(\n",
    "    problem=wsp,\n",
    "    platform=\"pennylane\",\n",
    "    optimizer=QmlGradientDescent(qml.AdamOptimizer(stepsize=0.05), 200),\n",
    "    layers=5,\n",
    "    angles=[[0.5]*5, [0.5]*5],\n",
    "    # weights=[2.72616422, 4.59436366, 4.46463072],\n",
    "    weights=[1],\n",
    "    hyperoptimizer=CEM(),\n",
    "    # backend=\n",
    ")\n",
    "value, params, weights = solver.solve()"
   ]
  },
  {
   "cell_type": "code",
   "execution_count": null,
   "metadata": {},
   "outputs": [],
   "source": []
  },
  {
   "cell_type": "code",
   "execution_count": null,
   "metadata": {},
   "outputs": [],
   "source": []
  },
  {
   "cell_type": "code",
   "execution_count": null,
   "metadata": {},
   "outputs": [],
   "source": []
  },
  {
   "cell_type": "code",
   "execution_count": null,
   "metadata": {},
   "outputs": [],
   "source": []
  },
  {
   "cell_type": "code",
   "execution_count": null,
   "metadata": {},
   "outputs": [],
   "source": []
  },
  {
   "cell_type": "code",
   "execution_count": null,
   "metadata": {},
   "outputs": [],
   "source": []
  }
 ],
 "metadata": {
  "kernelspec": {
   "display_name": "Python 3 (ipykernel)",
   "language": "python",
   "name": "python3"
  },
  "language_info": {
   "codemirror_mode": {
    "name": "ipython",
    "version": 3
   },
   "file_extension": ".py",
   "mimetype": "text/x-python",
   "name": "python",
   "nbconvert_exporter": "python",
   "pygments_lexer": "ipython3",
   "version": "3.10.8"
  },
  "vscode": {
   "interpreter": {
    "hash": "59ddf9d140262b8237ab82f293175fe16bdb83dcbb2d03089c8be0234363df8c"
   }
  }
 },
 "nbformat": 4,
 "nbformat_minor": 2
}
