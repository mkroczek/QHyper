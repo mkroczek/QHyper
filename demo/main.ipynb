{
 "cells": [
  {
   "cell_type": "code",
   "execution_count": 1,
   "metadata": {},
   "outputs": [],
   "source": [
    "import pennylane as qml\n",
    "import numpy as np\n",
    "\n",
    "from QHyper.optimizers.cem import CEM\n",
    "from QHyper.optimizers.random import Random\n",
    "from QHyper.optimizers.qml_gradient_descent import QmlGradientDescent\n",
    "from QHyper.solvers.qaoa.core import QAOA\n",
    "from QHyper.optimizers.basinhopping import Basinhopping"
   ]
  },
  {
   "cell_type": "markdown",
   "metadata": {},
   "source": [
    "## TSP problem"
   ]
  },
  {
   "cell_type": "code",
   "execution_count": 10,
   "metadata": {},
   "outputs": [],
   "source": [
    "from QHyper.problems.tsp import TSPProblem"
   ]
  },
  {
   "cell_type": "code",
   "execution_count": 11,
   "metadata": {},
   "outputs": [],
   "source": [
    "tsp = TSPProblem(\n",
    "    number_of_cities=3,\n",
    ")"
   ]
  },
  {
   "cell_type": "code",
   "execution_count": 13,
   "metadata": {},
   "outputs": [],
   "source": [
    "solver = QAOA(\n",
    "    problem=tsp,\n",
    "    platform=\"pennylane\",\n",
    "    optimizer=QmlGradientDescent(qml.AdamOptimizer(stepsize=0.05), 200),\n",
    "    layers=5,\n",
    "    angles=[[0.5]*5, [0.5]*5],\n",
    "    # mixer: str=,\n",
    "    weights=[1, 1, 1],\n",
    "    # hyperoptimizer=CEM(\n",
    "    #     epochs=5,\n",
    "    #     samples_per_epoch=100,\n",
    "    #     elite_frac=0.1\n",
    "    # ),\n",
    "    # backend=\n",
    ")"
   ]
  },
  {
   "cell_type": "code",
   "execution_count": 14,
   "metadata": {},
   "outputs": [],
   "source": [
    "value, params, weights = solver.solve()"
   ]
  },
  {
   "cell_type": "code",
   "execution_count": 20,
   "metadata": {},
   "outputs": [
    {
     "data": {
      "text/plain": [
       "-0.2917606397447146"
      ]
     },
     "execution_count": 20,
     "metadata": {},
     "output_type": "execute_result"
    }
   ],
   "source": [
    "value"
   ]
  },
  {
   "cell_type": "code",
   "execution_count": 21,
   "metadata": {},
   "outputs": [],
   "source": [
    "probs = solver.get_probs_func(weights)(params)"
   ]
  },
  {
   "cell_type": "code",
   "execution_count": 22,
   "metadata": {},
   "outputs": [
    {
     "data": {
      "text/plain": [
       "-0.2917606397447146"
      ]
     },
     "execution_count": 22,
     "metadata": {},
     "output_type": "execute_result"
    }
   ],
   "source": [
    "solver.check_results(probs)"
   ]
  },
  {
   "cell_type": "code",
   "execution_count": 8,
   "metadata": {},
   "outputs": [
    {
     "name": "stdout",
     "output_type": "stream",
     "text": [
      "Key: 001100010 with probability 0.02379   | correct: True, value: 2.33220\n",
      "Key: 010100001 with probability 0.02379   | correct: True, value: 2.33220\n",
      "Key: 001010100 with probability 0.02379   | correct: True, value: 2.33220\n",
      "Key: 100010001 with probability 0.02379   | correct: True, value: 2.33220\n",
      "Key: 010001100 with probability 0.02379   | correct: True, value: 2.33220\n",
      "Key: 100001010 with probability 0.02379   | correct: True, value: 2.33220\n",
      "Key: 001110000 with probability 0.02196   | correct: False\n",
      "Key: 000110001 with probability 0.02196   | correct: False\n",
      "Key: 110000001 with probability 0.02196   | correct: False\n",
      "Key: 110001000 with probability 0.02196   | correct: False\n",
      "Key: 000001110 with probability 0.02196   | correct: False\n",
      "Key: 001000110 with probability 0.02196   | correct: False\n",
      "Key: 000010101 with probability 0.02144   | correct: False\n",
      "Key: 000101010 with probability 0.02144   | correct: False\n",
      "Key: 010101000 with probability 0.02144   | correct: False\n",
      "Key: 101010000 with probability 0.02144   | correct: False\n",
      "Key: 010000101 with probability 0.02144   | correct: False\n",
      "Key: 101000010 with probability 0.02144   | correct: False\n",
      "Key: 011000100 with probability 0.02081   | correct: False\n",
      "Key: 000100011 with probability 0.02081   | correct: False\n",
      "Key: 011100000 with probability 0.02081   | correct: False\n",
      "Key: 100000011 with probability 0.02081   | correct: False\n",
      "Key: 000011100 with probability 0.02081   | correct: False\n",
      "Key: 100011000 with probability 0.02081   | correct: False\n",
      "Key: 000000111 with probability 0.01669   | correct: False\n",
      "Key: 000111000 with probability 0.01669   | correct: False\n",
      "Key: 111000000 with probability 0.01669   | correct: False\n",
      "Key: 011011100 with probability 0.00795   | correct: False\n",
      "Key: 011100011 with probability 0.00795   | correct: False\n",
      "Key: 100011011 with probability 0.00795   | correct: False\n",
      "Key: 111000011 with probability 0.00770   | correct: False\n",
      "Key: 000111011 with probability 0.00770   | correct: False\n",
      "Key: 011000111 with probability 0.00770   | correct: False\n",
      "Key: 011111000 with probability 0.00770   | correct: False\n",
      "Key: 111011000 with probability 0.00770   | correct: False\n",
      "Key: 000011111 with probability 0.00770   | correct: False\n",
      "Key: 101101010 with probability 0.00340   | correct: False\n",
      "Key: 010101101 with probability 0.00340   | correct: False\n",
      "Key: 101010101 with probability 0.00340   | correct: False\n",
      "Key: 001001101 with probability 0.00322   | correct: False\n",
      "Key: 101001001 with probability 0.00322   | correct: False\n",
      "Key: 001101001 with probability 0.00322   | correct: False\n",
      "Key: 011011011 with probability 0.00311   | correct: False\n",
      "Key: 010001000 with probability 0.00287   | correct: False\n",
      "Key: 001010000 with probability 0.00287   | correct: False\n",
      "Key: 001000010 with probability 0.00287   | correct: False\n",
      "Key: 000001010 with probability 0.00287   | correct: False\n",
      "Key: 000010001 with probability 0.00287   | correct: False\n",
      "Key: 010000001 with probability 0.00287   | correct: False\n",
      "Key: 111101000 with probability 0.00271   | correct: False\n",
      "Key: 111000101 with probability 0.00271   | correct: False\n",
      "Key: 000101111 with probability 0.00271   | correct: False\n",
      "Key: 101111000 with probability 0.00271   | correct: False\n",
      "Key: 000111101 with probability 0.00271   | correct: False\n",
      "Key: 101000111 with probability 0.00271   | correct: False\n",
      "Key: 000000000 with probability 0.00226   | correct: False\n",
      "Key: 110110001 with probability 0.00207   | correct: False\n",
      "Key: 110001110 with probability 0.00207   | correct: False\n",
      "Key: 001110110 with probability 0.00207   | correct: False\n",
      "Key: 101100110 with probability 0.00204   | correct: False\n",
      "Key: 100110101 with probability 0.00204   | correct: False\n",
      "Key: 110100101 with probability 0.00204   | correct: False\n",
      "Key: 110101100 with probability 0.00204   | correct: False\n",
      "Key: 101110100 with probability 0.00204   | correct: False\n",
      "Key: 100101110 with probability 0.00204   | correct: False\n",
      "Key: 001001011 with probability 0.00202   | correct: False\n",
      "Key: 001011001 with probability 0.00202   | correct: False\n",
      "Key: 011001001 with probability 0.00202   | correct: False\n",
      "Key: 011000000 with probability 0.00194   | correct: False\n",
      "Key: 000000011 with probability 0.00194   | correct: False\n",
      "Key: 000011000 with probability 0.00194   | correct: False\n",
      "Key: 010001111 with probability 0.00187   | correct: False\n",
      "Key: 010111001 with probability 0.00187   | correct: False\n",
      "Key: 111001010 with probability 0.00187   | correct: False\n",
      "Key: 001010111 with probability 0.00187   | correct: False\n",
      "Key: 111010001 with probability 0.00187   | correct: False\n",
      "Key: 001111010 with probability 0.00187   | correct: False\n",
      "Key: 010010110 with probability 0.00181   | correct: False\n",
      "Key: 110010010 with probability 0.00181   | correct: False\n",
      "Key: 010110010 with probability 0.00181   | correct: False\n",
      "Key: 111110000 with probability 0.00167   | correct: False\n",
      "Key: 111000110 with probability 0.00167   | correct: False\n",
      "Key: 110000111 with probability 0.00167   | correct: False\n",
      "Key: 000110111 with probability 0.00167   | correct: False\n",
      "Key: 110111000 with probability 0.00167   | correct: False\n",
      "Key: 000111110 with probability 0.00167   | correct: False\n",
      "Key: 101101101 with probability 0.00167   | correct: False\n",
      "Key: 011110001 with probability 0.00161   | correct: False\n",
      "Key: 110001011 with probability 0.00161   | correct: False\n",
      "Key: 110011001 with probability 0.00161   | correct: False\n",
      "Key: 001110011 with probability 0.00161   | correct: False\n",
      "Key: 001011110 with probability 0.00161   | correct: False\n",
      "Key: 011001110 with probability 0.00161   | correct: False\n",
      "Key: 010101011 with probability 0.00154   | correct: False\n",
      "Key: 011101010 with probability 0.00154   | correct: False\n",
      "Key: 010011101 with probability 0.00154   | correct: False\n",
      "Key: 101011010 with probability 0.00154   | correct: False\n",
      "Key: 101010011 with probability 0.00154   | correct: False\n",
      "Key: 011010101 with probability 0.00154   | correct: False\n",
      "Key: 100100111 with probability 0.00152   | correct: False\n",
      "Key: 111100100 with probability 0.00152   | correct: False\n",
      "Key: 100111100 with probability 0.00152   | correct: False\n",
      "Key: 110001001 with probability 0.00152   | correct: False\n",
      "Key: 001001110 with probability 0.00152   | correct: False\n",
      "Key: 001110001 with probability 0.00152   | correct: False\n",
      "Key: 001111111 with probability 0.00151   | correct: False\n",
      "Key: 111111001 with probability 0.00151   | correct: False\n",
      "Key: 111001111 with probability 0.00151   | correct: False\n",
      "Key: 000110101 with probability 0.00141   | correct: False\n",
      "Key: 110000101 with probability 0.00141   | correct: False\n",
      "Key: 101110000 with probability 0.00141   | correct: False\n",
      "Key: 000101110 with probability 0.00141   | correct: False\n",
      "Key: 101000110 with probability 0.00141   | correct: False\n",
      "Key: 110101000 with probability 0.00141   | correct: False\n",
      "Key: 110110111 with probability 0.00139   | correct: False\n",
      "Key: 110111110 with probability 0.00139   | correct: False\n",
      "Key: 111110110 with probability 0.00139   | correct: False\n",
      "Key: 010010011 with probability 0.00137   | correct: False\n",
      "Key: 011010010 with probability 0.00137   | correct: False\n",
      "Key: 010011010 with probability 0.00137   | correct: False\n",
      "Key: 111111011 with probability 0.00132   | correct: False\n",
      "Key: 011111111 with probability 0.00132   | correct: False\n",
      "Key: 111011111 with probability 0.00132   | correct: False\n",
      "Key: 100100101 with probability 0.00126   | correct: False\n",
      "Key: 100101100 with probability 0.00126   | correct: False\n",
      "Key: 101100100 with probability 0.00126   | correct: False\n",
      "Key: 111000100 with probability 0.00122   | correct: False\n",
      "Key: 000111100 with probability 0.00122   | correct: False\n",
      "Key: 100000111 with probability 0.00122   | correct: False\n",
      "Key: 111100000 with probability 0.00122   | correct: False\n",
      "Key: 100111000 with probability 0.00122   | correct: False\n",
      "Key: 000100111 with probability 0.00122   | correct: False\n",
      "Key: 111111111 with probability 0.00122   | correct: False\n",
      "Key: 000100100 with probability 0.00121   | correct: False\n",
      "Key: 100000100 with probability 0.00121   | correct: False\n",
      "Key: 100100000 with probability 0.00121   | correct: False\n",
      "Key: 001000001 with probability 0.00116   | correct: False\n",
      "Key: 001001000 with probability 0.00116   | correct: False\n",
      "Key: 000001001 with probability 0.00116   | correct: False\n",
      "Key: 111000001 with probability 0.00115   | correct: False\n",
      "Key: 000111001 with probability 0.00115   | correct: False\n",
      "Key: 001000111 with probability 0.00115   | correct: False\n",
      "Key: 000001111 with probability 0.00115   | correct: False\n",
      "Key: 001111000 with probability 0.00115   | correct: False\n",
      "Key: 111001000 with probability 0.00115   | correct: False\n",
      "Key: 011000101 with probability 0.00105   | correct: False\n",
      "Key: 101000011 with probability 0.00105   | correct: False\n",
      "Key: 101011000 with probability 0.00105   | correct: False\n",
      "Key: 000101011 with probability 0.00105   | correct: False\n",
      "Key: 000011101 with probability 0.00105   | correct: False\n",
      "Key: 011101000 with probability 0.00105   | correct: False\n",
      "Key: 101101100 with probability 0.00103   | correct: False\n",
      "Key: 101100101 with probability 0.00103   | correct: False\n",
      "Key: 100101101 with probability 0.00103   | correct: False\n",
      "Key: 010000010 with probability 0.00102   | correct: False\n",
      "Key: 010010000 with probability 0.00102   | correct: False\n",
      "Key: 000010010 with probability 0.00102   | correct: False\n",
      "Key: 011011001 with probability 0.00101   | correct: False\n",
      "Key: 001011011 with probability 0.00101   | correct: False\n",
      "Key: 011001011 with probability 0.00101   | correct: False\n",
      "Key: 110110100 with probability 0.00101   | correct: False\n",
      "Key: 100110110 with probability 0.00101   | correct: False\n",
      "Key: 110100110 with probability 0.00101   | correct: False\n",
      "Key: 000001101 with probability 0.00099   | correct: False\n",
      "Key: 101000001 with probability 0.00099   | correct: False\n",
      "Key: 000101001 with probability 0.00099   | correct: False\n",
      "Key: 001101000 with probability 0.00099   | correct: False\n",
      "Key: 001000101 with probability 0.00099   | correct: False\n",
      "Key: 101001000 with probability 0.00099   | correct: False\n",
      "Key: 100100100 with probability 0.00096   | correct: False\n",
      "Key: 001001001 with probability 0.00096   | correct: False\n",
      "Key: 001010101 with probability 0.00095   | correct: False\n",
      "Key: 101010001 with probability 0.00095   | correct: False\n",
      "Key: 010101001 with probability 0.00095   | correct: False\n",
      "Key: 101001010 with probability 0.00095   | correct: False\n",
      "Key: 010001101 with probability 0.00095   | correct: False\n",
      "Key: 001101010 with probability 0.00095   | correct: False\n",
      "Key: 101101111 with probability 0.00094   | correct: False\n",
      "Key: 101111101 with probability 0.00094   | correct: False\n",
      "Key: 111101101 with probability 0.00094   | correct: False\n",
      "Key: 100110100 with probability 0.00093   | correct: False\n",
      "Key: 110100100 with probability 0.00093   | correct: False\n",
      "Key: 100100110 with probability 0.00093   | correct: False\n",
      "Key: 000100001 with probability 0.00091   | correct: False\n",
      "Key: 100000001 with probability 0.00091   | correct: False\n",
      "Key: 000001100 with probability 0.00091   | correct: False\n",
      "Key: 100001000 with probability 0.00091   | correct: False\n",
      "Key: 001000100 with probability 0.00091   | correct: False\n",
      "Key: 001100000 with probability 0.00091   | correct: False\n",
      "Key: 110110110 with probability 0.00089   | correct: False\n",
      "Key: 100011001 with probability 0.00085   | correct: False\n",
      "Key: 001100011 with probability 0.00085   | correct: False\n",
      "Key: 100001011 with probability 0.00085   | correct: False\n",
      "Key: 011100001 with probability 0.00085   | correct: False\n",
      "Key: 001011100 with probability 0.00085   | correct: False\n",
      "Key: 011001100 with probability 0.00085   | correct: False\n",
      "Key: 010010010 with probability 0.00084   | correct: False\n",
      "Key: 010010101 with probability 0.00081   | correct: False\n",
      "Key: 101010010 with probability 0.00081   | correct: False\n",
      "Key: 010101010 with probability 0.00081   | correct: False\n",
      "Key: 011011010 with probability 0.00078   | correct: False\n",
      "Key: 011010011 with probability 0.00078   | correct: False\n",
      "Key: 010011011 with probability 0.00078   | correct: False\n",
      "Key: 000000101 with probability 0.00078   | correct: False\n",
      "Key: 000101000 with probability 0.00078   | correct: False\n",
      "Key: 101000000 with probability 0.00078   | correct: False\n",
      "Key: 110001101 with probability 0.00077   | correct: False\n",
      "Key: 101001110 with probability 0.00077   | correct: False\n",
      "Key: 001101110 with probability 0.00077   | correct: False\n",
      "Key: 101110001 with probability 0.00077   | correct: False\n",
      "Key: 110101001 with probability 0.00077   | correct: False\n",
      "Key: 001110101 with probability 0.00077   | correct: False\n",
      "Key: 001100001 with probability 0.00075   | correct: False\n",
      "Key: 001001100 with probability 0.00075   | correct: False\n",
      "Key: 100001001 with probability 0.00075   | correct: False\n",
      "Key: 010000110 with probability 0.00073   | correct: False\n",
      "Key: 010110000 with probability 0.00073   | correct: False\n",
      "Key: 000010110 with probability 0.00073   | correct: False\n",
      "Key: 000110010 with probability 0.00073   | correct: False\n",
      "Key: 110010000 with probability 0.00073   | correct: False\n",
      "Key: 110000010 with probability 0.00073   | correct: False\n",
      "Key: 000000001 with probability 0.00068   | correct: False\n",
      "Key: 001000000 with probability 0.00068   | correct: False\n",
      "Key: 000001000 with probability 0.00068   | correct: False\n",
      "Key: 010101100 with probability 0.00066   | correct: False\n",
      "Key: 010100101 with probability 0.00066   | correct: False\n",
      "Key: 100101010 with probability 0.00066   | correct: False\n",
      "Key: 101010100 with probability 0.00066   | correct: False\n",
      "Key: 100010101 with probability 0.00066   | correct: False\n",
      "Key: 101100010 with probability 0.00066   | correct: False\n",
      "Key: 010111111 with probability 0.00065   | correct: False\n",
      "Key: 111010111 with probability 0.00065   | correct: False\n",
      "Key: 111111010 with probability 0.00065   | correct: False\n",
      "Key: 001101101 with probability 0.00063   | correct: False\n",
      "Key: 101101001 with probability 0.00063   | correct: False\n",
      "Key: 101001101 with probability 0.00063   | correct: False\n",
      "Key: 101011110 with probability 0.00062   | correct: False\n",
      "Key: 011110101 with probability 0.00062   | correct: False\n",
      "Key: 110011101 with probability 0.00062   | correct: False\n",
      "Key: 101110011 with probability 0.00062   | correct: False\n",
      "Key: 110101011 with probability 0.00062   | correct: False\n",
      "Key: 011101110 with probability 0.00062   | correct: False\n",
      "Key: 011101100 with probability 0.00061   | correct: False\n",
      "Key: 100011101 with probability 0.00061   | correct: False\n",
      "Key: 100101011 with probability 0.00061   | correct: False\n",
      "Key: 101011100 with probability 0.00061   | correct: False\n",
      "Key: 011100101 with probability 0.00061   | correct: False\n",
      "Key: 101100011 with probability 0.00061   | correct: False\n",
      "Key: 101100111 with probability 0.00058   | correct: False\n",
      "Key: 111100101 with probability 0.00058   | correct: False\n",
      "Key: 100101111 with probability 0.00058   | correct: False\n",
      "Key: 111101100 with probability 0.00058   | correct: False\n",
      "Key: 100111101 with probability 0.00058   | correct: False\n",
      "Key: 101111100 with probability 0.00058   | correct: False\n",
      "Key: 110001100 with probability 0.00055   | correct: False\n",
      "Key: 001110100 with probability 0.00055   | correct: False\n",
      "Key: 110100001 with probability 0.00055   | correct: False\n",
      "Key: 100110001 with probability 0.00055   | correct: False\n",
      "Key: 001100110 with probability 0.00055   | correct: False\n",
      "Key: 100001110 with probability 0.00055   | correct: False\n",
      "Key: 011101111 with probability 0.00054   | correct: False\n",
      "Key: 111011101 with probability 0.00054   | correct: False\n",
      "Key: 101111011 with probability 0.00054   | correct: False\n",
      "Key: 111101011 with probability 0.00054   | correct: False\n",
      "Key: 011111101 with probability 0.00054   | correct: False\n",
      "Key: 101011111 with probability 0.00054   | correct: False\n",
      "Key: 001111100 with probability 0.00053   | correct: False\n",
      "Key: 111100001 with probability 0.00053   | correct: False\n",
      "Key: 111001100 with probability 0.00053   | correct: False\n",
      "Key: 100001111 with probability 0.00053   | correct: False\n",
      "Key: 001100111 with probability 0.00053   | correct: False\n",
      "Key: 100111001 with probability 0.00053   | correct: False\n",
      "Key: 011101101 with probability 0.00051   | correct: False\n",
      "Key: 101011101 with probability 0.00051   | correct: False\n",
      "Key: 101101011 with probability 0.00051   | correct: False\n",
      "Key: 011101011 with probability 0.00049   | correct: False\n",
      "Key: 011011101 with probability 0.00049   | correct: False\n",
      "Key: 101011011 with probability 0.00049   | correct: False\n",
      "Key: 010111010 with probability 0.00048   | correct: False\n",
      "Key: 010010111 with probability 0.00048   | correct: False\n",
      "Key: 111010010 with probability 0.00048   | correct: False\n",
      "Key: 110010110 with probability 0.00046   | correct: False\n",
      "Key: 010110110 with probability 0.00046   | correct: False\n",
      "Key: 110110010 with probability 0.00046   | correct: False\n",
      "Key: 000000010 with probability 0.00045   | correct: False\n",
      "Key: 010000000 with probability 0.00045   | correct: False\n",
      "Key: 000010000 with probability 0.00045   | correct: False\n",
      "Key: 111000111 with probability 0.00044   | correct: False\n",
      "Key: 000111111 with probability 0.00044   | correct: False\n",
      "Key: 111111000 with probability 0.00044   | correct: False\n",
      "Key: 001010001 with probability 0.00044   | correct: False\n",
      "Key: 010001001 with probability 0.00044   | correct: False\n",
      "Key: 001001010 with probability 0.00044   | correct: False\n",
      "Key: 010100010 with probability 0.00043   | correct: False\n",
      "Key: 100010010 with probability 0.00043   | correct: False\n",
      "Key: 010010100 with probability 0.00043   | correct: False\n",
      "Key: 011001010 with probability 0.00041   | correct: False\n",
      "Key: 001010011 with probability 0.00041   | correct: False\n",
      "Key: 010001011 with probability 0.00041   | correct: False\n",
      "Key: 001011010 with probability 0.00041   | correct: False\n",
      "Key: 010011001 with probability 0.00041   | correct: False\n",
      "Key: 011010001 with probability 0.00041   | correct: False\n",
      "Key: 011001000 with probability 0.00041   | correct: False\n",
      "Key: 011000001 with probability 0.00041   | correct: False\n",
      "Key: 000011001 with probability 0.00041   | correct: False\n",
      "Key: 001011000 with probability 0.00041   | correct: False\n",
      "Key: 001000011 with probability 0.00041   | correct: False\n",
      "Key: 000001011 with probability 0.00041   | correct: False\n",
      "Key: 110110000 with probability 0.00040   | correct: False\n",
      "Key: 000110110 with probability 0.00040   | correct: False\n",
      "Key: 110000110 with probability 0.00040   | correct: False\n",
      "Key: 110000100 with probability 0.00040   | correct: False\n",
      "Key: 110100000 with probability 0.00040   | correct: False\n",
      "Key: 000100110 with probability 0.00040   | correct: False\n",
      "Key: 000110100 with probability 0.00040   | correct: False\n",
      "Key: 100110000 with probability 0.00040   | correct: False\n",
      "Key: 100000110 with probability 0.00040   | correct: False\n",
      "Key: 100000000 with probability 0.00040   | correct: False\n",
      "Key: 000000100 with probability 0.00040   | correct: False\n",
      "Key: 000100000 with probability 0.00040   | correct: False\n",
      "Key: 101101110 with probability 0.00039   | correct: False\n",
      "Key: 101110101 with probability 0.00039   | correct: False\n",
      "Key: 110101101 with probability 0.00039   | correct: False\n",
      "Key: 011111011 with probability 0.00039   | correct: False\n",
      "Key: 111011011 with probability 0.00039   | correct: False\n",
      "Key: 011011111 with probability 0.00039   | correct: False\n",
      "Key: 001101111 with probability 0.00035   | correct: False\n",
      "Key: 111101001 with probability 0.00035   | correct: False\n",
      "Key: 111001101 with probability 0.00035   | correct: False\n",
      "Key: 101001111 with probability 0.00035   | correct: False\n",
      "Key: 001111101 with probability 0.00035   | correct: False\n",
      "Key: 101111001 with probability 0.00035   | correct: False\n",
      "Key: 110011110 with probability 0.00033   | correct: False\n",
      "Key: 110110011 with probability 0.00033   | correct: False\n",
      "Key: 011110110 with probability 0.00033   | correct: False\n",
      "Key: 111001011 with probability 0.00032   | correct: False\n",
      "Key: 001011111 with probability 0.00032   | correct: False\n",
      "Key: 011001111 with probability 0.00032   | correct: False\n",
      "Key: 111011001 with probability 0.00032   | correct: False\n",
      "Key: 001111011 with probability 0.00032   | correct: False\n",
      "Key: 011111001 with probability 0.00032   | correct: False\n",
      "Key: 111111101 with probability 0.00032   | correct: False\n",
      "Key: 111101111 with probability 0.00032   | correct: False\n",
      "Key: 101111111 with probability 0.00032   | correct: False\n",
      "Key: 011100100 with probability 0.00029   | correct: False\n",
      "Key: 100011100 with probability 0.00029   | correct: False\n",
      "Key: 100100011 with probability 0.00029   | correct: False\n",
      "Key: 110100010 with probability 0.00029   | correct: False\n",
      "Key: 110010100 with probability 0.00029   | correct: False\n",
      "Key: 010100110 with probability 0.00029   | correct: False\n",
      "Key: 100010110 with probability 0.00029   | correct: False\n",
      "Key: 100110010 with probability 0.00029   | correct: False\n",
      "Key: 010110100 with probability 0.00029   | correct: False\n",
      "Key: 101100001 with probability 0.00029   | correct: False\n",
      "Key: 100001101 with probability 0.00029   | correct: False\n",
      "Key: 001100101 with probability 0.00029   | correct: False\n",
      "Key: 101001100 with probability 0.00029   | correct: False\n",
      "Key: 100101001 with probability 0.00029   | correct: False\n",
      "Key: 001101100 with probability 0.00029   | correct: False\n",
      "Key: 101110111 with probability 0.00029   | correct: False\n",
      "Key: 110101111 with probability 0.00029   | correct: False\n",
      "Key: 111101110 with probability 0.00029   | correct: False\n",
      "Key: 111110101 with probability 0.00029   | correct: False\n",
      "Key: 110111101 with probability 0.00029   | correct: False\n",
      "Key: 101111110 with probability 0.00029   | correct: False\n",
      "Key: 101000101 with probability 0.00028   | correct: False\n",
      "Key: 101101000 with probability 0.00028   | correct: False\n",
      "Key: 000101101 with probability 0.00028   | correct: False\n",
      "Key: 010100100 with probability 0.00025   | correct: False\n",
      "Key: 100010100 with probability 0.00025   | correct: False\n",
      "Key: 100100010 with probability 0.00025   | correct: False\n",
      "Key: 101010110 with probability 0.00024   | correct: False\n",
      "Key: 010110101 with probability 0.00024   | correct: False\n",
      "Key: 010101110 with probability 0.00024   | correct: False\n",
      "Key: 110101010 with probability 0.00024   | correct: False\n",
      "Key: 101110010 with probability 0.00024   | correct: False\n",
      "Key: 110010101 with probability 0.00024   | correct: False\n",
      "Key: 011111110 with probability 0.00023   | correct: False\n",
      "Key: 111110011 with probability 0.00023   | correct: False\n",
      "Key: 110111011 with probability 0.00023   | correct: False\n",
      "Key: 011110111 with probability 0.00023   | correct: False\n",
      "Key: 110011111 with probability 0.00023   | correct: False\n",
      "Key: 111011110 with probability 0.00023   | correct: False\n",
      "Key: 010111110 with probability 0.00022   | correct: False\n",
      "Key: 111110010 with probability 0.00022   | correct: False\n",
      "Key: 110010111 with probability 0.00022   | correct: False\n",
      "Key: 110111010 with probability 0.00022   | correct: False\n",
      "Key: 111010110 with probability 0.00022   | correct: False\n",
      "Key: 010110111 with probability 0.00022   | correct: False\n",
      "Key: 100111011 with probability 0.00022   | correct: False\n",
      "Key: 100011111 with probability 0.00022   | correct: False\n",
      "Key: 111100011 with probability 0.00022   | correct: False\n",
      "Key: 011100111 with probability 0.00022   | correct: False\n",
      "Key: 011111100 with probability 0.00022   | correct: False\n",
      "Key: 111011100 with probability 0.00022   | correct: False\n",
      "Key: 010100000 with probability 0.00020   | correct: False\n",
      "Key: 100000010 with probability 0.00020   | correct: False\n",
      "Key: 000100010 with probability 0.00020   | correct: False\n",
      "Key: 010000100 with probability 0.00020   | correct: False\n",
      "Key: 000010100 with probability 0.00020   | correct: False\n",
      "Key: 100010000 with probability 0.00020   | correct: False\n",
      "Key: 010101111 with probability 0.00019   | correct: False\n",
      "Key: 010111101 with probability 0.00019   | correct: False\n",
      "Key: 101010111 with probability 0.00019   | correct: False\n",
      "Key: 111101010 with probability 0.00019   | correct: False\n",
      "Key: 111010101 with probability 0.00019   | correct: False\n",
      "Key: 101111010 with probability 0.00019   | correct: False\n",
      "Key: 100110011 with probability 0.00019   | correct: False\n",
      "Key: 100011110 with probability 0.00019   | correct: False\n",
      "Key: 110100011 with probability 0.00019   | correct: False\n",
      "Key: 011100110 with probability 0.00019   | correct: False\n",
      "Key: 011110100 with probability 0.00019   | correct: False\n",
      "Key: 110011100 with probability 0.00019   | correct: False\n",
      "Key: 000101100 with probability 0.00017   | correct: False\n",
      "Key: 101100000 with probability 0.00017   | correct: False\n",
      "Key: 101000100 with probability 0.00017   | correct: False\n",
      "Key: 100000101 with probability 0.00017   | correct: False\n",
      "Key: 000100101 with probability 0.00017   | correct: False\n",
      "Key: 100101000 with probability 0.00017   | correct: False\n",
      "Key: 110001111 with probability 0.00017   | correct: False\n",
      "Key: 001110111 with probability 0.00017   | correct: False\n",
      "Key: 111110001 with probability 0.00017   | correct: False\n",
      "Key: 001111110 with probability 0.00017   | correct: False\n",
      "Key: 110111001 with probability 0.00017   | correct: False\n",
      "Key: 111001110 with probability 0.00017   | correct: False\n",
      "Key: 100111111 with probability 0.00017   | correct: False\n",
      "Key: 111111100 with probability 0.00017   | correct: False\n",
      "Key: 111100111 with probability 0.00017   | correct: False\n",
      "Key: 010110011 with probability 0.00016   | correct: False\n",
      "Key: 011010110 with probability 0.00016   | correct: False\n",
      "Key: 110011010 with probability 0.00016   | correct: False\n",
      "Key: 011110010 with probability 0.00016   | correct: False\n",
      "Key: 110010011 with probability 0.00016   | correct: False\n",
      "Key: 010011110 with probability 0.00016   | correct: False\n",
      "Key: 000000110 with probability 0.00016   | correct: False\n",
      "Key: 110000000 with probability 0.00016   | correct: False\n",
      "Key: 000110000 with probability 0.00016   | correct: False\n",
      "Key: 001111001 with probability 0.00015   | correct: False\n",
      "Key: 001001111 with probability 0.00015   | correct: False\n",
      "Key: 111001001 with probability 0.00015   | correct: False\n",
      "Key: 110010001 with probability 0.00014   | correct: False\n",
      "Key: 010001110 with probability 0.00014   | correct: False\n",
      "Key: 001110010 with probability 0.00014   | correct: False\n",
      "Key: 010110001 with probability 0.00014   | correct: False\n",
      "Key: 110001010 with probability 0.00014   | correct: False\n",
      "Key: 001010110 with probability 0.00014   | correct: False\n",
      "Key: 011000010 with probability 0.00013   | correct: False\n",
      "Key: 000011010 with probability 0.00013   | correct: False\n",
      "Key: 000010011 with probability 0.00013   | correct: False\n",
      "Key: 010011000 with probability 0.00013   | correct: False\n",
      "Key: 010000011 with probability 0.00013   | correct: False\n",
      "Key: 011010000 with probability 0.00013   | correct: False\n",
      "Key: 001011101 with probability 0.00012   | correct: False\n",
      "Key: 001101011 with probability 0.00012   | correct: False\n",
      "Key: 011101001 with probability 0.00012   | correct: False\n",
      "Key: 101001011 with probability 0.00012   | correct: False\n",
      "Key: 011001101 with probability 0.00012   | correct: False\n",
      "Key: 101011001 with probability 0.00012   | correct: False\n",
      "Key: 111010100 with probability 0.00012   | correct: False\n",
      "Key: 100010111 with probability 0.00012   | correct: False\n",
      "Key: 111100010 with probability 0.00012   | correct: False\n",
      "Key: 010100111 with probability 0.00012   | correct: False\n",
      "Key: 100111010 with probability 0.00012   | correct: False\n",
      "Key: 010111100 with probability 0.00012   | correct: False\n",
      "Key: 010001010 with probability 0.00010   | correct: False\n",
      "Key: 001010010 with probability 0.00010   | correct: False\n",
      "Key: 010010001 with probability 0.00010   | correct: False\n",
      "Key: 011100010 with probability 0.00010   | correct: False\n",
      "Key: 010100011 with probability 0.00010   | correct: False\n",
      "Key: 100010011 with probability 0.00010   | correct: False\n",
      "Key: 010011100 with probability 0.00010   | correct: False\n",
      "Key: 100011010 with probability 0.00010   | correct: False\n",
      "Key: 011010100 with probability 0.00010   | correct: False\n",
      "Key: 110111111 with probability 0.00009   | correct: False\n",
      "Key: 111111110 with probability 0.00009   | correct: False\n",
      "Key: 111110111 with probability 0.00009   | correct: False\n",
      "Key: 001100100 with probability 0.00009   | correct: False\n",
      "Key: 100001100 with probability 0.00009   | correct: False\n",
      "Key: 100100001 with probability 0.00009   | correct: False\n",
      "Key: 011000011 with probability 0.00008   | correct: False\n",
      "Key: 000011011 with probability 0.00008   | correct: False\n",
      "Key: 011011000 with probability 0.00008   | correct: False\n",
      "Key: 101110110 with probability 0.00006   | correct: False\n",
      "Key: 110101110 with probability 0.00006   | correct: False\n",
      "Key: 110110101 with probability 0.00006   | correct: False\n",
      "Key: 111110100 with probability 0.00006   | correct: False\n",
      "Key: 100111110 with probability 0.00006   | correct: False\n",
      "Key: 100110111 with probability 0.00006   | correct: False\n",
      "Key: 110111100 with probability 0.00006   | correct: False\n",
      "Key: 110100111 with probability 0.00006   | correct: False\n",
      "Key: 111100110 with probability 0.00006   | correct: False\n",
      "Key: 111011010 with probability 0.00004   | correct: False\n",
      "Key: 111010011 with probability 0.00004   | correct: False\n",
      "Key: 011111010 with probability 0.00004   | correct: False\n",
      "Key: 011010111 with probability 0.00004   | correct: False\n",
      "Key: 010111011 with probability 0.00004   | correct: False\n",
      "Key: 010011111 with probability 0.00004   | correct: False\n",
      "Key: 011110000 with probability 0.00004   | correct: False\n",
      "Key: 110000011 with probability 0.00004   | correct: False\n",
      "Key: 011000110 with probability 0.00004   | correct: False\n",
      "Key: 000011110 with probability 0.00004   | correct: False\n",
      "Key: 000110011 with probability 0.00004   | correct: False\n",
      "Key: 110011000 with probability 0.00004   | correct: False\n",
      "Key: 000111010 with probability 0.00001   | correct: False\n",
      "Key: 111010000 with probability 0.00001   | correct: False\n",
      "Key: 010000111 with probability 0.00001   | correct: False\n",
      "Key: 000010111 with probability 0.00001   | correct: False\n",
      "Key: 111000010 with probability 0.00001   | correct: False\n",
      "Key: 010111000 with probability 0.00001   | correct: False\n",
      "Key: 011011110 with probability 0.00000   | correct: False\n",
      "Key: 011110011 with probability 0.00000   | correct: False\n",
      "Key: 110011011 with probability 0.00000   | correct: False\n"
     ]
    }
   ],
   "source": [
    "solver.print_results(probs)"
   ]
  },
  {
   "cell_type": "markdown",
   "metadata": {},
   "source": [
    "## Knapsack problem"
   ]
  },
  {
   "cell_type": "code",
   "execution_count": 2,
   "metadata": {},
   "outputs": [],
   "source": [
    "from QHyper.problems.knapsack import Knapsack, KnapsackProblem"
   ]
  },
  {
   "cell_type": "code",
   "execution_count": 3,
   "metadata": {},
   "outputs": [],
   "source": [
    "knapsack_qaoa = KnapsackProblem(max_weight=1, items=[(1, 2), (1, 1)])"
   ]
  },
  {
   "cell_type": "code",
   "execution_count": 10,
   "metadata": {},
   "outputs": [
    {
     "data": {
      "text/plain": [
       "(-1.6514748033728461,\n",
       " array([[ 0.64926115,  1.94194176,  1.60774618,  0.51222648, -0.56404832],\n",
       "        [ 1.53541291,  0.69869471, -1.38010585, -0.54584033,  0.1252954 ]]),\n",
       " array([3.24109197, 4.806507  ]))"
      ]
     },
     "execution_count": 10,
     "metadata": {},
     "output_type": "execute_result"
    }
   ],
   "source": [
    "\n",
    "solver = QAOA(\n",
    "    problem=knapsack_qaoa,\n",
    "    platform=\"pennylane\",\n",
    "    optimizer=QmlGradientDescent(qml.AdamOptimizer(stepsize=0.05), 20),\n",
    "    layers=5,\n",
    "    angles=[[0.5]*5, [0.5]*5],\n",
    "    # angles=[\n",
    "        # [-1.55112026,  1.55112018, -5.58403279, -0.39782304, -3.94531351],\n",
    "        # [-7.85398167,  2.35619439,  1.57079633, -3.14159267,  1.96349534]\n",
    "    # ],\n",
    "    weights=[2.72616422, 4.59436366],\n",
    "    # weights=[2.5317127 , -1.26585641],\n",
    "    # hyperoptimizer=CEM()\n",
    "    # hyperoptimizer=Random(number_of_samples=10),\n",
    "    hyperoptimizer=Basinhopping(niter=10, maxiter=2),\n",
    "    # backend=\n",
    ")\n",
    "solver.solve()"
   ]
  },
  {
   "cell_type": "code",
   "execution_count": 7,
   "metadata": {},
   "outputs": [
    {
     "data": {
      "text/plain": [
       "-1.9999999999998352"
      ]
     },
     "execution_count": 7,
     "metadata": {},
     "output_type": "execute_result"
    }
   ],
   "source": [
    "probs = solver.get_probs_func([2.5317127 , -1.26585641])([\n",
    "        [-1.55112026,  1.55112018, -5.58403279, -0.39782304, -3.94531351],\n",
    "        [-7.85398167,  2.35619439,  1.57079633, -3.14159267,  1.96349534]\n",
    "    ])\n",
    "solver.check_results(probs)"
   ]
  },
  {
   "cell_type": "code",
   "execution_count": 11,
   "metadata": {},
   "outputs": [
    {
     "data": {
      "text/plain": [
       "728"
      ]
     },
     "execution_count": 11,
     "metadata": {},
     "output_type": "execute_result"
    }
   ],
   "source": [
    "solver.counter"
   ]
  },
  {
   "cell_type": "code",
   "execution_count": 9,
   "metadata": {},
   "outputs": [
    {
     "data": {
      "text/plain": [
       "845"
      ]
     },
     "execution_count": 9,
     "metadata": {},
     "output_type": "execute_result"
    }
   ],
   "source": [
    "solver.counter"
   ]
  },
  {
   "cell_type": "code",
   "execution_count": 7,
   "metadata": {},
   "outputs": [
    {
     "data": {
      "text/plain": [
       "598"
      ]
     },
     "execution_count": 7,
     "metadata": {},
     "output_type": "execute_result"
    }
   ],
   "source": [
    "solver.counter"
   ]
  },
  {
   "cell_type": "code",
   "execution_count": 5,
   "metadata": {},
   "outputs": [
    {
     "data": {
      "text/plain": [
       "442"
      ]
     },
     "execution_count": 5,
     "metadata": {},
     "output_type": "execute_result"
    }
   ],
   "source": [
    "solver.counter"
   ]
  },
  {
   "cell_type": "code",
   "execution_count": 5,
   "metadata": {},
   "outputs": [
    {
     "name": "stdout",
     "output_type": "stream",
     "text": [
      "-1.9289579553449545\n",
      "0.05975628812245912\n"
     ]
    }
   ],
   "source": [
    "print(np.mean(results))\n",
    "print(np.std(results))"
   ]
  },
  {
   "cell_type": "code",
   "execution_count": 7,
   "metadata": {},
   "outputs": [
    {
     "name": "stdout",
     "output_type": "stream",
     "text": [
      "-1.8427028195151585\n",
      "0.40611565739824845\n"
     ]
    }
   ],
   "source": [
    "print(np.mean(results))\n",
    "print(np.std(results))"
   ]
  },
  {
   "cell_type": "code",
   "execution_count": 16,
   "metadata": {},
   "outputs": [
    {
     "name": "stderr",
     "output_type": "stream",
     "text": [
      "100%|██████████| 100/100 [07:37<00:00,  4.58s/it]\n"
     ]
    }
   ],
   "source": [
    "import multiprocessing as mp\n",
    "import tqdm\n",
    "\n",
    "\n",
    "def wrapper(params):\n",
    "    solver = QAOA(\n",
    "        problem=knapsack_qaoa,\n",
    "        platform=\"pennylane\",\n",
    "        optimizer=QmlGradientDescent(qml.AdamOptimizer(stepsize=0.05), 200),\n",
    "        layers=5,\n",
    "        angles=[[params[0]]*5, [params[1]]*5],\n",
    "        # weights=[2.72616422, 4.59436366, 4.46463072],\n",
    "        weights=[1, 2],\n",
    "        hyperoptimizer=Basinhopping(niters=),\n",
    "        # hyperoptimizer=CEM(),\n",
    "        # backend=\n",
    "    )\n",
    "    return solver.solve()\n",
    "\n",
    "# weights = [1, 2, 2]\n",
    "samples = 100\n",
    "\n",
    "# angles = np.random.rand(samples, *np.array([[0.5]*5, [0.5]*5]).shape)\n",
    "angles = np.random.rand(samples, 2)\n",
    "        \n",
    "with mp.Pool(processes=mp.cpu_count()) as p:\n",
    "    results = list(tqdm.tqdm(\n",
    "        p.imap(wrapper, angles), total=samples))\n",
    "\n",
    "min_idx = np.argmin([result[0] for result in results])"
   ]
  },
  {
   "cell_type": "code",
   "execution_count": 18,
   "metadata": {},
   "outputs": [
    {
     "data": {
      "text/plain": [
       "(-1.5628950378594761,\n",
       " tensor([[0.79079128, 0.94395285, 0.74740293, 0.82420623, 0.77746254],\n",
       "         [0.78169731, 1.79544682, 0.89165862, 1.11840858, 0.77773129]], requires_grad=True),\n",
       " [1, 2, 2])"
      ]
     },
     "execution_count": 18,
     "metadata": {},
     "output_type": "execute_result"
    }
   ],
   "source": [
    "results[min_idx]"
   ]
  },
  {
   "cell_type": "code",
   "execution_count": 13,
   "metadata": {},
   "outputs": [
    {
     "data": {
      "text/plain": [
       "(-1.9231064307286414,\n",
       " tensor([[ 0.67657702,  0.89682613,  1.06466848,  0.27857396,  0.5876597 ],\n",
       "         [ 1.56435016,  0.81713401,  0.21456158,  0.18467615, -0.10288467]], requires_grad=True),\n",
       " [1, 2, 2])"
      ]
     },
     "execution_count": 13,
     "metadata": {},
     "output_type": "execute_result"
    }
   ],
   "source": [
    "results[min_idx] # 1000"
   ]
  },
  {
   "cell_type": "code",
   "execution_count": 11,
   "metadata": {},
   "outputs": [
    {
     "data": {
      "text/plain": [
       "(-1.7636075482979467,\n",
       " tensor([[ 0.68864928,  0.88361648,  0.25525783,  0.63796315,  0.99512499],\n",
       "         [ 1.52913702,  0.69534212, -0.12530048, -0.23152105, -0.24981503]], requires_grad=True),\n",
       " [1, 2, 2])"
      ]
     },
     "execution_count": 11,
     "metadata": {},
     "output_type": "execute_result"
    }
   ],
   "source": [
    "results[min_idx] # 100"
   ]
  },
  {
   "cell_type": "code",
   "execution_count": 5,
   "metadata": {},
   "outputs": [],
   "source": [
    "value, params, weights = solver.solve()"
   ]
  },
  {
   "cell_type": "code",
   "execution_count": 5,
   "metadata": {},
   "outputs": [
    {
     "ename": "NameError",
     "evalue": "name 'value' is not defined",
     "output_type": "error",
     "traceback": [
      "\u001b[0;31m---------------------------------------------------------------------------\u001b[0m",
      "\u001b[0;31mNameError\u001b[0m                                 Traceback (most recent call last)",
      "Cell \u001b[0;32mIn[5], line 1\u001b[0m\n\u001b[0;32m----> 1\u001b[0m value\n",
      "\u001b[0;31mNameError\u001b[0m: name 'value' is not defined"
     ]
    }
   ],
   "source": [
    "value"
   ]
  },
  {
   "cell_type": "code",
   "execution_count": 6,
   "metadata": {},
   "outputs": [],
   "source": [
    "probs = solver.get_probs_func(weights)(params)"
   ]
  },
  {
   "cell_type": "code",
   "execution_count": 19,
   "metadata": {},
   "outputs": [
    {
     "data": {
      "text/plain": [
       "-0.2917606397447146"
      ]
     },
     "execution_count": 19,
     "metadata": {},
     "output_type": "execute_result"
    }
   ],
   "source": [
    "solver.check_results(probs)"
   ]
  },
  {
   "cell_type": "code",
   "execution_count": 14,
   "metadata": {},
   "outputs": [
    {
     "name": "stdout",
     "output_type": "stream",
     "text": [
      "Key: 0010 with probability 0.25850   | correct: False\n",
      "Key: 1001 with probability 0.14187   | correct: True, value: 2.00000\n",
      "Key: 0101 with probability 0.11084   | correct: False\n",
      "Key: 0000 with probability 0.08537   | correct: True, value: 0.00000\n",
      "Key: 0011 with probability 0.06687   | correct: False\n",
      "Key: 1000 with probability 0.05655   | correct: False\n",
      "Key: 1111 with probability 0.05458   | correct: False\n",
      "Key: 1011 with probability 0.05321   | correct: False\n",
      "Key: 1101 with probability 0.04499   | correct: False\n",
      "Key: 0111 with probability 0.03739   | correct: False\n",
      "Key: 1010 with probability 0.03001   | correct: False\n",
      "Key: 0100 with probability 0.02799   | correct: False\n",
      "Key: 1100 with probability 0.01426   | correct: False\n",
      "Key: 1110 with probability 0.00932   | correct: False\n",
      "Key: 0110 with probability 0.00628   | correct: False\n",
      "Key: 0001 with probability 0.00199   | correct: False\n"
     ]
    }
   ],
   "source": [
    "solver.print_results(probs)"
   ]
  },
  {
   "cell_type": "code",
   "execution_count": 21,
   "metadata": {},
   "outputs": [],
   "source": [
    "import pennylane as qml\n",
    "import numpy as np\n",
    "import multiprocessing as mp\n",
    "import tqdm\n",
    "import itertools\n",
    "\n",
    "from QHyper.optimizers.cem import CEM\n",
    "from QHyper.optimizers.random import Random\n",
    "from QHyper.optimizers.shgo import Shgo\n",
    "from QHyper.optimizers.qml_gradient_descent import QmlGradientDescent\n",
    "from QHyper.solvers.qaoa.core import QAOA\n",
    "\n",
    "from QHyper.problems.knapsack import Knapsack, KnapsackProblem\n",
    "\n",
    "def compute(params):\n",
    "    angles, weights = params\n",
    "    knapsack_qaoa = KnapsackProblem(max_weight=1, items=[(1, 2), (1, 1)])\n",
    "\n",
    "    solver = QAOA(\n",
    "        problem=knapsack_qaoa,\n",
    "        platform=\"pennylane\",\n",
    "        optimizer=QmlGradientDescent(qml.AdamOptimizer(stepsize=0.05), 200),\n",
    "        layers=5,\n",
    "        angles=[[angles[0]]*5, [angles[1]]*5],\n",
    "        weights=weights,\n",
    "    )\n",
    "\n",
    "    value, params, weights = solver.solve()\n",
    "    return value, params, weights"
   ]
  },
  {
   "cell_type": "code",
   "execution_count": 18,
   "metadata": {},
   "outputs": [],
   "source": [
    "angles_samples = 3\n",
    "weights_samples = 2\n",
    "\n",
    "angles = np.random.rand(angles_samples, 2)\n",
    "weights = 10*np.random.rand(weights_samples, 3) + 1\n"
   ]
  },
  {
   "cell_type": "code",
   "execution_count": 19,
   "metadata": {},
   "outputs": [
    {
     "data": {
      "text/plain": [
       "[(array([0.88896497, 0.93709417]),\n",
       "  array([3.15229747, 7.33439839, 7.87729378])),\n",
       " (array([0.88896497, 0.93709417]),\n",
       "  array([ 4.50765762,  6.57945019, 10.34825826])),\n",
       " (array([0.31961787, 0.900045  ]),\n",
       "  array([3.15229747, 7.33439839, 7.87729378])),\n",
       " (array([0.31961787, 0.900045  ]),\n",
       "  array([ 4.50765762,  6.57945019, 10.34825826])),\n",
       " (array([0.11611688, 0.88807239]),\n",
       "  array([3.15229747, 7.33439839, 7.87729378])),\n",
       " (array([0.11611688, 0.88807239]),\n",
       "  array([ 4.50765762,  6.57945019, 10.34825826]))]"
      ]
     },
     "execution_count": 19,
     "metadata": {},
     "output_type": "execute_result"
    }
   ],
   "source": [
    "params = list(itertools.product(angles,weights))\n",
    "params"
   ]
  },
  {
   "cell_type": "code",
   "execution_count": 22,
   "metadata": {},
   "outputs": [
    {
     "name": "stderr",
     "output_type": "stream",
     "text": [
      "100%|██████████| 6/6 [00:21<00:00,  3.60s/it]"
     ]
    },
    {
     "name": "stdout",
     "output_type": "stream",
     "text": [
      "(-1.9769337352580112, tensor([[0.89102361, 0.86116821, 0.87637958, 0.94982761, 0.80780986],\n",
      "        [0.69840863, 0.5480527 , 1.1515491 , 1.36703555, 0.38543498]], requires_grad=True), array([ 4.50765762,  6.57945019, 10.34825826]))\n"
     ]
    },
    {
     "name": "stderr",
     "output_type": "stream",
     "text": [
      "\n"
     ]
    }
   ],
   "source": [
    "\n",
    "with mp.Pool(processes=mp.cpu_count()) as p:\n",
    "    results = list(tqdm.tqdm(p.imap(compute, params), total=angles_samples*weights_samples))\n",
    "\n",
    "min_idx = np.argmin([result[0] for result in results])\n",
    "print(results[min_idx])\n"
   ]
  },
  {
   "cell_type": "code",
   "execution_count": null,
   "metadata": {},
   "outputs": [],
   "source": []
  }
 ],
 "metadata": {
  "kernelspec": {
   "display_name": "Python 3.10.6 ('venv': venv)",
   "language": "python",
   "name": "python3"
  },
  "language_info": {
   "codemirror_mode": {
    "name": "ipython",
    "version": 3
   },
   "file_extension": ".py",
   "mimetype": "text/x-python",
   "name": "python",
   "nbconvert_exporter": "python",
   "pygments_lexer": "ipython3",
   "version": "3.10.6 (main, Nov 14 2022, 16:10:14) [GCC 11.3.0]"
  },
  "orig_nbformat": 4,
  "vscode": {
   "interpreter": {
    "hash": "59ddf9d140262b8237ab82f293175fe16bdb83dcbb2d03089c8be0234363df8c"
   }
  }
 },
 "nbformat": 4,
 "nbformat_minor": 2
}
